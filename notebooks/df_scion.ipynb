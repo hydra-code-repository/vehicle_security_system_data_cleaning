{
 "cells": [
  {
   "cell_type": "code",
   "execution_count": 1,
   "metadata": {},
   "outputs": [],
   "source": [
    "import pandas as pd"
   ]
  },
  {
   "cell_type": "code",
   "execution_count": 2,
   "metadata": {},
   "outputs": [],
   "source": [
    "# Read excel\n",
    "df = pd.read_excel(\"C:\\\\Language_Projects\\\\Language_Projects\\\\Python\\\\Flagship_1\\\\vehicle_security_system_data_cleaning\\\\data\\\\year_make_model_df.xlsx\")"
   ]
  },
  {
   "cell_type": "code",
   "execution_count": 3,
   "metadata": {},
   "outputs": [],
   "source": [
    "# Create df\n",
    "df_scion = df[df[\"Make\"] == \"Scion\"]"
   ]
  },
  {
   "cell_type": "code",
   "execution_count": 4,
   "metadata": {},
   "outputs": [
    {
     "name": "stdout",
     "output_type": "stream",
     "text": [
      "<class 'pandas.core.frame.DataFrame'>\n",
      "Index: 34 entries, 1331 to 3380\n",
      "Data columns (total 5 columns):\n",
      " #   Column          Non-Null Count  Dtype \n",
      "---  ------          --------------  ----- \n",
      " 0   Year            34 non-null     int64 \n",
      " 1   Make            34 non-null     object\n",
      " 2   Model           34 non-null     object\n",
      " 3   Security        18 non-null     object\n",
      " 4   ParameterReset  0 non-null      object\n",
      "dtypes: int64(1), object(4)\n",
      "memory usage: 1.6+ KB\n"
     ]
    }
   ],
   "source": [
    "# Check the dataframe to see how it is\n",
    "df_scion.info()"
   ]
  },
  {
   "cell_type": "code",
   "execution_count": 5,
   "metadata": {},
   "outputs": [],
   "source": [
    "# Function to create list with unique items from given column\n",
    "def data_from_column(df, column):\n",
    "    # List to append the items\n",
    "    data_column_list =[]\n",
    "\n",
    "    # Iterate over given column\n",
    "    for data in df[column]:\n",
    "        # Append the items from the given column\n",
    "        data_column_list.append(data)\n",
    "\n",
    "    # Return a set with unique items from given column\n",
    "    return set(data_column_list)"
   ]
  },
  {
   "cell_type": "code",
   "execution_count": 6,
   "metadata": {},
   "outputs": [
    {
     "data": {
      "text/plain": [
       "{'FR-S', 'IQ', 'IQ EV', 'tC', 'xA', 'xB', 'xD'}"
      ]
     },
     "execution_count": 6,
     "metadata": {},
     "output_type": "execute_result"
    }
   ],
   "source": [
    "# Call the function to create a set with unique items from column model\n",
    "data_from_column(df_scion, \"Model\")"
   ]
  },
  {
   "cell_type": "markdown",
   "metadata": {},
   "source": [
    "No changes are needed in the Model column as all models are correct described."
   ]
  },
  {
   "cell_type": "code",
   "execution_count": 7,
   "metadata": {},
   "outputs": [
    {
     "data": {
      "text/plain": [
       "{'Opt', 'Smart', 'Smart Key Std', 'Std', 'Std\\nSmart Opt', 'Std Smart', nan}"
      ]
     },
     "execution_count": 7,
     "metadata": {},
     "output_type": "execute_result"
    }
   ],
   "source": [
    "# Call the function to create a set with unique items from column Security\n",
    "data_from_column(df_scion, \"Security\")"
   ]
  },
  {
   "cell_type": "markdown",
   "metadata": {},
   "source": [
    "CHANGES NEEDED:\n",
    "- Fill out null values.\n",
    "- Remove/replace the charactere '\\n' for space ' '"
   ]
  },
  {
   "cell_type": "code",
   "execution_count": 8,
   "metadata": {},
   "outputs": [
    {
     "name": "stderr",
     "output_type": "stream",
     "text": [
      "C:\\Users\\Weverson Barbieri\\AppData\\Local\\Temp\\ipykernel_27592\\2101698778.py:2: SettingWithCopyWarning: \n",
      "A value is trying to be set on a copy of a slice from a DataFrame.\n",
      "Try using .loc[row_indexer,col_indexer] = value instead\n",
      "\n",
      "See the caveats in the documentation: https://pandas.pydata.org/pandas-docs/stable/user_guide/indexing.html#returning-a-view-versus-a-copy\n",
      "  df_scion['Security'] = df_scion['Security'].str.replace('\\n', ' ', regex=True)\n"
     ]
    }
   ],
   "source": [
    "# Remove/replace the charactere '\\n' for space ' '\n",
    "df_scion['Security'] = df_scion['Security'].str.replace('\\n', ' ', regex=True)"
   ]
  },
  {
   "cell_type": "code",
   "execution_count": 9,
   "metadata": {},
   "outputs": [
    {
     "name": "stderr",
     "output_type": "stream",
     "text": [
      "C:\\Users\\Weverson Barbieri\\AppData\\Local\\Temp\\ipykernel_27592\\2815490269.py:2: FutureWarning: A value is trying to be set on a copy of a DataFrame or Series through chained assignment using an inplace method.\n",
      "The behavior will change in pandas 3.0. This inplace method will never work because the intermediate object on which we are setting values always behaves as a copy.\n",
      "\n",
      "For example, when doing 'df[col].method(value, inplace=True)', try using 'df.method({col: value}, inplace=True)' or df[col] = df[col].method(value) instead, to perform the operation inplace on the original object.\n",
      "\n",
      "\n",
      "  df_scion['Security'].fillna('Information not available', inplace=True)\n",
      "C:\\Users\\Weverson Barbieri\\AppData\\Local\\Temp\\ipykernel_27592\\2815490269.py:2: SettingWithCopyWarning: \n",
      "A value is trying to be set on a copy of a slice from a DataFrame\n",
      "\n",
      "See the caveats in the documentation: https://pandas.pydata.org/pandas-docs/stable/user_guide/indexing.html#returning-a-view-versus-a-copy\n",
      "  df_scion['Security'].fillna('Information not available', inplace=True)\n"
     ]
    }
   ],
   "source": [
    "# Fill out null values\n",
    "df_scion['Security'].fillna('Information not available', inplace=True)"
   ]
  },
  {
   "cell_type": "code",
   "execution_count": 10,
   "metadata": {},
   "outputs": [
    {
     "data": {
      "text/plain": [
       "{'Information not available',\n",
       " 'Opt',\n",
       " 'Smart',\n",
       " 'Smart Key Std',\n",
       " 'Std',\n",
       " 'Std Smart',\n",
       " 'Std Smart Opt'}"
      ]
     },
     "execution_count": 10,
     "metadata": {},
     "output_type": "execute_result"
    }
   ],
   "source": [
    "# Call the function to create a set with unique items from column Security\n",
    "data_from_column(df_scion, \"Security\")"
   ]
  },
  {
   "cell_type": "code",
   "execution_count": 11,
   "metadata": {},
   "outputs": [],
   "source": [
    "# Delete ParameterReset column as it is empty\n",
    "df_scion_column_removed = df_scion.drop(columns=['ParameterReset'])"
   ]
  },
  {
   "cell_type": "code",
   "execution_count": 12,
   "metadata": {},
   "outputs": [],
   "source": [
    "# Reset index\n",
    "df_scion_reset_index = df_scion_column_removed.reset_index(drop=True)"
   ]
  },
  {
   "cell_type": "code",
   "execution_count": null,
   "metadata": {},
   "outputs": [],
   "source": [
    "# Export the to .csv file\n",
    "# df_scion_reset_index.to_csv('C:\\\\Language_Projects\\\\Language_Projects\\\\Python\\\\Flagship_1\\\\vehicle_security_system_data_cleaning\\\\data\\\\df_scion.csv', index=False)"
   ]
  }
 ],
 "metadata": {
  "kernelspec": {
   "display_name": "venv",
   "language": "python",
   "name": "python3"
  },
  "language_info": {
   "codemirror_mode": {
    "name": "ipython",
    "version": 3
   },
   "file_extension": ".py",
   "mimetype": "text/x-python",
   "name": "python",
   "nbconvert_exporter": "python",
   "pygments_lexer": "ipython3",
   "version": "3.12.2"
  }
 },
 "nbformat": 4,
 "nbformat_minor": 2
}
