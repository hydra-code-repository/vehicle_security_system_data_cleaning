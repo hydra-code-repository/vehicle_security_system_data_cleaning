{
 "cells": [
  {
   "cell_type": "code",
   "execution_count": 1,
   "metadata": {},
   "outputs": [],
   "source": [
    "import pandas as pd"
   ]
  },
  {
   "cell_type": "code",
   "execution_count": 2,
   "metadata": {},
   "outputs": [],
   "source": [
    "# Read excel\n",
    "df = pd.read_excel(\"C:\\\\Language_Projects\\\\Language_Projects\\\\Python\\\\Flagship_1\\\\vehicle_security_system_data_cleaning\\\\data\\\\year_make_model_df.xlsx\")"
   ]
  },
  {
   "cell_type": "code",
   "execution_count": null,
   "metadata": {},
   "outputs": [],
   "source": [
    "# Create df\n",
    "df_fiat = df[df[\"Make\"] == \"Fiat\"]"
   ]
  },
  {
   "cell_type": "code",
   "execution_count": 4,
   "metadata": {},
   "outputs": [],
   "source": [
    "# Function to create list with unique items from given column\n",
    "def data_from_column(df, column):\n",
    "    # List to append the items\n",
    "    data_column_list =[]\n",
    "\n",
    "    # Iterate over given column\n",
    "    for data in df[column]:\n",
    "        # Append the items from the given column\n",
    "        data_column_list.append(data)\n",
    "\n",
    "    # Return a set with unique items from given column\n",
    "    return set(data_column_list)"
   ]
  },
  {
   "cell_type": "code",
   "execution_count": 9,
   "metadata": {},
   "outputs": [
    {
     "name": "stdout",
     "output_type": "stream",
     "text": [
      "<class 'pandas.core.frame.DataFrame'>\n",
      "Index: 3 entries, 2794 to 3259\n",
      "Data columns (total 5 columns):\n",
      " #   Column          Non-Null Count  Dtype \n",
      "---  ------          --------------  ----- \n",
      " 0   Year            3 non-null      int64 \n",
      " 1   Make            3 non-null      object\n",
      " 2   Model           3 non-null      object\n",
      " 3   Security        3 non-null      object\n",
      " 4   ParameterReset  0 non-null      object\n",
      "dtypes: int64(1), object(4)\n",
      "memory usage: 144.0+ bytes\n"
     ]
    }
   ],
   "source": [
    "# Check the dataframe\n",
    "df_fiat.info()"
   ]
  },
  {
   "cell_type": "markdown",
   "metadata": {},
   "source": [
    "CHANGES NEEDED:\n",
    "- Drop column ParameterReset as it is empty."
   ]
  },
  {
   "cell_type": "code",
   "execution_count": 6,
   "metadata": {},
   "outputs": [],
   "source": [
    "# Drop column ParameterReset\n",
    "df_fiat_dropped_column = df_fiat.drop(columns=['ParameterReset'])"
   ]
  },
  {
   "cell_type": "code",
   "execution_count": 7,
   "metadata": {},
   "outputs": [],
   "source": [
    "# Reset index\n",
    "df_fiat_updated = df_fiat_dropped_column.reset_index(drop=True)"
   ]
  },
  {
   "cell_type": "code",
   "execution_count": null,
   "metadata": {},
   "outputs": [],
   "source": [
    "# Export the to .csv file\n",
    "# df_fiat_updated.to_csv('C:\\\\Language_Projects\\\\Language_Projects\\\\Python\\\\Flagship_1\\\\vehicle_security_system_data_cleaning\\\\data\\\\df_fiat.csv', index=False)"
   ]
  }
 ],
 "metadata": {
  "kernelspec": {
   "display_name": "venv",
   "language": "python",
   "name": "python3"
  },
  "language_info": {
   "codemirror_mode": {
    "name": "ipython",
    "version": 3
   },
   "file_extension": ".py",
   "mimetype": "text/x-python",
   "name": "python",
   "nbconvert_exporter": "python",
   "pygments_lexer": "ipython3",
   "version": "3.12.2"
  }
 },
 "nbformat": 4,
 "nbformat_minor": 2
}
