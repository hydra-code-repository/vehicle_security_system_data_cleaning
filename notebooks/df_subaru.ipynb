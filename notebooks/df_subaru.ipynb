{
 "cells": [
  {
   "cell_type": "code",
   "execution_count": 1,
   "metadata": {},
   "outputs": [],
   "source": [
    "import pandas as pd\n",
    "import os"
   ]
  },
  {
   "cell_type": "code",
   "execution_count": 2,
   "metadata": {},
   "outputs": [],
   "source": [
    "# This function creates the path to the main Excel file of this project\n",
    "# Uses os library methods to ensure the file path works in both local and GitHub CI/CD environments\n",
    "def create_file_path(file_relative_path):\n",
    "    # Store the xlsx file dir into a var\n",
    "    dir = '../data'\n",
    "    \n",
    "    # Iterate under dir data to have all files\n",
    "    for filename in os.listdir(dir):\n",
    "        # Condition to confirm which file is == year_make_model_df.xlsx\n",
    "        if filename.endswith(file_relative_path):\n",
    "            # Join the dir + filename to create the path to year_make_model_df.xlsx file  \n",
    "            xlsx_file_fullpath = os.path.join(dir, filename)\n",
    "            # Print the result\n",
    "            print(xlsx_file_fullpath)\n",
    "    return xlsx_file_fullpath"
   ]
  },
  {
   "cell_type": "code",
   "execution_count": 3,
   "metadata": {},
   "outputs": [
    {
     "name": "stdout",
     "output_type": "stream",
     "text": [
      "../data\\year_make_model_df.xlsx\n"
     ]
    }
   ],
   "source": [
    "# Read excel \n",
    "df = pd.read_excel(create_file_path('year_make_model_df.xlsx'))"
   ]
  },
  {
   "cell_type": "code",
   "execution_count": 4,
   "metadata": {},
   "outputs": [],
   "source": [
    "# Create df\n",
    "df_subaru = df[df[\"Make\"] == \"Subaru\"]"
   ]
  },
  {
   "cell_type": "code",
   "execution_count": 5,
   "metadata": {},
   "outputs": [
    {
     "name": "stdout",
     "output_type": "stream",
     "text": [
      "<class 'pandas.core.frame.DataFrame'>\n",
      "Index: 53 entries, 1334 to 3387\n",
      "Data columns (total 5 columns):\n",
      " #   Column          Non-Null Count  Dtype \n",
      "---  ------          --------------  ----- \n",
      " 0   Year            53 non-null     int64 \n",
      " 1   Make            53 non-null     object\n",
      " 2   Model           53 non-null     object\n",
      " 3   Security        46 non-null     object\n",
      " 4   ParameterReset  0 non-null      object\n",
      "dtypes: int64(1), object(4)\n",
      "memory usage: 2.5+ KB\n"
     ]
    }
   ],
   "source": [
    "# Check the dataframe to see how it is\n",
    "df_subaru.info()"
   ]
  },
  {
   "cell_type": "code",
   "execution_count": 5,
   "metadata": {},
   "outputs": [],
   "source": [
    "# Function to create list with unique items from given column\n",
    "def data_from_column(df, column):\n",
    "    # List to append the items\n",
    "    data_column_list =[]\n",
    "\n",
    "    # Iterate over given column\n",
    "    for data in df[column]:\n",
    "        # Append the items from the given column\n",
    "        data_column_list.append(data)\n",
    "\n",
    "    # Return a set with unique items from given column\n",
    "    return set(data_column_list)"
   ]
  },
  {
   "cell_type": "code",
   "execution_count": 6,
   "metadata": {},
   "outputs": [
    {
     "data": {
      "text/plain": [
       "{'B9 Tribeca (2006 – 2007)\\nTribeca (2008 – onward)',\n",
       " 'BRZ',\n",
       " 'Baja',\n",
       " 'Forester',\n",
       " 'Impreza',\n",
       " 'Legacy',\n",
       " 'Outback',\n",
       " 'XV Crosstrek'}"
      ]
     },
     "execution_count": 6,
     "metadata": {},
     "output_type": "execute_result"
    }
   ],
   "source": [
    "# Call the function to create a set with unique items from column model\n",
    "data_from_column(df_subaru, \"Model\")"
   ]
  },
  {
   "cell_type": "markdown",
   "metadata": {},
   "source": [
    "### Changes needed:\n",
    "- Explode B9 Tribeca and Tribeca models in separate lines\n",
    "- Remove the string (2006 - 2007) from model B9 Tribeca\n",
    "- Remove the string (2008 - onward) from model Tribeca "
   ]
  },
  {
   "cell_type": "code",
   "execution_count": 7,
   "metadata": {},
   "outputs": [],
   "source": [
    "# Explode models B9 Tribeca and Tribeca in 2 separate lines\n",
    "df_subaru_tribeca_models_exploded = df_subaru.assign(Model=df_subaru['Model'].str.split(\"\\n\")).explode(\"Model\")"
   ]
  },
  {
   "cell_type": "code",
   "execution_count": 8,
   "metadata": {},
   "outputs": [],
   "source": [
    "# Remove the string (2006 - 2007) from model B9 Tribeca\n",
    "df_subaru_tribeca_models_exploded['Model'] = df_subaru_tribeca_models_exploded['Model'].str.replace('B9 Tribeca (2006 – 2007)', 'B9 Tribeca', regex=False)"
   ]
  },
  {
   "cell_type": "code",
   "execution_count": 9,
   "metadata": {},
   "outputs": [],
   "source": [
    "# Remove the string (2008 - onward) from model Tribeca\n",
    "df_subaru_tribeca_models_exploded['Model'] = df_subaru_tribeca_models_exploded['Model'].str.replace('Tribeca (2008 – onward)', 'Tribeca', regex=False)"
   ]
  },
  {
   "cell_type": "code",
   "execution_count": 10,
   "metadata": {},
   "outputs": [
    {
     "data": {
      "text/plain": [
       "{'B9 Tribeca',\n",
       " 'BRZ',\n",
       " 'Baja',\n",
       " 'Forester',\n",
       " 'Impreza',\n",
       " 'Legacy',\n",
       " 'Outback',\n",
       " 'Tribeca',\n",
       " 'XV Crosstrek'}"
      ]
     },
     "execution_count": 10,
     "metadata": {},
     "output_type": "execute_result"
    }
   ],
   "source": [
    "# Call the funtion to create a set with unique models after changes\n",
    "data_from_column(df_subaru_tribeca_models_exploded, 'Model')"
   ]
  },
  {
   "cell_type": "code",
   "execution_count": 11,
   "metadata": {},
   "outputs": [],
   "source": [
    "# Drop column ParameterReset\n",
    "df_subaru_dropped_pr_column = df_subaru_tribeca_models_exploded.drop(columns=['ParameterReset'])"
   ]
  },
  {
   "cell_type": "code",
   "execution_count": 12,
   "metadata": {},
   "outputs": [
    {
     "data": {
      "text/plain": [
       "{'Std 2.5\\nXT',\n",
       " 'Std 2.5\\nXT &\\n3.0 R',\n",
       " 'Std 2.5 GT',\n",
       " 'Std 2.5 XT',\n",
       " 'Std WRX\\nSTI',\n",
       " 'Std all\\nvariants',\n",
       " 'Std all Variants',\n",
       " 'Std all WRX &\\nWRX STI',\n",
       " 'Std all variants',\n",
       " nan}"
      ]
     },
     "execution_count": 12,
     "metadata": {},
     "output_type": "execute_result"
    }
   ],
   "source": [
    "# Call the function to create a set with unique items from column security\n",
    "data_from_column(df_subaru_dropped_pr_column, \"Security\")"
   ]
  },
  {
   "cell_type": "markdown",
   "metadata": {},
   "source": [
    "CHANGES NEEDED:\n",
    "- Fill out null values.\n",
    "- Replace the charactere '\\n' by space ' '."
   ]
  },
  {
   "cell_type": "code",
   "execution_count": 13,
   "metadata": {},
   "outputs": [
    {
     "name": "stderr",
     "output_type": "stream",
     "text": [
      "C:\\Users\\Weverson Barbieri\\AppData\\Local\\Temp\\ipykernel_2884\\1839461870.py:2: FutureWarning: A value is trying to be set on a copy of a DataFrame or Series through chained assignment using an inplace method.\n",
      "The behavior will change in pandas 3.0. This inplace method will never work because the intermediate object on which we are setting values always behaves as a copy.\n",
      "\n",
      "For example, when doing 'df[col].method(value, inplace=True)', try using 'df.method({col: value}, inplace=True)' or df[col] = df[col].method(value) instead, to perform the operation inplace on the original object.\n",
      "\n",
      "\n",
      "  df_subaru_dropped_pr_column['Security'].fillna('Information not available', inplace=True)\n"
     ]
    }
   ],
   "source": [
    "# Fill out null values\n",
    "df_subaru_dropped_pr_column['Security'].fillna('Information not available', inplace=True)"
   ]
  },
  {
   "cell_type": "code",
   "execution_count": 14,
   "metadata": {},
   "outputs": [],
   "source": [
    "# Replace the charactere '\\n' by space ' '\n",
    "df_subaru_dropped_pr_column['Security'] = df_subaru_dropped_pr_column['Security'].str.replace('\\n', ' ', regex=False)"
   ]
  },
  {
   "cell_type": "code",
   "execution_count": 15,
   "metadata": {},
   "outputs": [],
   "source": [
    "# Function to check if there are duplicated values\n",
    "def check_duplicated_values(df):\n",
    "    # Create a column with bool values showing whether or not there are duplicated values\n",
    "    df['Dups'] = df.duplicated()\n",
    "    # Return bool values counted\n",
    "    return df['Dups'].value_counts()"
   ]
  },
  {
   "cell_type": "code",
   "execution_count": null,
   "metadata": {},
   "outputs": [
    {
     "data": {
      "text/plain": [
       "Dups\n",
       "False    61\n",
       "Name: count, dtype: int64"
      ]
     },
     "execution_count": 16,
     "metadata": {},
     "output_type": "execute_result"
    }
   ],
   "source": [
    "# Call the function to check dup values\n",
    "check_duplicated_values(df_subaru_dropped_pr_column)"
   ]
  },
  {
   "cell_type": "code",
   "execution_count": null,
   "metadata": {},
   "outputs": [],
   "source": [
    "# Export the to .csv file\n",
    "# df_subaru_dropped_pr_column.to_csv('C:\\\\Language_Projects\\\\Language_Projects\\\\Python\\\\Flagship_1\\\\vehicle_security_system_data_cleaning\\\\data\\\\df_subaru.csv', index=False)"
   ]
  }
 ],
 "metadata": {
  "kernelspec": {
   "display_name": "venv",
   "language": "python",
   "name": "python3"
  },
  "language_info": {
   "codemirror_mode": {
    "name": "ipython",
    "version": 3
   },
   "file_extension": ".py",
   "mimetype": "text/x-python",
   "name": "python",
   "nbconvert_exporter": "python",
   "pygments_lexer": "ipython3",
   "version": "3.12.2"
  }
 },
 "nbformat": 4,
 "nbformat_minor": 2
}
