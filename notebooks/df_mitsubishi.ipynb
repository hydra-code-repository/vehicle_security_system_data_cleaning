{
 "cells": [
  {
   "cell_type": "code",
   "execution_count": 1,
   "metadata": {},
   "outputs": [],
   "source": [
    "import pandas as pd"
   ]
  },
  {
   "cell_type": "code",
   "execution_count": 2,
   "metadata": {},
   "outputs": [],
   "source": [
    "# Read excel\n",
    "df = pd.read_excel(\"C:\\\\Language_Projects\\\\Language_Projects\\\\Python\\\\Flagship_1\\\\vehicle_security_system_data_cleaning\\\\data\\\\year_make_model_df.xlsx\")"
   ]
  },
  {
   "cell_type": "code",
   "execution_count": 3,
   "metadata": {},
   "outputs": [],
   "source": [
    "# Create df\n",
    "df_mitsubishi = df[df[\"Make\"] == \"Mitsubishi\"]"
   ]
  },
  {
   "cell_type": "code",
   "execution_count": 4,
   "metadata": {},
   "outputs": [
    {
     "name": "stdout",
     "output_type": "stream",
     "text": [
      "<class 'pandas.core.frame.DataFrame'>\n",
      "Index: 103 entries, 608 to 3355\n",
      "Data columns (total 5 columns):\n",
      " #   Column          Non-Null Count  Dtype \n",
      "---  ------          --------------  ----- \n",
      " 0   Year            103 non-null    int64 \n",
      " 1   Make            103 non-null    object\n",
      " 2   Model           103 non-null    object\n",
      " 3   Security        87 non-null     object\n",
      " 4   ParameterReset  0 non-null      object\n",
      "dtypes: int64(1), object(4)\n",
      "memory usage: 4.8+ KB\n"
     ]
    }
   ],
   "source": [
    "# Check how the df is\n",
    "df_mitsubishi.info()"
   ]
  },
  {
   "cell_type": "code",
   "execution_count": 5,
   "metadata": {},
   "outputs": [],
   "source": [
    "# Function to create list with unique items from given column\n",
    "def data_from_column(df, column):\n",
    "    # List to append the items\n",
    "    data_column_list =[]\n",
    "\n",
    "    # Iterate over given column\n",
    "    for data in df[column]:\n",
    "        # Append the items from the given column\n",
    "        data_column_list.append(data)\n",
    "\n",
    "    # Return a set with unique items from given column\n",
    "    return set(data_column_list)"
   ]
  },
  {
   "cell_type": "code",
   "execution_count": 6,
   "metadata": {},
   "outputs": [
    {
     "data": {
      "text/plain": [
       "{'Diamante',\n",
       " 'Eclipse/Spyder',\n",
       " 'Endeavor',\n",
       " 'Galant',\n",
       " 'Lancer EVO',\n",
       " 'Lancer Sedan',\n",
       " 'Lancer Sportback Wgn',\n",
       " 'Mirage',\n",
       " 'Montero',\n",
       " 'Montero Sport',\n",
       " 'Outlander',\n",
       " 'Outlander Sport',\n",
       " 'Raider',\n",
       " 'iMIEV'}"
      ]
     },
     "execution_count": 6,
     "metadata": {},
     "output_type": "execute_result"
    }
   ],
   "source": [
    "# Call the function to create a set with unique items from column model\n",
    "data_from_column(df_mitsubishi, \"Model\")"
   ]
  },
  {
   "cell_type": "markdown",
   "metadata": {},
   "source": [
    "Changes needed:\n",
    "- Split models Eclipse/Spyder as they are different models, but are located at the same row."
   ]
  },
  {
   "cell_type": "code",
   "execution_count": 7,
   "metadata": {},
   "outputs": [],
   "source": [
    "# Split models Eclipse/Spyder as they are different models, but are located at the same row\n",
    "df_mitsubishi_split_models = df_mitsubishi.assign(Model=df_mitsubishi['Model'].str.split('/')).explode('Model')"
   ]
  },
  {
   "cell_type": "code",
   "execution_count": 8,
   "metadata": {},
   "outputs": [
    {
     "data": {
      "text/plain": [
       "{'Diamante',\n",
       " 'Eclipse',\n",
       " 'Endeavor',\n",
       " 'Galant',\n",
       " 'Lancer EVO',\n",
       " 'Lancer Sedan',\n",
       " 'Lancer Sportback Wgn',\n",
       " 'Mirage',\n",
       " 'Montero',\n",
       " 'Montero Sport',\n",
       " 'Outlander',\n",
       " 'Outlander Sport',\n",
       " 'Raider',\n",
       " 'Spyder',\n",
       " 'iMIEV'}"
      ]
     },
     "execution_count": 8,
     "metadata": {},
     "output_type": "execute_result"
    }
   ],
   "source": [
    "# Call the function to create a set to confirm the changes\n",
    "data_from_column(df_mitsubishi_split_models, \"Model\")"
   ]
  },
  {
   "cell_type": "code",
   "execution_count": 9,
   "metadata": {},
   "outputs": [
    {
     "data": {
      "text/plain": [
       "{'Opt', 'Std', nan}"
      ]
     },
     "execution_count": 9,
     "metadata": {},
     "output_type": "execute_result"
    }
   ],
   "source": [
    "# Call the function to create a set with unique items from column security\n",
    "data_from_column(df_mitsubishi_split_models, \"Security\")"
   ]
  },
  {
   "cell_type": "code",
   "execution_count": 10,
   "metadata": {},
   "outputs": [
    {
     "name": "stderr",
     "output_type": "stream",
     "text": [
      "C:\\Users\\Weverson Barbieri\\AppData\\Local\\Temp\\ipykernel_10596\\1995522533.py:2: FutureWarning: A value is trying to be set on a copy of a DataFrame or Series through chained assignment using an inplace method.\n",
      "The behavior will change in pandas 3.0. This inplace method will never work because the intermediate object on which we are setting values always behaves as a copy.\n",
      "\n",
      "For example, when doing 'df[col].method(value, inplace=True)', try using 'df.method({col: value}, inplace=True)' or df[col] = df[col].method(value) instead, to perform the operation inplace on the original object.\n",
      "\n",
      "\n",
      "  df_mitsubishi_split_models['Security'].fillna('Information not available', inplace=True)\n"
     ]
    }
   ],
   "source": [
    "# Only fill out null values\n",
    "df_mitsubishi_split_models['Security'].fillna('Information not available', inplace=True)"
   ]
  },
  {
   "cell_type": "code",
   "execution_count": 11,
   "metadata": {},
   "outputs": [
    {
     "data": {
      "text/plain": [
       "{nan}"
      ]
     },
     "execution_count": 11,
     "metadata": {},
     "output_type": "execute_result"
    }
   ],
   "source": [
    "# Call the function to create a set with unique items from column ParameterReset\n",
    "data_from_column(df_mitsubishi_split_models, \"ParameterReset\")"
   ]
  },
  {
   "cell_type": "code",
   "execution_count": 12,
   "metadata": {},
   "outputs": [],
   "source": [
    "# Drop column 'ParameterReset' since all rows have null values\n",
    "df_mitsubishi_dropped_column = df_mitsubishi_split_models.drop(columns=['ParameterReset'])"
   ]
  },
  {
   "cell_type": "code",
   "execution_count": 15,
   "metadata": {},
   "outputs": [],
   "source": [
    "# Reset index\n",
    "df_mitsubishi_updated = df_mitsubishi_dropped_column.reset_index(drop=True)"
   ]
  },
  {
   "cell_type": "code",
   "execution_count": 14,
   "metadata": {},
   "outputs": [],
   "source": [
    "# Function to check if there are duplicated values\n",
    "def check_duplicated_values(df):\n",
    "    # Create a column with bool values showing whether or not there are duplicated values\n",
    "    df['Dups'] = df.duplicated()\n",
    "    # Return bool values counted\n",
    "    return df['Dups'].value_counts()  "
   ]
  },
  {
   "cell_type": "code",
   "execution_count": null,
   "metadata": {},
   "outputs": [
    {
     "data": {
      "text/plain": [
       "Dups\n",
       "False    116\n",
       "Name: count, dtype: int64"
      ]
     },
     "execution_count": 16,
     "metadata": {},
     "output_type": "execute_result"
    }
   ],
   "source": [
    "# Call the function to check dup values\n",
    "check_duplicated_values(df_mitsubishi_updated)"
   ]
  },
  {
   "cell_type": "code",
   "execution_count": null,
   "metadata": {},
   "outputs": [],
   "source": [
    "# Export the to .csv file\n",
    "# df_mitsubishi_upddated.to_csv('C:\\\\Language_Projects\\\\Language_Projects\\\\Python\\\\Flagship_1\\\\vehicle_security_system_data_cleaning\\\\data\\\\df_mitsubishi.csv', index=False)"
   ]
  }
 ],
 "metadata": {
  "kernelspec": {
   "display_name": "venv",
   "language": "python",
   "name": "python3"
  },
  "language_info": {
   "codemirror_mode": {
    "name": "ipython",
    "version": 3
   },
   "file_extension": ".py",
   "mimetype": "text/x-python",
   "name": "python",
   "nbconvert_exporter": "python",
   "pygments_lexer": "ipython3",
   "version": "3.12.2"
  }
 },
 "nbformat": 4,
 "nbformat_minor": 2
}
