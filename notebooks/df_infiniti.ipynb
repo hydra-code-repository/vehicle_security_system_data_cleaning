{
 "cells": [
  {
   "cell_type": "code",
   "execution_count": 1,
   "metadata": {},
   "outputs": [],
   "source": [
    "import pandas as pd"
   ]
  },
  {
   "cell_type": "code",
   "execution_count": 2,
   "metadata": {},
   "outputs": [],
   "source": [
    "# Read excel\n",
    "df = pd.read_excel(\"C:\\\\Language_Projects\\\\Language_Projects\\\\Python\\\\Flagship_1\\\\vehicle_security_system_data_cleaning\\\\data\\\\year_make_model_df.xlsx\")"
   ]
  },
  {
   "cell_type": "code",
   "execution_count": 3,
   "metadata": {},
   "outputs": [],
   "source": [
    "# Create df\n",
    "df_infiniti = df[df[\"Make\"] == \"Infiniti\"]"
   ]
  },
  {
   "cell_type": "code",
   "execution_count": 4,
   "metadata": {},
   "outputs": [
    {
     "name": "stdout",
     "output_type": "stream",
     "text": [
      "<class 'pandas.core.frame.DataFrame'>\n",
      "Index: 87 entries, 256 to 3304\n",
      "Data columns (total 5 columns):\n",
      " #   Column          Non-Null Count  Dtype \n",
      "---  ------          --------------  ----- \n",
      " 0   Year            87 non-null     int64 \n",
      " 1   Make            87 non-null     object\n",
      " 2   Model           87 non-null     object\n",
      " 3   Security        83 non-null     object\n",
      " 4   ParameterReset  0 non-null      object\n",
      "dtypes: int64(1), object(4)\n",
      "memory usage: 4.1+ KB\n"
     ]
    }
   ],
   "source": [
    "# Check how the df is\n",
    "df_infiniti.info()"
   ]
  },
  {
   "cell_type": "code",
   "execution_count": 5,
   "metadata": {},
   "outputs": [],
   "source": [
    "# Function to create list with unique items from given column\n",
    "def data_from_column(df, column):\n",
    "    # List to append the items\n",
    "    data_column_list =[]\n",
    "\n",
    "    # Iterate over given column\n",
    "    for data in df[column]:\n",
    "        # Append the items from the given column\n",
    "        data_column_list.append(data)\n",
    "\n",
    "    # Return a set with unique items from given column\n",
    "    return set(data_column_list)"
   ]
  },
  {
   "cell_type": "code",
   "execution_count": 6,
   "metadata": {},
   "outputs": [
    {
     "data": {
      "text/plain": [
       "{'EX',\n",
       " 'FX35/45/50',\n",
       " 'G20',\n",
       " 'G25 Sedan',\n",
       " 'G35 Coupe',\n",
       " 'G35 Sedan',\n",
       " 'G37/Coupe/Sedan',\n",
       " 'I30',\n",
       " 'I35',\n",
       " 'JX',\n",
       " 'M37/56',\n",
       " 'M45',\n",
       " 'M45/35',\n",
       " 'Q45',\n",
       " 'QX4',\n",
       " 'QX56'}"
      ]
     },
     "execution_count": 6,
     "metadata": {},
     "output_type": "execute_result"
    }
   ],
   "source": [
    "# Call the function to create a set with unique items from column model\n",
    "data_from_column(df_infiniti, \"Model\")"
   ]
  },
  {
   "cell_type": "markdown",
   "metadata": {},
   "source": [
    "CHANGES NEEDED:\n",
    "- The string 'FX35/45/50' represents diffetent models at the same row. They should be: FX35, FX45, FX50 separated at different lines\n",
    "- The same principle to models 'M37/56' (should be M37, M56) and 'M45/35' (should be M45, M35)"
   ]
  },
  {
   "cell_type": "code",
   "execution_count": 7,
   "metadata": {},
   "outputs": [],
   "source": [
    "# Explode lines with duplicated models\n",
    "df_infiniti_exploded = df_infiniti.assign(Model=df_infiniti[\"Model\"].str.split('/')).explode('Model')"
   ]
  },
  {
   "cell_type": "code",
   "execution_count": 8,
   "metadata": {},
   "outputs": [
    {
     "data": {
      "text/plain": [
       "{'35',\n",
       " '45',\n",
       " '50',\n",
       " '56',\n",
       " 'Coupe',\n",
       " 'EX',\n",
       " 'FX35',\n",
       " 'G20',\n",
       " 'G25 Sedan',\n",
       " 'G35 Coupe',\n",
       " 'G35 Sedan',\n",
       " 'G37',\n",
       " 'I30',\n",
       " 'I35',\n",
       " 'JX',\n",
       " 'M37',\n",
       " 'M45',\n",
       " 'Q45',\n",
       " 'QX4',\n",
       " 'QX56',\n",
       " 'Sedan'}"
      ]
     },
     "execution_count": 8,
     "metadata": {},
     "output_type": "execute_result"
    }
   ],
   "source": [
    "# Call the function to confirm the changes after exploding the models\n",
    "data_from_column(df_infiniti_exploded, \"Model\")"
   ]
  },
  {
   "cell_type": "code",
   "execution_count": 9,
   "metadata": {},
   "outputs": [],
   "source": [
    "# Add the prefix FX to models 45, 50 and M to models 56, 35\n",
    "df_infiniti_exploded['Model'] = df_infiniti_exploded['Model'].str.replace('^45$', 'FX45', regex=True).str.replace('^50$', 'FX50', regex=True).str.replace('^56$', 'M56', regex=True).str.replace('^35$', 'M35', regex=True)"
   ]
  },
  {
   "cell_type": "code",
   "execution_count": 10,
   "metadata": {},
   "outputs": [
    {
     "data": {
      "text/plain": [
       "{'Coupe',\n",
       " 'EX',\n",
       " 'FX35',\n",
       " 'FX45',\n",
       " 'FX50',\n",
       " 'G20',\n",
       " 'G25 Sedan',\n",
       " 'G35 Coupe',\n",
       " 'G35 Sedan',\n",
       " 'G37',\n",
       " 'I30',\n",
       " 'I35',\n",
       " 'JX',\n",
       " 'M35',\n",
       " 'M37',\n",
       " 'M45',\n",
       " 'M56',\n",
       " 'Q45',\n",
       " 'QX4',\n",
       " 'QX56',\n",
       " 'Sedan'}"
      ]
     },
     "execution_count": 10,
     "metadata": {},
     "output_type": "execute_result"
    }
   ],
   "source": [
    "# Create a list with unique models to confirm the changes\n",
    "data_from_column(df_infiniti_exploded, \"Model\")"
   ]
  },
  {
   "cell_type": "code",
   "execution_count": 11,
   "metadata": {},
   "outputs": [
    {
     "data": {
      "text/plain": [
       "{'Std',\n",
       " 'Std – E.K.F.',\n",
       " 'Std – E.K.F., \"I.K.C.\\nOptional\"',\n",
       " 'Std, I.K.C.\\nOptional',\n",
       " nan}"
      ]
     },
     "execution_count": 11,
     "metadata": {},
     "output_type": "execute_result"
    }
   ],
   "source": [
    "# Create a set with unique items from column security\n",
    "data_from_column(df_infiniti_exploded, \"Security\")"
   ]
  },
  {
   "cell_type": "markdown",
   "metadata": {},
   "source": [
    "CHANGES NEEDED:\n",
    "- Replace the charactere '\\n' by space ' '.\n",
    "- Fill out null values."
   ]
  },
  {
   "cell_type": "code",
   "execution_count": 12,
   "metadata": {},
   "outputs": [],
   "source": [
    "# Replace the charactere '\\n' by space ' '\n",
    "df_infiniti_exploded['Security'] = df_infiniti_exploded['Security'].str.replace('\\n', ' ', regex=True)"
   ]
  },
  {
   "cell_type": "code",
   "execution_count": 13,
   "metadata": {},
   "outputs": [
    {
     "name": "stderr",
     "output_type": "stream",
     "text": [
      "C:\\Users\\Weverson Barbieri\\AppData\\Local\\Temp\\ipykernel_6708\\2554644425.py:2: FutureWarning: A value is trying to be set on a copy of a DataFrame or Series through chained assignment using an inplace method.\n",
      "The behavior will change in pandas 3.0. This inplace method will never work because the intermediate object on which we are setting values always behaves as a copy.\n",
      "\n",
      "For example, when doing 'df[col].method(value, inplace=True)', try using 'df.method({col: value}, inplace=True)' or df[col] = df[col].method(value) instead, to perform the operation inplace on the original object.\n",
      "\n",
      "\n",
      "  df_infiniti_exploded['Security'].fillna('Information not available', inplace=True)\n"
     ]
    }
   ],
   "source": [
    "# Fill out null values\n",
    "df_infiniti_exploded['Security'].fillna('Information not available', inplace=True)"
   ]
  },
  {
   "cell_type": "code",
   "execution_count": 14,
   "metadata": {},
   "outputs": [],
   "source": [
    "# Drop column ParameterReset\n",
    "df_infiniti_dropped_column = df_infiniti_exploded.drop(columns=['ParameterReset'])"
   ]
  },
  {
   "cell_type": "code",
   "execution_count": 15,
   "metadata": {},
   "outputs": [],
   "source": [
    "# Reset index\n",
    "df_infiniti_up_to_dated = df_infiniti_dropped_column.reset_index(drop=True)"
   ]
  },
  {
   "cell_type": "code",
   "execution_count": 16,
   "metadata": {},
   "outputs": [],
   "source": [
    "# Function to check if there are duplicated values\n",
    "def check_duplicated_values(df):\n",
    "    # Create a column with bool values showing whether or not there are duplicated values\n",
    "    df['Dups'] = df.duplicated()\n",
    "    # Return bool values counted\n",
    "    return df['Dups'].value_counts()  "
   ]
  },
  {
   "cell_type": "code",
   "execution_count": 17,
   "metadata": {},
   "outputs": [
    {
     "data": {
      "text/plain": [
       "Dups\n",
       "False    131\n",
       "Name: count, dtype: int64"
      ]
     },
     "execution_count": 17,
     "metadata": {},
     "output_type": "execute_result"
    }
   ],
   "source": [
    "# Call the function to check dup values\n",
    "check_duplicated_values(df_infiniti_up_to_dated)"
   ]
  },
  {
   "cell_type": "code",
   "execution_count": null,
   "metadata": {},
   "outputs": [],
   "source": [
    "# Export the to .csv file\n",
    "# df_infiniti_up_to_dated.to_csv('C:\\\\Language_Projects\\\\Language_Projects\\\\Python\\\\Flagship_1\\\\vehicle_security_system_data_cleaning\\\\data\\\\df_infiniti.csv', index=False)"
   ]
  }
 ],
 "metadata": {
  "kernelspec": {
   "display_name": "venv",
   "language": "python",
   "name": "python3"
  },
  "language_info": {
   "codemirror_mode": {
    "name": "ipython",
    "version": 3
   },
   "file_extension": ".py",
   "mimetype": "text/x-python",
   "name": "python",
   "nbconvert_exporter": "python",
   "pygments_lexer": "ipython3",
   "version": "3.12.2"
  }
 },
 "nbformat": 4,
 "nbformat_minor": 2
}
