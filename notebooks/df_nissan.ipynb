{
 "cells": [
  {
   "cell_type": "code",
   "execution_count": 2,
   "metadata": {},
   "outputs": [],
   "source": [
    "import pandas as pd\n",
    "import os"
   ]
  },
  {
   "cell_type": "code",
   "execution_count": 1,
   "metadata": {},
   "outputs": [],
   "source": [
    "# This function creates the path to the main Excel file of this project\n",
    "# Uses os library methods to ensure the file path works in both local and GitHub CI/CD environments\n",
    "def create_file_path(file_relative_path):\n",
    "    # Store the xlsx file dir into a var\n",
    "    dir = '../data'\n",
    "    \n",
    "    # Iterate under dir data to have all files\n",
    "    for filename in os.listdir(dir):\n",
    "        # Condition to confirm which file is == year_make_model_df.xlsx\n",
    "        if filename.endswith(file_relative_path):\n",
    "            # Join the dir + filename to create the path to year_make_model_df.xlsx file  \n",
    "            xlsx_file_fullpath = os.path.join(dir, filename)\n",
    "            # Print the result\n",
    "            print(xlsx_file_fullpath)\n",
    "    return xlsx_file_fullpath"
   ]
  },
  {
   "cell_type": "code",
   "execution_count": 3,
   "metadata": {},
   "outputs": [
    {
     "name": "stdout",
     "output_type": "stream",
     "text": [
      "../data\\year_make_model_df.xlsx\n"
     ]
    }
   ],
   "source": [
    "# Read excel \n",
    "df = pd.read_excel(create_file_path('year_make_model_df.xlsx'))"
   ]
  },
  {
   "cell_type": "code",
   "execution_count": 4,
   "metadata": {},
   "outputs": [],
   "source": [
    "# Create df\n",
    "df_nissan = df[df[\"Make\"] == \"Nissan\"]"
   ]
  },
  {
   "cell_type": "code",
   "execution_count": 5,
   "metadata": {},
   "outputs": [
    {
     "name": "stdout",
     "output_type": "stream",
     "text": [
      "<class 'pandas.core.frame.DataFrame'>\n",
      "Index: 184 entries, 272 to 3372\n",
      "Data columns (total 5 columns):\n",
      " #   Column          Non-Null Count  Dtype \n",
      "---  ------          --------------  ----- \n",
      " 0   Year            184 non-null    int64 \n",
      " 1   Make            184 non-null    object\n",
      " 2   Model           184 non-null    object\n",
      " 3   Security        154 non-null    object\n",
      " 4   ParameterReset  0 non-null      object\n",
      "dtypes: int64(1), object(4)\n",
      "memory usage: 8.6+ KB\n"
     ]
    }
   ],
   "source": [
    "# Check how the df is\n",
    "df_nissan.info()"
   ]
  },
  {
   "cell_type": "code",
   "execution_count": 5,
   "metadata": {},
   "outputs": [],
   "source": [
    "# Function to create list with unique items from given column\n",
    "def data_from_column(df, column):\n",
    "    # List to append the items\n",
    "    data_column_list =[]\n",
    "\n",
    "    # Iterate over given column\n",
    "    for data in df[column]:\n",
    "        # Append the items from the given column\n",
    "        data_column_list.append(data)\n",
    "\n",
    "    # Return a set with unique items from given column\n",
    "    return set(data_column_list)"
   ]
  },
  {
   "cell_type": "code",
   "execution_count": 6,
   "metadata": {},
   "outputs": [
    {
     "data": {
      "text/plain": [
       "{'350Z',\n",
       " '370Z',\n",
       " 'Altima',\n",
       " 'Armada',\n",
       " 'Cube',\n",
       " 'Frontier',\n",
       " 'GT-R',\n",
       " 'Juke',\n",
       " 'LEAF (EV)',\n",
       " 'Maxima',\n",
       " 'Murano',\n",
       " 'Pathfinder',\n",
       " 'Quest',\n",
       " 'Rogue',\n",
       " 'Sentra',\n",
       " 'Titan',\n",
       " 'Versa',\n",
       " 'Xterra'}"
      ]
     },
     "execution_count": 6,
     "metadata": {},
     "output_type": "execute_result"
    }
   ],
   "source": [
    "# Call the function to create a set with unique items from column model\n",
    "data_from_column(df_nissan, \"Model\")"
   ]
  },
  {
   "cell_type": "markdown",
   "metadata": {},
   "source": [
    "No changes are needed in the Model names."
   ]
  },
  {
   "cell_type": "code",
   "execution_count": 7,
   "metadata": {},
   "outputs": [
    {
     "data": {
      "text/plain": [
       "{'KING CAB:\\nStd\\nSV, SV14 &\\nPro-4X, S Model =Not Available\\nCREW CAB:\\nStd SV, Pro-4X\\n& SL, S Model=Not Available',\n",
       " 'KING CAB: All trim levels – optional only \\nCREW CAB: All trim levels Std\"',\n",
       " 'KING CAB: N/A on XE & SE, Std on NISMO & LE\\nCREW CAB: Std on SE, LE & NISMO',\n",
       " 'KING CAB: Optional LE & Pro-4X Trim Levels\\nCREW CAB: Std',\n",
       " 'KING CAB: Optional LE & Pro-4X Trim Levels \\nCREW CAB: Std',\n",
       " 'KING CAB: Optional SV & Pro-4X Trim Levels\\nCREW CAB: SV Pro-4X & SL Std',\n",
       " 'KING CAB: Optional SV, SV14 & Pro- 4X\\nCREW CAB: SV, Pro-4X & SL Std\"',\n",
       " 'KING CAB: Std on SE & LE, N/A on XE\\nCREW CAB: Std on SE & LE, Opt on XE',\n",
       " 'KING CAB: Std on SE, Pro- 4x & LE, N/A on XE\\nCREW CAB: Std on SE Pro- 4x\\n& LE',\n",
       " 'KING CAB: Std on SE, Pro-4x & LE, N/A on XE\\nCREW CAB: Std on SE Pro-4x\\n& LE, Opt on XE',\n",
       " 'KING CAB: Std on SE, Pro-4x & LE, N/A on XE\\nCREW CAB: Std on SE Pro-4x & LE, Opt on XE',\n",
       " 'KING CAB: Std on SV, Pro-4x\\nCREW CAB: Std',\n",
       " 'KING CAB: Std on SV, Pro-4x\\nCREW CAB: Std on SV Pro-4x & SL\\nS Model=Not Available',\n",
       " 'Std',\n",
       " 'Std on 2.5 Limited Edition., Opt on SE-R',\n",
       " 'Std on 2.5S, Opt on SE-R',\n",
       " 'Std on CA, Opt SE & GXE',\n",
       " 'Std on CA, Opt on SE-R',\n",
       " 'Std on Crew Cab model, N/A on King Cab XE trim, Opt on all other King Cab trim',\n",
       " 'Std on Crew Cab model,\"N/A on King\\nCab XE trim\", Std on all other King Cab Trim',\n",
       " 'Std on OR &\\nSE trim, Opt on S trim',\n",
       " 'Std on S, OR\\n& SE, X – Opt',\n",
       " 'Std on all SE & LE.\\nStd on XE crew cab 4x4, \"Opt on XE\\ncrew cab 4x2.\"',\n",
       " 'Std**',\n",
       " nan}"
      ]
     },
     "execution_count": 7,
     "metadata": {},
     "output_type": "execute_result"
    }
   ],
   "source": [
    "# Call the function to create a set with unique items from column Security\n",
    "data_from_column(df_nissan, \"Security\")"
   ]
  },
  {
   "cell_type": "markdown",
   "metadata": {},
   "source": [
    "### Changes needed:\n",
    "- Remove char \\n\n",
    "- Fill null rows"
   ]
  },
  {
   "cell_type": "code",
   "execution_count": 8,
   "metadata": {},
   "outputs": [
    {
     "name": "stderr",
     "output_type": "stream",
     "text": [
      "C:\\Users\\Weverson Barbieri\\AppData\\Local\\Temp\\ipykernel_29340\\825130750.py:2: SettingWithCopyWarning: \n",
      "A value is trying to be set on a copy of a slice from a DataFrame.\n",
      "Try using .loc[row_indexer,col_indexer] = value instead\n",
      "\n",
      "See the caveats in the documentation: https://pandas.pydata.org/pandas-docs/stable/user_guide/indexing.html#returning-a-view-versus-a-copy\n",
      "  df_nissan['Security'] = df_nissan['Security'].str.replace('\\n', ' ', regex=True)\n"
     ]
    }
   ],
   "source": [
    "# Remove charactere '\\n'\n",
    "df_nissan['Security'] = df_nissan['Security'].str.replace('\\n', ' ', regex=True)"
   ]
  },
  {
   "cell_type": "code",
   "execution_count": 9,
   "metadata": {},
   "outputs": [
    {
     "name": "stderr",
     "output_type": "stream",
     "text": [
      "C:\\Users\\Weverson Barbieri\\AppData\\Local\\Temp\\ipykernel_29340\\3698952474.py:2: FutureWarning: A value is trying to be set on a copy of a DataFrame or Series through chained assignment using an inplace method.\n",
      "The behavior will change in pandas 3.0. This inplace method will never work because the intermediate object on which we are setting values always behaves as a copy.\n",
      "\n",
      "For example, when doing 'df[col].method(value, inplace=True)', try using 'df.method({col: value}, inplace=True)' or df[col] = df[col].method(value) instead, to perform the operation inplace on the original object.\n",
      "\n",
      "\n",
      "  df_nissan['Security'].fillna('Information not avaiable', inplace=True)\n",
      "C:\\Users\\Weverson Barbieri\\AppData\\Local\\Temp\\ipykernel_29340\\3698952474.py:2: SettingWithCopyWarning: \n",
      "A value is trying to be set on a copy of a slice from a DataFrame\n",
      "\n",
      "See the caveats in the documentation: https://pandas.pydata.org/pandas-docs/stable/user_guide/indexing.html#returning-a-view-versus-a-copy\n",
      "  df_nissan['Security'].fillna('Information not avaiable', inplace=True)\n"
     ]
    }
   ],
   "source": [
    "# Fill out null values\n",
    "df_nissan['Security'].fillna('Information not avaiable', inplace=True)"
   ]
  },
  {
   "cell_type": "code",
   "execution_count": 10,
   "metadata": {},
   "outputs": [],
   "source": [
    "# Drop column 'ParameterReset'\n",
    "df_nissan_dropped_column = df_nissan.drop(columns=['ParameterReset'])"
   ]
  },
  {
   "cell_type": "code",
   "execution_count": 11,
   "metadata": {},
   "outputs": [],
   "source": [
    "# Reset index\n",
    "df_nissan_updated = df_nissan_dropped_column.reset_index(drop=True)"
   ]
  },
  {
   "cell_type": "code",
   "execution_count": null,
   "metadata": {},
   "outputs": [],
   "source": [
    "# Export the to .csv file\n",
    "# df_nissan_updated.to_csv('C:\\\\Language_Projects\\\\Language_Projects\\\\Python\\\\Flagship_1\\\\vehicle_security_system_data_cleaning\\\\data\\\\df_nissan.csv', index=False)"
   ]
  }
 ],
 "metadata": {
  "kernelspec": {
   "display_name": "venv",
   "language": "python",
   "name": "python3"
  },
  "language_info": {
   "codemirror_mode": {
    "name": "ipython",
    "version": 3
   },
   "file_extension": ".py",
   "mimetype": "text/x-python",
   "name": "python",
   "nbconvert_exporter": "python",
   "pygments_lexer": "ipython3",
   "version": "3.12.2"
  }
 },
 "nbformat": 4,
 "nbformat_minor": 2
}
