{
 "cells": [
  {
   "cell_type": "code",
   "execution_count": 1,
   "metadata": {},
   "outputs": [],
   "source": [
    "import pandas as pd\n",
    "import os"
   ]
  },
  {
   "cell_type": "code",
   "execution_count": 2,
   "metadata": {},
   "outputs": [],
   "source": [
    "# This function creates the path to the main Excel file of this project\n",
    "# Uses os library methods to ensure the file path works in both local and GitHub CI/CD environments\n",
    "def create_file_path(file_relative_path):\n",
    "    # Store the xlsx file dir into a var\n",
    "    dir = '../data'\n",
    "    \n",
    "    # Iterate under dir data to have all files\n",
    "    for filename in os.listdir(dir):\n",
    "        # Condition to confirm which file is == year_make_model_df.xlsx\n",
    "        if filename.endswith(file_relative_path):\n",
    "            # Join the dir + filename to create the path to year_make_model_df.xlsx file  \n",
    "            xlsx_file_fullpath = os.path.join(dir, filename)\n",
    "            # Print the result\n",
    "            print(xlsx_file_fullpath)\n",
    "    return xlsx_file_fullpath"
   ]
  },
  {
   "cell_type": "code",
   "execution_count": 3,
   "metadata": {},
   "outputs": [
    {
     "name": "stdout",
     "output_type": "stream",
     "text": [
      "../data\\year_make_model_df.xlsx\n"
     ]
    }
   ],
   "source": [
    "# Read excel\n",
    "df = pd.read_excel(create_file_path(\"year_make_model_df.xlsx\"))"
   ]
  },
  {
   "cell_type": "code",
   "execution_count": 4,
   "metadata": {},
   "outputs": [],
   "source": [
    "# Create audi df\n",
    "df_audi = df[df[\"Make\"] == \"Audi\"]"
   ]
  },
  {
   "cell_type": "code",
   "execution_count": 5,
   "metadata": {},
   "outputs": [],
   "source": [
    "# Function to create list with unique items from given column\n",
    "def data_from_column(df, column):\n",
    "    # List to append the items\n",
    "    data_column_list =[]\n",
    "\n",
    "    # Iterate over given column\n",
    "    for data in df[column]:\n",
    "        # Append the items from the given column\n",
    "        data_column_list.append(data)\n",
    "\n",
    "    # Return a set with unique items from given column\n",
    "    return set(data_column_list)"
   ]
  },
  {
   "cell_type": "code",
   "execution_count": 6,
   "metadata": {},
   "outputs": [
    {
     "name": "stdout",
     "output_type": "stream",
     "text": [
      "<class 'pandas.core.frame.DataFrame'>\n",
      "Index: 101 entries, 508 to 3192\n",
      "Data columns (total 5 columns):\n",
      " #   Column          Non-Null Count  Dtype \n",
      "---  ------          --------------  ----- \n",
      " 0   Year            101 non-null    int64 \n",
      " 1   Make            101 non-null    object\n",
      " 2   Model           101 non-null    object\n",
      " 3   Security        97 non-null     object\n",
      " 4   ParameterReset  0 non-null      object\n",
      "dtypes: int64(1), object(4)\n",
      "memory usage: 4.7+ KB\n"
     ]
    }
   ],
   "source": [
    "# Check how the df is\n",
    "df_audi.info()"
   ]
  },
  {
   "cell_type": "code",
   "execution_count": 6,
   "metadata": {},
   "outputs": [
    {
     "name": "stdout",
     "output_type": "stream",
     "text": [
      "{'TT', 'S4', 'Q5', 'Q7', 'Allroad', 'A7', 'R8', 'A8/S8', 'RS4', 'A4 (all models)', 'A3', 'A6/S6 (all models)', 'A5'}\n"
     ]
    }
   ],
   "source": [
    "# Call the function and print the items from column models\n",
    "print(data_from_column(df_audi, \"Model\"))"
   ]
  },
  {
   "cell_type": "markdown",
   "metadata": {},
   "source": [
    "Changes needed:\n",
    "- Split the models 'A6/S6 (all models)' and 'A8/S8' in 2 separated lines. A6, S6, A8 and S8 are different models."
   ]
  },
  {
   "cell_type": "code",
   "execution_count": 7,
   "metadata": {},
   "outputs": [],
   "source": [
    "# Split the models 'A6/S6 (all models)' and 'A8/S8' in 2 separated lines\n",
    "df_audi_change_models = df_audi.assign(Model=df_audi['Model'].str.split('/')).explode('Model')"
   ]
  },
  {
   "cell_type": "code",
   "execution_count": 8,
   "metadata": {},
   "outputs": [
    {
     "name": "stdout",
     "output_type": "stream",
     "text": [
      "{'A8', 'S4', 'TT', 'Q7', 'Allroad', 'Q5', 'S6 (all models)', 'R8', 'RS4', 'A7', 'A4 (all models)', 'S8', 'A3', 'A5', 'A6'}\n"
     ]
    }
   ],
   "source": [
    "# Call the function to create the list with the models after updating\n",
    "print(data_from_column(df_audi_change_models, 'Model'))"
   ]
  },
  {
   "cell_type": "code",
   "execution_count": 9,
   "metadata": {},
   "outputs": [],
   "source": [
    "# As the model A6 had the string (all models), replace the string A6 for 'A6 (all models)\n",
    "df_audi_change_models['Model'] = df_audi_change_models['Model'].str.replace('A6', 'A6 (all models)', regex=True)"
   ]
  },
  {
   "cell_type": "code",
   "execution_count": 10,
   "metadata": {},
   "outputs": [
    {
     "name": "stdout",
     "output_type": "stream",
     "text": [
      "{'Gen III', nan, 'Gen V', 'Gen IIIA', 'Gen IV'}\n"
     ]
    }
   ],
   "source": [
    "# Call the function and print the items from column security\n",
    "print(data_from_column(df_audi, \"Security\"))"
   ]
  },
  {
   "cell_type": "code",
   "execution_count": 11,
   "metadata": {},
   "outputs": [
    {
     "name": "stderr",
     "output_type": "stream",
     "text": [
      "C:\\Users\\Weverson Barbieri\\AppData\\Local\\Temp\\ipykernel_26564\\1547485594.py:2: FutureWarning: A value is trying to be set on a copy of a DataFrame or Series through chained assignment using an inplace method.\n",
      "The behavior will change in pandas 3.0. This inplace method will never work because the intermediate object on which we are setting values always behaves as a copy.\n",
      "\n",
      "For example, when doing 'df[col].method(value, inplace=True)', try using 'df.method({col: value}, inplace=True)' or df[col] = df[col].method(value) instead, to perform the operation inplace on the original object.\n",
      "\n",
      "\n",
      "  df_audi_change_models['Security'].fillna('Information not available', inplace=True)\n"
     ]
    }
   ],
   "source": [
    "# No changes needed, just fill out the null values\n",
    "df_audi_change_models['Security'].fillna('Information not available', inplace=True)"
   ]
  },
  {
   "cell_type": "code",
   "execution_count": 12,
   "metadata": {},
   "outputs": [],
   "source": [
    "# Drop column ParameterReset\n",
    "df_audi_drop_pr_column = df_audi_change_models.drop(columns=['ParameterReset'])"
   ]
  },
  {
   "cell_type": "code",
   "execution_count": 13,
   "metadata": {},
   "outputs": [],
   "source": [
    "# Reset index\n",
    "df_audi_updated = df_audi_drop_pr_column.reset_index(drop=True)"
   ]
  },
  {
   "cell_type": "markdown",
   "metadata": {},
   "source": [
    "'A6/S6 (all models)' and 'A8/S8'"
   ]
  },
  {
   "cell_type": "code",
   "execution_count": 14,
   "metadata": {},
   "outputs": [],
   "source": [
    "# Function to check if there are duplicated values\n",
    "def check_duplicated_values(df):\n",
    "    # Create a column with bool values showing whether or not there are duplicated values\n",
    "    df['Dups'] = df.duplicated()\n",
    "    # Return bool values counted\n",
    "    return df['Dups'].value_counts()  "
   ]
  },
  {
   "cell_type": "code",
   "execution_count": 15,
   "metadata": {},
   "outputs": [
    {
     "data": {
      "text/plain": [
       "Dups\n",
       "False    127\n",
       "Name: count, dtype: int64"
      ]
     },
     "execution_count": 15,
     "metadata": {},
     "output_type": "execute_result"
    }
   ],
   "source": [
    "# Call the function to check dup values\n",
    "check_duplicated_values(df_audi_updated)"
   ]
  },
  {
   "cell_type": "code",
   "execution_count": null,
   "metadata": {},
   "outputs": [],
   "source": [
    "# Export the to .csv file\n",
    "# df_audi_updated.to_csv('C:\\\\Language_Projects\\\\Language_Projects\\\\Python\\\\Flagship_1\\\\vehicle_security_system_data_cleaning\\\\data\\\\df_audi.csv', index=False)"
   ]
  }
 ],
 "metadata": {
  "kernelspec": {
   "display_name": "venv",
   "language": "python",
   "name": "python3"
  },
  "language_info": {
   "codemirror_mode": {
    "name": "ipython",
    "version": 3
   },
   "file_extension": ".py",
   "mimetype": "text/x-python",
   "name": "python",
   "nbconvert_exporter": "python",
   "pygments_lexer": "ipython3",
   "version": "3.12.2"
  }
 },
 "nbformat": 4,
 "nbformat_minor": 2
}
