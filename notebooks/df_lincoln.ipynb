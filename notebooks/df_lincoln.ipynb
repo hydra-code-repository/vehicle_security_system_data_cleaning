{
 "cells": [
  {
   "cell_type": "code",
   "execution_count": 1,
   "id": "f2224f2c",
   "metadata": {},
   "outputs": [],
   "source": [
    "import pandas as pd\n",
    "import os"
   ]
  },
  {
   "cell_type": "code",
   "execution_count": 2,
   "id": "81a98816",
   "metadata": {},
   "outputs": [],
   "source": [
    "# This function creates the path to the main Excel file of this project\n",
    "# Uses os library methods to ensure the file path works in both local and GitHub CI/CD environments\n",
    "def create_file_path(file_relative_path):\n",
    "    # Store the xlsx file dir into a var\n",
    "    dir = '../data'\n",
    "    \n",
    "    # Iterate under dir data to have all files\n",
    "    for filename in os.listdir(dir):\n",
    "        # Condition to confirm which file is == year_make_model_df.xlsx\n",
    "        if filename.endswith(file_relative_path):\n",
    "            # Join the dir + filename to create the path to year_make_model_df.xlsx file  \n",
    "            xlsx_file_fullpath = os.path.join(dir, filename)\n",
    "            # Print the result\n",
    "            print(xlsx_file_fullpath)\n",
    "    return xlsx_file_fullpath"
   ]
  },
  {
   "cell_type": "code",
   "execution_count": 3,
   "id": "0a09dcb9",
   "metadata": {},
   "outputs": [
    {
     "name": "stdout",
     "output_type": "stream",
     "text": [
      "../data\\year_make_model_df.xlsx\n"
     ]
    }
   ],
   "source": [
    "# Read excel \n",
    "df = pd.read_excel(create_file_path('year_make_model_df.xlsx'))"
   ]
  },
  {
   "cell_type": "code",
   "execution_count": 4,
   "id": "5262663b",
   "metadata": {},
   "outputs": [],
   "source": [
    "# Fuction to create df\n",
    "def create_df(df, make):\n",
    "    df_new = df[df['Make'] == make]\n",
    "    return df_new"
   ]
  },
  {
   "cell_type": "code",
   "execution_count": 5,
   "id": "6574f74e",
   "metadata": {},
   "outputs": [],
   "source": [
    "# Function to create list with unique items from given column\n",
    "def data_from_column(df, column):\n",
    "    # List to append the items\n",
    "    data_column_list =[]\n",
    "\n",
    "    # Iterate over given column\n",
    "    for data in df[column]:\n",
    "        # Append the items from the given column\n",
    "        data_column_list.append(data)\n",
    "\n",
    "    # Return a set with unique items from given column\n",
    "    return set(data_column_list)"
   ]
  },
  {
   "cell_type": "code",
   "execution_count": 6,
   "id": "7d18e943",
   "metadata": {},
   "outputs": [],
   "source": [
    "# Create a df to Lincoln make\n",
    "df_lincoln = create_df(df, 'Lincoln')"
   ]
  },
  {
   "cell_type": "code",
   "execution_count": 6,
   "id": "7b6e36bd",
   "metadata": {},
   "outputs": [
    {
     "data": {
      "text/plain": [
       "{'Aviator',\n",
       " 'Blackwood',\n",
       " 'Continental',\n",
       " 'LS',\n",
       " 'MKS',\n",
       " 'MKT',\n",
       " 'MKX',\n",
       " 'MKZ',\n",
       " 'MKZ (Push to Start)',\n",
       " 'Mark LT',\n",
       " 'Mark VIII',\n",
       " 'Navigator',\n",
       " 'Town Car',\n",
       " 'Zephyr'}"
      ]
     },
     "execution_count": 6,
     "metadata": {},
     "output_type": "execute_result"
    }
   ],
   "source": [
    "# Check the string in the model column to confirm if changes are needed\n",
    "data_from_column(df_lincoln, 'Model')"
   ]
  },
  {
   "cell_type": "markdown",
   "id": "ebec584f",
   "metadata": {},
   "source": [
    "### No changes needed in the column model"
   ]
  },
  {
   "cell_type": "code",
   "execution_count": 7,
   "id": "28ca5ebc",
   "metadata": {},
   "outputs": [
    {
     "data": {
      "text/plain": [
       "{'Keyed Ignition: PATS Type C (Instrument Cluster)\\nPush To Start: PATS Type C (Remote Function Actuator / Keyless Vehicle Module)',\n",
       " 'New in 2009',\n",
       " 'New in 2010',\n",
       " 'PATS Type A (Stand Alone PATS Module)',\n",
       " 'PATS Type B (Body Control Module)',\n",
       " 'PATS Type C (Instrument Cluster)',\n",
       " 'PATS Type C (Remote Function Actuator / Keyless Vehicle Module)',\n",
       " 'PATS Type D (Steering Column Ignition Lock Module)',\n",
       " 'PATS Type E (Powertrain Control Module)'}"
      ]
     },
     "execution_count": 7,
     "metadata": {},
     "output_type": "execute_result"
    }
   ],
   "source": [
    "# Check the string in the security column to confirm if changes are needed\n",
    "data_from_column(df_lincoln, 'Security')"
   ]
  },
  {
   "cell_type": "markdown",
   "id": "b0d8b152",
   "metadata": {},
   "source": [
    "### Changes needed:\n",
    "- Keyed Ignition and Push to Start are configurations that differentiate the anti-theft system. Therefore, the rows containing these two strings will be separated using '\\n' as the delimiter, creating two lines and relocating the strings 'Keyed Ignition' and 'Push to Start' to the 'Model' column, where they will be combined with the model name\n",
    "\n",
    "- This is the result on how it should be after updatings:  \n",
    "Year: 2000  \n",
    "Make: Ford  \n",
    "Model: F-XX (Keyed Ignition) OR F-XX (Push To Start)     \n",
    "Security: PATS Type G (Instrument Cluster)"
   ]
  },
  {
   "cell_type": "code",
   "execution_count": 8,
   "id": "b472f417",
   "metadata": {},
   "outputs": [],
   "source": [
    "# Fuction to create df based on a given string\n",
    "def create_df_from_str(df, column, string):\n",
    "    df_new = df[df[column] == string]\n",
    "    return df_new"
   ]
  },
  {
   "cell_type": "code",
   "execution_count": 9,
   "id": "ad5147f9",
   "metadata": {},
   "outputs": [],
   "source": [
    "# Function to explode in different lines based on a given pattern\n",
    "def explode_lines(df, column, pattern):\n",
    "    # Make a copy of the original df\n",
    "    df_exploded = df.copy()\n",
    "    # Split the string in 2 based on the delimiter given and \n",
    "    # The result was given inside a list \n",
    "    df_exploded[column] = df_exploded[column].str.split(pattern)\n",
    "    # Explode in 2 lines based on the list items quantity \n",
    "    # ['item1', 'item2'], exploded in 2 lines\n",
    "    df_exploded = df_exploded.explode(column)\n",
    "    # Return the df exploded\n",
    "    return df_exploded"
   ]
  },
  {
   "cell_type": "code",
   "execution_count": 10,
   "id": "d1ccbee6",
   "metadata": {},
   "outputs": [],
   "source": [
    "# Function to move the strings before char (:) from column security to column model\n",
    "def move_string_to_column_model(df):\n",
    "    # Function to explode in separate lines strings from security column\n",
    "    df_exploded = explode_lines(df, 'Security', '\\n')\n",
    "    # Reset the index\n",
    "    df_resetted_index = df_exploded.reset_index(drop=True)\n",
    "    # Split the string in the security column using the (:) as the delimeter\n",
    "    df_resetted_index['Security'] = df_resetted_index['Security'].str.split(\":\")\n",
    "\n",
    "    # Loop to iterate under the df indexes\n",
    "    for idx in df_resetted_index.index:\n",
    "        # Method to move the manufactured date to the model column\n",
    "        df_resetted_index['Model'][idx] = f'{df_resetted_index['Model'][idx]} ({df_resetted_index['Security'][idx][0]})'\n",
    "        # Remove manufactured date from security column\n",
    "        df_resetted_index['Security'][idx].pop(0)\n",
    "\n",
    "    # Extracts the string from list under security column  \n",
    "    df_security_list = df_resetted_index['Security'].str.join(' ')\n",
    "\n",
    "    # Update the df\n",
    "    df_resetted_index['Security'] = df_security_list\n",
    "\n",
    "    # Return a df with the strings before (:) moved to column model\n",
    "    return df_resetted_index"
   ]
  },
  {
   "cell_type": "code",
   "execution_count": 11,
   "id": "40ead3bb",
   "metadata": {},
   "outputs": [],
   "source": [
    "# Call the function to create a df with the string should be changed under column security\n",
    "df_lincoln_keyed_push_to_start = create_df_from_str(df_lincoln, 'Security', 'Keyed Ignition: PATS Type C (Instrument Cluster)\\nPush To Start: PATS Type C (Remote Function Actuator / Keyless Vehicle Module)')"
   ]
  },
  {
   "cell_type": "code",
   "execution_count": 13,
   "id": "0ecfc165",
   "metadata": {},
   "outputs": [],
   "source": [
    "# Create a list with the indexes, they should be dropped from the df\n",
    "lincoln_keyed_push_to_start_indexes_list = list(df_lincoln_keyed_push_to_start.index)"
   ]
  },
  {
   "cell_type": "code",
   "execution_count": 14,
   "id": "35f3a5b5",
   "metadata": {},
   "outputs": [
    {
     "name": "stderr",
     "output_type": "stream",
     "text": [
      "C:\\Users\\Weverson Barbieri\\AppData\\Local\\Temp\\ipykernel_12576\\3062641589.py:13: FutureWarning: ChainedAssignmentError: behaviour will change in pandas 3.0!\n",
      "You are setting values through chained assignment. Currently this works in certain cases, but when using Copy-on-Write (which will become the default behaviour in pandas 3.0) this will never work to update the original DataFrame or Series, because the intermediate object on which we are setting values will behave as a copy.\n",
      "A typical example is when you are setting values in a column of a DataFrame, like:\n",
      "\n",
      "df[\"col\"][row_indexer] = value\n",
      "\n",
      "Use `df.loc[row_indexer, \"col\"] = values` instead, to perform the assignment in a single step and ensure this keeps updating the original `df`.\n",
      "\n",
      "See the caveats in the documentation: https://pandas.pydata.org/pandas-docs/stable/user_guide/indexing.html#returning-a-view-versus-a-copy\n",
      "\n",
      "  df_resetted_index['Model'][idx] = f'{df_resetted_index['Model'][idx]} ({df_resetted_index['Security'][idx][0]})'\n",
      "C:\\Users\\Weverson Barbieri\\AppData\\Local\\Temp\\ipykernel_12576\\3062641589.py:13: SettingWithCopyWarning: \n",
      "A value is trying to be set on a copy of a slice from a DataFrame\n",
      "\n",
      "See the caveats in the documentation: https://pandas.pydata.org/pandas-docs/stable/user_guide/indexing.html#returning-a-view-versus-a-copy\n",
      "  df_resetted_index['Model'][idx] = f'{df_resetted_index['Model'][idx]} ({df_resetted_index['Security'][idx][0]})'\n",
      "C:\\Users\\Weverson Barbieri\\AppData\\Local\\Temp\\ipykernel_12576\\3062641589.py:13: FutureWarning: ChainedAssignmentError: behaviour will change in pandas 3.0!\n",
      "You are setting values through chained assignment. Currently this works in certain cases, but when using Copy-on-Write (which will become the default behaviour in pandas 3.0) this will never work to update the original DataFrame or Series, because the intermediate object on which we are setting values will behave as a copy.\n",
      "A typical example is when you are setting values in a column of a DataFrame, like:\n",
      "\n",
      "df[\"col\"][row_indexer] = value\n",
      "\n",
      "Use `df.loc[row_indexer, \"col\"] = values` instead, to perform the assignment in a single step and ensure this keeps updating the original `df`.\n",
      "\n",
      "See the caveats in the documentation: https://pandas.pydata.org/pandas-docs/stable/user_guide/indexing.html#returning-a-view-versus-a-copy\n",
      "\n",
      "  df_resetted_index['Model'][idx] = f'{df_resetted_index['Model'][idx]} ({df_resetted_index['Security'][idx][0]})'\n",
      "C:\\Users\\Weverson Barbieri\\AppData\\Local\\Temp\\ipykernel_12576\\3062641589.py:13: SettingWithCopyWarning: \n",
      "A value is trying to be set on a copy of a slice from a DataFrame\n",
      "\n",
      "See the caveats in the documentation: https://pandas.pydata.org/pandas-docs/stable/user_guide/indexing.html#returning-a-view-versus-a-copy\n",
      "  df_resetted_index['Model'][idx] = f'{df_resetted_index['Model'][idx]} ({df_resetted_index['Security'][idx][0]})'\n",
      "C:\\Users\\Weverson Barbieri\\AppData\\Local\\Temp\\ipykernel_12576\\3062641589.py:13: FutureWarning: ChainedAssignmentError: behaviour will change in pandas 3.0!\n",
      "You are setting values through chained assignment. Currently this works in certain cases, but when using Copy-on-Write (which will become the default behaviour in pandas 3.0) this will never work to update the original DataFrame or Series, because the intermediate object on which we are setting values will behave as a copy.\n",
      "A typical example is when you are setting values in a column of a DataFrame, like:\n",
      "\n",
      "df[\"col\"][row_indexer] = value\n",
      "\n",
      "Use `df.loc[row_indexer, \"col\"] = values` instead, to perform the assignment in a single step and ensure this keeps updating the original `df`.\n",
      "\n",
      "See the caveats in the documentation: https://pandas.pydata.org/pandas-docs/stable/user_guide/indexing.html#returning-a-view-versus-a-copy\n",
      "\n",
      "  df_resetted_index['Model'][idx] = f'{df_resetted_index['Model'][idx]} ({df_resetted_index['Security'][idx][0]})'\n",
      "C:\\Users\\Weverson Barbieri\\AppData\\Local\\Temp\\ipykernel_12576\\3062641589.py:13: SettingWithCopyWarning: \n",
      "A value is trying to be set on a copy of a slice from a DataFrame\n",
      "\n",
      "See the caveats in the documentation: https://pandas.pydata.org/pandas-docs/stable/user_guide/indexing.html#returning-a-view-versus-a-copy\n",
      "  df_resetted_index['Model'][idx] = f'{df_resetted_index['Model'][idx]} ({df_resetted_index['Security'][idx][0]})'\n",
      "C:\\Users\\Weverson Barbieri\\AppData\\Local\\Temp\\ipykernel_12576\\3062641589.py:13: FutureWarning: ChainedAssignmentError: behaviour will change in pandas 3.0!\n",
      "You are setting values through chained assignment. Currently this works in certain cases, but when using Copy-on-Write (which will become the default behaviour in pandas 3.0) this will never work to update the original DataFrame or Series, because the intermediate object on which we are setting values will behave as a copy.\n",
      "A typical example is when you are setting values in a column of a DataFrame, like:\n",
      "\n",
      "df[\"col\"][row_indexer] = value\n",
      "\n",
      "Use `df.loc[row_indexer, \"col\"] = values` instead, to perform the assignment in a single step and ensure this keeps updating the original `df`.\n",
      "\n",
      "See the caveats in the documentation: https://pandas.pydata.org/pandas-docs/stable/user_guide/indexing.html#returning-a-view-versus-a-copy\n",
      "\n",
      "  df_resetted_index['Model'][idx] = f'{df_resetted_index['Model'][idx]} ({df_resetted_index['Security'][idx][0]})'\n",
      "C:\\Users\\Weverson Barbieri\\AppData\\Local\\Temp\\ipykernel_12576\\3062641589.py:13: SettingWithCopyWarning: \n",
      "A value is trying to be set on a copy of a slice from a DataFrame\n",
      "\n",
      "See the caveats in the documentation: https://pandas.pydata.org/pandas-docs/stable/user_guide/indexing.html#returning-a-view-versus-a-copy\n",
      "  df_resetted_index['Model'][idx] = f'{df_resetted_index['Model'][idx]} ({df_resetted_index['Security'][idx][0]})'\n",
      "C:\\Users\\Weverson Barbieri\\AppData\\Local\\Temp\\ipykernel_12576\\3062641589.py:13: FutureWarning: ChainedAssignmentError: behaviour will change in pandas 3.0!\n",
      "You are setting values through chained assignment. Currently this works in certain cases, but when using Copy-on-Write (which will become the default behaviour in pandas 3.0) this will never work to update the original DataFrame or Series, because the intermediate object on which we are setting values will behave as a copy.\n",
      "A typical example is when you are setting values in a column of a DataFrame, like:\n",
      "\n",
      "df[\"col\"][row_indexer] = value\n",
      "\n",
      "Use `df.loc[row_indexer, \"col\"] = values` instead, to perform the assignment in a single step and ensure this keeps updating the original `df`.\n",
      "\n",
      "See the caveats in the documentation: https://pandas.pydata.org/pandas-docs/stable/user_guide/indexing.html#returning-a-view-versus-a-copy\n",
      "\n",
      "  df_resetted_index['Model'][idx] = f'{df_resetted_index['Model'][idx]} ({df_resetted_index['Security'][idx][0]})'\n",
      "C:\\Users\\Weverson Barbieri\\AppData\\Local\\Temp\\ipykernel_12576\\3062641589.py:13: SettingWithCopyWarning: \n",
      "A value is trying to be set on a copy of a slice from a DataFrame\n",
      "\n",
      "See the caveats in the documentation: https://pandas.pydata.org/pandas-docs/stable/user_guide/indexing.html#returning-a-view-versus-a-copy\n",
      "  df_resetted_index['Model'][idx] = f'{df_resetted_index['Model'][idx]} ({df_resetted_index['Security'][idx][0]})'\n",
      "C:\\Users\\Weverson Barbieri\\AppData\\Local\\Temp\\ipykernel_12576\\3062641589.py:13: FutureWarning: ChainedAssignmentError: behaviour will change in pandas 3.0!\n",
      "You are setting values through chained assignment. Currently this works in certain cases, but when using Copy-on-Write (which will become the default behaviour in pandas 3.0) this will never work to update the original DataFrame or Series, because the intermediate object on which we are setting values will behave as a copy.\n",
      "A typical example is when you are setting values in a column of a DataFrame, like:\n",
      "\n",
      "df[\"col\"][row_indexer] = value\n",
      "\n",
      "Use `df.loc[row_indexer, \"col\"] = values` instead, to perform the assignment in a single step and ensure this keeps updating the original `df`.\n",
      "\n",
      "See the caveats in the documentation: https://pandas.pydata.org/pandas-docs/stable/user_guide/indexing.html#returning-a-view-versus-a-copy\n",
      "\n",
      "  df_resetted_index['Model'][idx] = f'{df_resetted_index['Model'][idx]} ({df_resetted_index['Security'][idx][0]})'\n",
      "C:\\Users\\Weverson Barbieri\\AppData\\Local\\Temp\\ipykernel_12576\\3062641589.py:13: SettingWithCopyWarning: \n",
      "A value is trying to be set on a copy of a slice from a DataFrame\n",
      "\n",
      "See the caveats in the documentation: https://pandas.pydata.org/pandas-docs/stable/user_guide/indexing.html#returning-a-view-versus-a-copy\n",
      "  df_resetted_index['Model'][idx] = f'{df_resetted_index['Model'][idx]} ({df_resetted_index['Security'][idx][0]})'\n",
      "C:\\Users\\Weverson Barbieri\\AppData\\Local\\Temp\\ipykernel_12576\\3062641589.py:13: FutureWarning: ChainedAssignmentError: behaviour will change in pandas 3.0!\n",
      "You are setting values through chained assignment. Currently this works in certain cases, but when using Copy-on-Write (which will become the default behaviour in pandas 3.0) this will never work to update the original DataFrame or Series, because the intermediate object on which we are setting values will behave as a copy.\n",
      "A typical example is when you are setting values in a column of a DataFrame, like:\n",
      "\n",
      "df[\"col\"][row_indexer] = value\n",
      "\n",
      "Use `df.loc[row_indexer, \"col\"] = values` instead, to perform the assignment in a single step and ensure this keeps updating the original `df`.\n",
      "\n",
      "See the caveats in the documentation: https://pandas.pydata.org/pandas-docs/stable/user_guide/indexing.html#returning-a-view-versus-a-copy\n",
      "\n",
      "  df_resetted_index['Model'][idx] = f'{df_resetted_index['Model'][idx]} ({df_resetted_index['Security'][idx][0]})'\n",
      "C:\\Users\\Weverson Barbieri\\AppData\\Local\\Temp\\ipykernel_12576\\3062641589.py:13: SettingWithCopyWarning: \n",
      "A value is trying to be set on a copy of a slice from a DataFrame\n",
      "\n",
      "See the caveats in the documentation: https://pandas.pydata.org/pandas-docs/stable/user_guide/indexing.html#returning-a-view-versus-a-copy\n",
      "  df_resetted_index['Model'][idx] = f'{df_resetted_index['Model'][idx]} ({df_resetted_index['Security'][idx][0]})'\n",
      "C:\\Users\\Weverson Barbieri\\AppData\\Local\\Temp\\ipykernel_12576\\3062641589.py:13: FutureWarning: ChainedAssignmentError: behaviour will change in pandas 3.0!\n",
      "You are setting values through chained assignment. Currently this works in certain cases, but when using Copy-on-Write (which will become the default behaviour in pandas 3.0) this will never work to update the original DataFrame or Series, because the intermediate object on which we are setting values will behave as a copy.\n",
      "A typical example is when you are setting values in a column of a DataFrame, like:\n",
      "\n",
      "df[\"col\"][row_indexer] = value\n",
      "\n",
      "Use `df.loc[row_indexer, \"col\"] = values` instead, to perform the assignment in a single step and ensure this keeps updating the original `df`.\n",
      "\n",
      "See the caveats in the documentation: https://pandas.pydata.org/pandas-docs/stable/user_guide/indexing.html#returning-a-view-versus-a-copy\n",
      "\n",
      "  df_resetted_index['Model'][idx] = f'{df_resetted_index['Model'][idx]} ({df_resetted_index['Security'][idx][0]})'\n",
      "C:\\Users\\Weverson Barbieri\\AppData\\Local\\Temp\\ipykernel_12576\\3062641589.py:13: SettingWithCopyWarning: \n",
      "A value is trying to be set on a copy of a slice from a DataFrame\n",
      "\n",
      "See the caveats in the documentation: https://pandas.pydata.org/pandas-docs/stable/user_guide/indexing.html#returning-a-view-versus-a-copy\n",
      "  df_resetted_index['Model'][idx] = f'{df_resetted_index['Model'][idx]} ({df_resetted_index['Security'][idx][0]})'\n"
     ]
    }
   ],
   "source": [
    "# Call the function to move the strings from column security to column model from MODEL: MKS\n",
    "df_lincoln_mks_moved_strings = move_string_to_column_model(df_lincoln_keyed_push_to_start)"
   ]
  },
  {
   "cell_type": "code",
   "execution_count": 15,
   "id": "99c1570b",
   "metadata": {},
   "outputs": [
    {
     "data": {
      "text/html": [
       "<div>\n",
       "<style scoped>\n",
       "    .dataframe tbody tr th:only-of-type {\n",
       "        vertical-align: middle;\n",
       "    }\n",
       "\n",
       "    .dataframe tbody tr th {\n",
       "        vertical-align: top;\n",
       "    }\n",
       "\n",
       "    .dataframe thead th {\n",
       "        text-align: right;\n",
       "    }\n",
       "</style>\n",
       "<table border=\"1\" class=\"dataframe\">\n",
       "  <thead>\n",
       "    <tr style=\"text-align: right;\">\n",
       "      <th></th>\n",
       "      <th>Year</th>\n",
       "      <th>Make</th>\n",
       "      <th>Model</th>\n",
       "      <th>Security</th>\n",
       "      <th>ParameterReset</th>\n",
       "    </tr>\n",
       "  </thead>\n",
       "  <tbody>\n",
       "    <tr>\n",
       "      <th>0</th>\n",
       "      <td>2009</td>\n",
       "      <td>Lincoln</td>\n",
       "      <td>MKS (Keyed Ignition)</td>\n",
       "      <td>PATS Type C (Instrument Cluster)</td>\n",
       "      <td>Parameter Reset Required</td>\n",
       "    </tr>\n",
       "    <tr>\n",
       "      <th>1</th>\n",
       "      <td>2009</td>\n",
       "      <td>Lincoln</td>\n",
       "      <td>MKS (Push To Start)</td>\n",
       "      <td>PATS Type C (Remote Function Actuator / Keyle...</td>\n",
       "      <td>Parameter Reset Required</td>\n",
       "    </tr>\n",
       "    <tr>\n",
       "      <th>2</th>\n",
       "      <td>2010</td>\n",
       "      <td>Lincoln</td>\n",
       "      <td>MKS (Keyed Ignition)</td>\n",
       "      <td>PATS Type C (Instrument Cluster)</td>\n",
       "      <td>Parameter Reset Required</td>\n",
       "    </tr>\n",
       "    <tr>\n",
       "      <th>3</th>\n",
       "      <td>2010</td>\n",
       "      <td>Lincoln</td>\n",
       "      <td>MKS (Push To Start)</td>\n",
       "      <td>PATS Type C (Remote Function Actuator / Keyle...</td>\n",
       "      <td>Parameter Reset Required</td>\n",
       "    </tr>\n",
       "    <tr>\n",
       "      <th>4</th>\n",
       "      <td>2011</td>\n",
       "      <td>Lincoln</td>\n",
       "      <td>MKS (Keyed Ignition)</td>\n",
       "      <td>PATS Type C (Instrument Cluster)</td>\n",
       "      <td>Parameter Reset Required</td>\n",
       "    </tr>\n",
       "    <tr>\n",
       "      <th>5</th>\n",
       "      <td>2011</td>\n",
       "      <td>Lincoln</td>\n",
       "      <td>MKS (Push To Start)</td>\n",
       "      <td>PATS Type C (Remote Function Actuator / Keyle...</td>\n",
       "      <td>Parameter Reset Required</td>\n",
       "    </tr>\n",
       "    <tr>\n",
       "      <th>6</th>\n",
       "      <td>2012</td>\n",
       "      <td>Lincoln</td>\n",
       "      <td>MKS (Keyed Ignition)</td>\n",
       "      <td>PATS Type C (Instrument Cluster)</td>\n",
       "      <td>Parameter Reset Required</td>\n",
       "    </tr>\n",
       "    <tr>\n",
       "      <th>7</th>\n",
       "      <td>2012</td>\n",
       "      <td>Lincoln</td>\n",
       "      <td>MKS (Push To Start)</td>\n",
       "      <td>PATS Type C (Remote Function Actuator / Keyle...</td>\n",
       "      <td>Parameter Reset Required</td>\n",
       "    </tr>\n",
       "  </tbody>\n",
       "</table>\n",
       "</div>"
      ],
      "text/plain": [
       "   Year     Make                 Model  \\\n",
       "0  2009  Lincoln  MKS (Keyed Ignition)   \n",
       "1  2009  Lincoln   MKS (Push To Start)   \n",
       "2  2010  Lincoln  MKS (Keyed Ignition)   \n",
       "3  2010  Lincoln   MKS (Push To Start)   \n",
       "4  2011  Lincoln  MKS (Keyed Ignition)   \n",
       "5  2011  Lincoln   MKS (Push To Start)   \n",
       "6  2012  Lincoln  MKS (Keyed Ignition)   \n",
       "7  2012  Lincoln   MKS (Push To Start)   \n",
       "\n",
       "                                            Security            ParameterReset  \n",
       "0                   PATS Type C (Instrument Cluster)  Parameter Reset Required  \n",
       "1   PATS Type C (Remote Function Actuator / Keyle...  Parameter Reset Required  \n",
       "2                   PATS Type C (Instrument Cluster)  Parameter Reset Required  \n",
       "3   PATS Type C (Remote Function Actuator / Keyle...  Parameter Reset Required  \n",
       "4                   PATS Type C (Instrument Cluster)  Parameter Reset Required  \n",
       "5   PATS Type C (Remote Function Actuator / Keyle...  Parameter Reset Required  \n",
       "6                   PATS Type C (Instrument Cluster)  Parameter Reset Required  \n",
       "7   PATS Type C (Remote Function Actuator / Keyle...  Parameter Reset Required  "
      ]
     },
     "execution_count": 15,
     "metadata": {},
     "output_type": "execute_result"
    }
   ],
   "source": [
    "# Print the df after moving the strings\n",
    "df_lincoln_mks_moved_strings"
   ]
  },
  {
   "cell_type": "code",
   "execution_count": 41,
   "id": "4bbe61bc",
   "metadata": {},
   "outputs": [],
   "source": [
    "# Concatenate all the keyed and push to start df to the main df\n",
    "df_lincoln_mks_moved_strings_concated = pd.concat([df_lincoln, df_lincoln_mks_moved_strings])"
   ]
  },
  {
   "cell_type": "code",
   "execution_count": 42,
   "id": "fc1e2e87",
   "metadata": {},
   "outputs": [],
   "source": [
    "# Remove the rows with the old Keyed Ignition and push to start string\n",
    "df_lincoln_mks_dropped_old_string = df_lincoln_mks_moved_strings_concated.drop(index=lincoln_keyed_push_to_start_indexes_list)"
   ]
  },
  {
   "cell_type": "code",
   "execution_count": 43,
   "id": "252d2eeb",
   "metadata": {},
   "outputs": [
    {
     "data": {
      "text/plain": [
       "{'Aviator',\n",
       " 'Blackwood',\n",
       " 'Continental',\n",
       " 'LS',\n",
       " 'MKS',\n",
       " 'MKS (Keyed Ignition)',\n",
       " 'MKS (Push To Start)',\n",
       " 'MKT',\n",
       " 'MKX',\n",
       " 'MKZ',\n",
       " 'MKZ (Push to Start)',\n",
       " 'Mark LT',\n",
       " 'Mark VIII',\n",
       " 'Navigator',\n",
       " 'Town Car',\n",
       " 'Zephyr'}"
      ]
     },
     "execution_count": 43,
     "metadata": {},
     "output_type": "execute_result"
    }
   ],
   "source": [
    "# Print the strings from column model to confirm if they are updated\n",
    "data_from_column(df_lincoln_mks_dropped_old_string, 'Model')"
   ]
  },
  {
   "cell_type": "code",
   "execution_count": 44,
   "id": "55089c55",
   "metadata": {},
   "outputs": [
    {
     "data": {
      "text/plain": [
       "{' PATS Type C (Instrument Cluster)',\n",
       " ' PATS Type C (Remote Function Actuator / Keyless Vehicle Module)',\n",
       " 'New in 2009',\n",
       " 'New in 2010',\n",
       " 'PATS Type A (Stand Alone PATS Module)',\n",
       " 'PATS Type B (Body Control Module)',\n",
       " 'PATS Type C (Instrument Cluster)',\n",
       " 'PATS Type C (Remote Function Actuator / Keyless Vehicle Module)',\n",
       " 'PATS Type D (Steering Column Ignition Lock Module)',\n",
       " 'PATS Type E (Powertrain Control Module)'}"
      ]
     },
     "execution_count": 44,
     "metadata": {},
     "output_type": "execute_result"
    }
   ],
   "source": [
    "# Print the strings from columns security to confirm if they are updated\n",
    "data_from_column(df_lincoln_mks_dropped_old_string, 'Security')"
   ]
  },
  {
   "cell_type": "markdown",
   "id": "67afbc9a",
   "metadata": {},
   "source": [
    "### PATS Type and Anti-Theft Module Location separation:\n",
    "PATS (Passive Anti-Theft System) Type and Anti-Theft Module Location are currently in the same column. However, the PATS Type defines which key learning procedure should be performed. To make it easier to indicate the correct procedure, it is necessary to separate this information. See below how it is currently and how it should look after the update.\n",
    "\n",
    "- Before changes:  \n",
    "Year: 2000  \n",
    "Make: Lincoln  \n",
    "Model: L-XX (Built February 1st or earlier)   \n",
    "Security: PATS Type G (Instrument Cluster)  \n",
    "\n",
    "- After changes:  \n",
    "Year: 2000  \n",
    "Make: Lincoln  \n",
    "Model: L-XX  \n",
    "PATS Type: PATS Type G  \n",
    "Anti-Theft Module Location: Instrument Cluster"
   ]
  },
  {
   "cell_type": "code",
   "execution_count": 45,
   "id": "5cd2591a",
   "metadata": {},
   "outputs": [],
   "source": [
    "# This function will separate the columns as described above\n",
    "def split_pats_type_from_module_location(df):\n",
    "\n",
    "    # Split the security string considering the '(' as the delimiter\n",
    "    df['Security'] = df['Security'].str.split('(')\n",
    "\n",
    "    # Loop to iterate under the df indexes\n",
    "    for idx in df.index:\n",
    "        # Method to add a new column to the df, pulling the PATS Type from security column \n",
    "        df.at[idx, 'PATS Type'] = f'{df['Security'][idx][0]}'\n",
    "        # Remove the PATS Type from the security column\n",
    "        df['Security'][idx].pop(0)\n",
    "\n",
    "    # Extracts the string from list under security column  \n",
    "    df_anti_theft_module_location_list = df['Security'].str.join(' ')\n",
    "\n",
    "    # Update the df\n",
    "    df['Security'] = df_anti_theft_module_location_list\n",
    "\n",
    "    # Remove char ')' from column security\n",
    "    df['Security'] = df['Security'].str.replace(')', '', regex=False)\n",
    "\n",
    "    # Rename column security to 'Anti-Theft Module Location'\n",
    "    df = df.rename(columns={'Security': 'Anti-Theft Module Location'})\n",
    "\n",
    "    # Reorder columns \n",
    "    df_updated_reordered_columns = df[['Year', 'Make', 'Model', 'Anti-Theft Module Location', 'PATS Type', 'ParameterReset']]\n",
    "\n",
    "    # Return the df updated: columns for pats type and anti-theft module location separated\n",
    "    return df_updated_reordered_columns"
   ]
  },
  {
   "cell_type": "code",
   "execution_count": 46,
   "id": "ef6deb21",
   "metadata": {},
   "outputs": [],
   "source": [
    "# Print the head to confirm the changes\n",
    "df_lincoln_reordered_columns = split_pats_type_from_module_location(df_lincoln_mks_dropped_old_string)"
   ]
  },
  {
   "cell_type": "markdown",
   "id": "5509051b",
   "metadata": {},
   "source": [
    "### Check if the new column is correct has the correct string"
   ]
  },
  {
   "cell_type": "code",
   "execution_count": 47,
   "id": "1b6d366e",
   "metadata": {},
   "outputs": [
    {
     "data": {
      "text/plain": [
       "{'',\n",
       " 'Body Control Module',\n",
       " 'Instrument Cluster',\n",
       " 'Powertrain Control Module',\n",
       " 'Remote Function Actuator / Keyless Vehicle Module',\n",
       " 'Stand Alone PATS Module',\n",
       " 'Steering Column Ignition Lock Module'}"
      ]
     },
     "execution_count": 47,
     "metadata": {},
     "output_type": "execute_result"
    }
   ],
   "source": [
    "data_from_column(df_lincoln_reordered_columns, 'Anti-Theft Module Location')"
   ]
  },
  {
   "cell_type": "code",
   "execution_count": 48,
   "id": "66702051",
   "metadata": {},
   "outputs": [
    {
     "data": {
      "text/plain": [
       "{' PATS Type C ',\n",
       " 'New in 2009',\n",
       " 'New in 2010',\n",
       " 'PATS Type A ',\n",
       " 'PATS Type B ',\n",
       " 'PATS Type C ',\n",
       " 'PATS Type D ',\n",
       " 'PATS Type E '}"
      ]
     },
     "execution_count": 48,
     "metadata": {},
     "output_type": "execute_result"
    }
   ],
   "source": [
    "data_from_column(df_lincoln_reordered_columns, 'PATS Type')"
   ]
  },
  {
   "cell_type": "code",
   "execution_count": 49,
   "id": "fdc76b7f",
   "metadata": {},
   "outputs": [
    {
     "data": {
      "text/plain": [
       "{'Parameter Reset Not Required', 'Parameter Reset Required', nan}"
      ]
     },
     "execution_count": 49,
     "metadata": {},
     "output_type": "execute_result"
    }
   ],
   "source": [
    "# Check if column parameter reset needs to be change\n",
    "data_from_column(df_lincoln_reordered_columns, 'ParameterReset')"
   ]
  },
  {
   "cell_type": "code",
   "execution_count": 51,
   "id": "30960a77",
   "metadata": {},
   "outputs": [],
   "source": [
    "# Check the rows with empty values\n",
    "df_lincoln_empty_rows = df_lincoln_reordered_columns[df_lincoln_reordered_columns['Anti-Theft Module Location'] == '']"
   ]
  },
  {
   "cell_type": "code",
   "execution_count": 52,
   "id": "e0e35451",
   "metadata": {},
   "outputs": [
    {
     "data": {
      "text/html": [
       "<div>\n",
       "<style scoped>\n",
       "    .dataframe tbody tr th:only-of-type {\n",
       "        vertical-align: middle;\n",
       "    }\n",
       "\n",
       "    .dataframe tbody tr th {\n",
       "        vertical-align: top;\n",
       "    }\n",
       "\n",
       "    .dataframe thead th {\n",
       "        text-align: right;\n",
       "    }\n",
       "</style>\n",
       "<table border=\"1\" class=\"dataframe\">\n",
       "  <thead>\n",
       "    <tr style=\"text-align: right;\">\n",
       "      <th></th>\n",
       "      <th>Year</th>\n",
       "      <th>Make</th>\n",
       "      <th>Model</th>\n",
       "      <th>Anti-Theft Module Location</th>\n",
       "      <th>PATS Type</th>\n",
       "      <th>ParameterReset</th>\n",
       "    </tr>\n",
       "  </thead>\n",
       "  <tbody>\n",
       "    <tr>\n",
       "      <th>2135</th>\n",
       "      <td>2008</td>\n",
       "      <td>Lincoln</td>\n",
       "      <td>MKS</td>\n",
       "      <td></td>\n",
       "      <td>New in 2009</td>\n",
       "      <td>NaN</td>\n",
       "    </tr>\n",
       "    <tr>\n",
       "      <th>2383</th>\n",
       "      <td>2009</td>\n",
       "      <td>Lincoln</td>\n",
       "      <td>MKT</td>\n",
       "      <td></td>\n",
       "      <td>New in 2010</td>\n",
       "      <td>NaN</td>\n",
       "    </tr>\n",
       "  </tbody>\n",
       "</table>\n",
       "</div>"
      ],
      "text/plain": [
       "      Year     Make Model Anti-Theft Module Location    PATS Type  \\\n",
       "2135  2008  Lincoln   MKS                             New in 2009   \n",
       "2383  2009  Lincoln   MKT                             New in 2010   \n",
       "\n",
       "     ParameterReset  \n",
       "2135            NaN  \n",
       "2383            NaN  "
      ]
     },
     "execution_count": 52,
     "metadata": {},
     "output_type": "execute_result"
    }
   ],
   "source": [
    "# Print the df with empty values\n",
    "df_lincoln_empty_rows"
   ]
  },
  {
   "cell_type": "markdown",
   "id": "3d763297",
   "metadata": {},
   "source": [
    "The empty cells in the columns 'Anti-Theft Module Location' and 'ParameterReset' refer to the modules 2008 Lincoln MKS and 2009 Lincoln MKT, which were mistakenly included in the original DataFrame, as these models and years do not exist. This may explain the information 'New in 2009' and 'New in 2010' in the 'PATS Type' column. Therefore, these modules will be removed from the DataFrame."
   ]
  },
  {
   "cell_type": "code",
   "execution_count": 53,
   "id": "c6e37e5e",
   "metadata": {},
   "outputs": [],
   "source": [
    "# Drop non existent models\n",
    "df_lincoln_dropped_empty_rows = df_lincoln_reordered_columns.drop(index=list(df_lincoln_empty_rows.index))"
   ]
  },
  {
   "cell_type": "markdown",
   "id": "bb5530bb",
   "metadata": {},
   "source": [
    "### Make sure the columns no longer have empty values and non existent models were removed"
   ]
  },
  {
   "cell_type": "code",
   "execution_count": 55,
   "id": "408f7c68",
   "metadata": {},
   "outputs": [
    {
     "data": {
      "text/plain": [
       "{'Body Control Module',\n",
       " 'Instrument Cluster',\n",
       " 'Powertrain Control Module',\n",
       " 'Remote Function Actuator / Keyless Vehicle Module',\n",
       " 'Stand Alone PATS Module',\n",
       " 'Steering Column Ignition Lock Module'}"
      ]
     },
     "execution_count": 55,
     "metadata": {},
     "output_type": "execute_result"
    }
   ],
   "source": [
    "data_from_column(df_lincoln_dropped_empty_rows, 'Anti-Theft Module Location')"
   ]
  },
  {
   "cell_type": "code",
   "execution_count": 56,
   "id": "ec6643f5",
   "metadata": {},
   "outputs": [
    {
     "data": {
      "text/plain": [
       "{' PATS Type C ',\n",
       " 'PATS Type A ',\n",
       " 'PATS Type B ',\n",
       " 'PATS Type C ',\n",
       " 'PATS Type D ',\n",
       " 'PATS Type E '}"
      ]
     },
     "execution_count": 56,
     "metadata": {},
     "output_type": "execute_result"
    }
   ],
   "source": [
    "data_from_column(df_lincoln_dropped_empty_rows, 'PATS Type')"
   ]
  },
  {
   "cell_type": "code",
   "execution_count": 57,
   "id": "9c7a9d04",
   "metadata": {},
   "outputs": [
    {
     "data": {
      "text/plain": [
       "{'Parameter Reset Not Required', 'Parameter Reset Required'}"
      ]
     },
     "execution_count": 57,
     "metadata": {},
     "output_type": "execute_result"
    }
   ],
   "source": [
    "data_from_column(df_lincoln_dropped_empty_rows, 'ParameterReset')"
   ]
  },
  {
   "cell_type": "code",
   "execution_count": null,
   "id": "d62611e8",
   "metadata": {},
   "outputs": [],
   "source": [
    "# Export the to .csv file\n",
    "# df_lincoln_dropped_empty_rows.to_csv('C:\\\\Language_Projects\\\\Language_Projects\\\\Python\\\\Flagship_1\\\\vehicle_security_system_data_cleaning\\\\data\\\\df_lincoln.csv', index=False)"
   ]
  }
 ],
 "metadata": {
  "kernelspec": {
   "display_name": "venv",
   "language": "python",
   "name": "python3"
  },
  "language_info": {
   "codemirror_mode": {
    "name": "ipython",
    "version": 3
   },
   "file_extension": ".py",
   "mimetype": "text/x-python",
   "name": "python",
   "nbconvert_exporter": "python",
   "pygments_lexer": "ipython3",
   "version": "3.12.2"
  }
 },
 "nbformat": 4,
 "nbformat_minor": 5
}
