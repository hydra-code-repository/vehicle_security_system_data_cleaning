{
 "cells": [
  {
   "cell_type": "code",
   "execution_count": 1,
   "metadata": {},
   "outputs": [],
   "source": [
    "import pandas as pd\n",
    "import os"
   ]
  },
  {
   "cell_type": "code",
   "execution_count": 2,
   "metadata": {},
   "outputs": [],
   "source": [
    "# This function creates the path to the main Excel file of this project\n",
    "# Uses os library methods to ensure the file path works in both local and GitHub CI/CD environments\n",
    "def create_file_path(file_relative_path):\n",
    "    # Store the xlsx file dir into a var\n",
    "    dir = '../data'\n",
    "    \n",
    "    # Iterate under dir data to have all files\n",
    "    for filename in os.listdir(dir):\n",
    "        # Condition to confirm which file is == year_make_model_df.xlsx\n",
    "        if filename.endswith(file_relative_path):\n",
    "            # Join the dir + filename to create the path to year_make_model_df.xlsx file  \n",
    "            xlsx_file_fullpath = os.path.join(dir, filename)\n",
    "            # Print the result\n",
    "            print(xlsx_file_fullpath)\n",
    "    return xlsx_file_fullpath"
   ]
  },
  {
   "cell_type": "code",
   "execution_count": 3,
   "metadata": {},
   "outputs": [
    {
     "name": "stdout",
     "output_type": "stream",
     "text": [
      "../data\\year_make_model_df.xlsx\n"
     ]
    }
   ],
   "source": [
    "# Read excel \n",
    "df = pd.read_excel(create_file_path('year_make_model_df.xlsx'))"
   ]
  },
  {
   "cell_type": "code",
   "execution_count": 4,
   "metadata": {},
   "outputs": [],
   "source": [
    "# Create df\n",
    "df_toyota = df[df[\"Make\"] == \"Toyota\"]"
   ]
  },
  {
   "cell_type": "code",
   "execution_count": 5,
   "metadata": {},
   "outputs": [
    {
     "name": "stdout",
     "output_type": "stream",
     "text": [
      "<class 'pandas.core.frame.DataFrame'>\n",
      "Index: 272 entries, 215 to 3408\n",
      "Data columns (total 5 columns):\n",
      " #   Column          Non-Null Count  Dtype \n",
      "---  ------          --------------  ----- \n",
      " 0   Year            272 non-null    int64 \n",
      " 1   Make            272 non-null    object\n",
      " 2   Model           272 non-null    object\n",
      " 3   Security        210 non-null    object\n",
      " 4   ParameterReset  0 non-null      object\n",
      "dtypes: int64(1), object(4)\n",
      "memory usage: 12.8+ KB\n"
     ]
    }
   ],
   "source": [
    "# Check if there are null values\n",
    "df_toyota.info()"
   ]
  },
  {
   "cell_type": "code",
   "execution_count": 6,
   "metadata": {},
   "outputs": [],
   "source": [
    "# Function to create list with unique items from given column\n",
    "def data_from_column(df, column):\n",
    "    # List to append the items\n",
    "    data_column_list =[]\n",
    "\n",
    "    # Iterate over given column\n",
    "    for data in df[column]:\n",
    "        # Append the items from the given column\n",
    "        data_column_list.append(data)\n",
    "\n",
    "    # Return a set with unique items from given column\n",
    "    return set(data_column_list)"
   ]
  },
  {
   "cell_type": "code",
   "execution_count": 7,
   "metadata": {},
   "outputs": [
    {
     "data": {
      "text/plain": [
       "{'4 Runner',\n",
       " 'Avalon',\n",
       " 'Avalon\\nLimited',\n",
       " 'Avalon Limited',\n",
       " 'Camry',\n",
       " 'Celica',\n",
       " 'Corolla',\n",
       " 'Echo',\n",
       " 'FJ Cruiser',\n",
       " 'Highlander',\n",
       " 'Landcruiser',\n",
       " 'MR2\\nSpyder',\n",
       " 'MR2 Spyder',\n",
       " 'Matrix',\n",
       " 'Prius',\n",
       " 'Prius C',\n",
       " 'Prius Plug\\nIn',\n",
       " 'Prius V',\n",
       " 'RAV 4',\n",
       " 'RAV4 Plug\\nin',\n",
       " 'Sequoia',\n",
       " 'Sienna',\n",
       " 'Solara',\n",
       " 'Tacoma',\n",
       " 'Tundra',\n",
       " 'Venza',\n",
       " 'Yaris'}"
      ]
     },
     "execution_count": 7,
     "metadata": {},
     "output_type": "execute_result"
    }
   ],
   "source": [
    "# Call the function to create a set with unique items from column model\n",
    "data_from_column(df_toyota, \"Model\")"
   ]
  },
  {
   "cell_type": "markdown",
   "metadata": {},
   "source": [
    "# CHANGES NEEDED:\n",
    "- Replace the caractere '\\n' for space ' '"
   ]
  },
  {
   "cell_type": "code",
   "execution_count": 7,
   "metadata": {},
   "outputs": [
    {
     "name": "stderr",
     "output_type": "stream",
     "text": [
      "C:\\Users\\Weverson Barbieri\\AppData\\Local\\Temp\\ipykernel_10720\\577801455.py:2: SettingWithCopyWarning: \n",
      "A value is trying to be set on a copy of a slice from a DataFrame.\n",
      "Try using .loc[row_indexer,col_indexer] = value instead\n",
      "\n",
      "See the caveats in the documentation: https://pandas.pydata.org/pandas-docs/stable/user_guide/indexing.html#returning-a-view-versus-a-copy\n",
      "  df_toyota['Model'] = df_toyota['Model'].str.replace(\"\\n\", \" \", regex=False)\n"
     ]
    }
   ],
   "source": [
    "# Replace the caractere '\\n' for space ' '\n",
    "df_toyota['Model'] = df_toyota['Model'].str.replace(\"\\n\", \" \", regex=False)"
   ]
  },
  {
   "cell_type": "code",
   "execution_count": 8,
   "metadata": {},
   "outputs": [
    {
     "data": {
      "text/plain": [
       "{'Opt',\n",
       " 'Opt\\nOpt on Liftback',\n",
       " 'Opt Sed & Sed. “S”\\nN/A on Liftback',\n",
       " 'Smart',\n",
       " 'Smart\\nKey',\n",
       " 'Smart\\nKey Std',\n",
       " 'Smart Key',\n",
       " 'Smart Key Std',\n",
       " 'Std',\n",
       " 'Std\\nSmart Key HV',\n",
       " 'Std\\nSmart Ltd',\n",
       " 'Std\\nSmart XLE & HV',\n",
       " 'Std LE/ XLE/ XLE Limited',\n",
       " 'Std LTD',\n",
       " 'Std LTD pkg, Opt base',\n",
       " 'Std LTD, Opt SR5',\n",
       " 'Std Ltd & HV, Opt Base',\n",
       " 'Std Ltd, Opt Base',\n",
       " 'Std Ltd.',\n",
       " 'Std Ltd.\\nOpt all others',\n",
       " 'Std Opt LE',\n",
       " 'Std SLE Std SE V6',\n",
       " 'Std SLE, Opt SE',\n",
       " 'Std Smart Key HV',\n",
       " 'Std Smart LE',\n",
       " 'Std Smart Ltd',\n",
       " 'Std Smart Opt',\n",
       " 'Std Smart XLE',\n",
       " 'Std V6',\n",
       " 'Std V6, Opt 14',\n",
       " 'Std V6, Opt I4',\n",
       " 'Std V8, Opt V6',\n",
       " 'Std XLE',\n",
       " 'Std XLE\\nStd LE V6',\n",
       " 'Std XLE & LE\\nAnd Limited',\n",
       " 'Std XLE & Ltd Std AWD\\nCE/LE',\n",
       " 'Std XLE Std LE/SE V6',\n",
       " 'Std XLE, Opt LE',\n",
       " 'Std XLS',\n",
       " 'Std XLS, Opt XL',\n",
       " nan}"
      ]
     },
     "execution_count": 8,
     "metadata": {},
     "output_type": "execute_result"
    }
   ],
   "source": [
    "# Call the function to create a set with unique items from column Security\n",
    "data_from_column(df_toyota, \"Security\")"
   ]
  },
  {
   "cell_type": "markdown",
   "metadata": {},
   "source": [
    "Just replace the charactere '\\n' by space ' '."
   ]
  },
  {
   "cell_type": "code",
   "execution_count": 9,
   "metadata": {},
   "outputs": [
    {
     "name": "stderr",
     "output_type": "stream",
     "text": [
      "C:\\Users\\Weverson Barbieri\\AppData\\Local\\Temp\\ipykernel_10720\\1574045567.py:2: SettingWithCopyWarning: \n",
      "A value is trying to be set on a copy of a slice from a DataFrame.\n",
      "Try using .loc[row_indexer,col_indexer] = value instead\n",
      "\n",
      "See the caveats in the documentation: https://pandas.pydata.org/pandas-docs/stable/user_guide/indexing.html#returning-a-view-versus-a-copy\n",
      "  df_toyota['Security'] = df_toyota['Security'].str.replace('\\n', ' ', regex=False)\n"
     ]
    }
   ],
   "source": [
    "# Replace the charactere '\\n' by space ' '\n",
    "df_toyota['Security'] = df_toyota['Security'].str.replace('\\n', ' ', regex=False)"
   ]
  },
  {
   "cell_type": "code",
   "execution_count": 12,
   "metadata": {},
   "outputs": [],
   "source": [
    "# Reset index\n",
    "df_toyota_reset_index = df_toyota.reset_index(drop=True)"
   ]
  },
  {
   "cell_type": "code",
   "execution_count": null,
   "metadata": {},
   "outputs": [],
   "source": [
    "# Export the to .csv file\n",
    "# df_toyota_reset_index.to_csv('C:\\\\Language_Projects\\\\Language_Projects\\\\Python\\\\Flagship_1\\\\vehicle_security_system_data_cleaning\\\\data\\\\df_toyota.csv', index=False)"
   ]
  }
 ],
 "metadata": {
  "kernelspec": {
   "display_name": "venv",
   "language": "python",
   "name": "python3"
  },
  "language_info": {
   "codemirror_mode": {
    "name": "ipython",
    "version": 3
   },
   "file_extension": ".py",
   "mimetype": "text/x-python",
   "name": "python",
   "nbconvert_exporter": "python",
   "pygments_lexer": "ipython3",
   "version": "3.12.2"
  }
 },
 "nbformat": 4,
 "nbformat_minor": 2
}
