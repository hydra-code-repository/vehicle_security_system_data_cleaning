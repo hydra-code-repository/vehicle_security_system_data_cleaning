{
 "cells": [
  {
   "cell_type": "code",
   "execution_count": 22,
   "metadata": {},
   "outputs": [],
   "source": [
    "import pandas as pd\n",
    "import re\n",
    "import os"
   ]
  },
  {
   "cell_type": "code",
   "execution_count": 23,
   "metadata": {},
   "outputs": [],
   "source": [
    "# This function creates the path to the main Excel file of this project\n",
    "# Uses os library methods to ensure the file path works in both local and GitHub CI/CD environments\n",
    "def create_file_path(file_relative_path):\n",
    "    # Store the xlsx file dir into a var\n",
    "    dir = '../data'\n",
    "    \n",
    "    # Iterate under dir data to have all files\n",
    "    for filename in os.listdir(dir):\n",
    "        # Condition to confirm which file is == year_make_model_df.xlsx\n",
    "        if filename.endswith(file_relative_path):\n",
    "            # Join the dir + filename to create the path to year_make_model_df.xlsx file  \n",
    "            xlsx_file_fullpath = os.path.join(dir, filename)\n",
    "            # Print the result\n",
    "            print(xlsx_file_fullpath)\n",
    "    return xlsx_file_fullpath"
   ]
  },
  {
   "cell_type": "code",
   "execution_count": 24,
   "metadata": {},
   "outputs": [
    {
     "name": "stdout",
     "output_type": "stream",
     "text": [
      "../data\\year_make_model_df.xlsx\n"
     ]
    }
   ],
   "source": [
    "# Read excel \n",
    "df = pd.read_excel(create_file_path('year_make_model_df.xlsx'))"
   ]
  },
  {
   "cell_type": "code",
   "execution_count": 25,
   "metadata": {},
   "outputs": [
    {
     "name": "stdout",
     "output_type": "stream",
     "text": [
      "{'Chrysler', 'Oldsmobile', 'Plymouth', 'Lincoln', 'Mercury', 'GMC', 'Mini', 'Hummer', 'Cadillac', 'Mazda', 'Jeep', 'Scion', 'Rolls-Royce', 'Infiniti', 'Lexus', 'Pontiac', 'Nissan', 'Volkswagen', 'Jaguar', 'Buick', 'Saturn', 'Ford', 'Mitsubishi', 'Chevrolet', 'Land Rover', 'Fiat', 'Toyota', 'Subaru', 'Dodge', 'BMW', 'Audi', 'Acura', 'Honda'}\n"
     ]
    }
   ],
   "source": [
    "print(set(df['Make']))"
   ]
  },
  {
   "cell_type": "code",
   "execution_count": 26,
   "metadata": {},
   "outputs": [],
   "source": [
    "# Converting all values in column Model to string, as some of models are numbers, for instance BMWs 318, 328, 525\n",
    "df = df.astype({'Model':'string'})"
   ]
  },
  {
   "cell_type": "code",
   "execution_count": 27,
   "metadata": {},
   "outputs": [
    {
     "name": "stdout",
     "output_type": "stream",
     "text": [
      "<class 'pandas.core.frame.DataFrame'>\n",
      "RangeIndex: 3463 entries, 0 to 3462\n",
      "Data columns (total 5 columns):\n",
      " #   Column          Non-Null Count  Dtype \n",
      "---  ------          --------------  ----- \n",
      " 0   Year            3463 non-null   int64 \n",
      " 1   Make            3463 non-null   object\n",
      " 2   Model           3463 non-null   string\n",
      " 3   Security        3156 non-null   object\n",
      " 4   ParameterReset  938 non-null    object\n",
      "dtypes: int64(1), object(3), string(1)\n",
      "memory usage: 135.4+ KB\n"
     ]
    }
   ],
   "source": [
    "# Confirm if the Dtype from the column Model changed to string.\n",
    "df.info()"
   ]
  },
  {
   "cell_type": "code",
   "execution_count": 28,
   "metadata": {},
   "outputs": [],
   "source": [
    "# Function to create list with unique items from given column\n",
    "def data_from_column(df, column):\n",
    "    # List to append the items\n",
    "    data_column_list =[]\n",
    "\n",
    "    # Iterate over given column\n",
    "    for data in df[column]:\n",
    "        # Append the items from the given column\n",
    "        data_column_list.append(data)\n",
    "\n",
    "    # Return a set with unique items from given column\n",
    "    return set(data_column_list)"
   ]
  },
  {
   "cell_type": "code",
   "execution_count": 29,
   "metadata": {},
   "outputs": [
    {
     "name": "stdout",
     "output_type": "stream",
     "text": [
      "{'Chrysler', 'Oldsmobile', 'Plymouth', 'Lincoln', 'Mercury', 'GMC', 'Mini', 'Hummer', 'Cadillac', 'Mazda', 'Jeep', 'Scion', 'Rolls-Royce', 'Infiniti', 'Lexus', 'Pontiac', 'Nissan', 'Volkswagen', 'Jaguar', 'Buick', 'Saturn', 'Ford', 'Mitsubishi', 'Chevrolet', 'Land Rover', 'Fiat', 'Toyota', 'Subaru', 'Dodge', 'BMW', 'Audi', 'Acura', 'Honda'}\n"
     ]
    }
   ],
   "source": [
    "# Call the function to create a set with unique values from column make\n",
    "print(data_from_column(df, \"Make\"))"
   ]
  },
  {
   "cell_type": "code",
   "execution_count": 30,
   "metadata": {},
   "outputs": [],
   "source": [
    "# Check which models the df has and print only the unique values\n",
    "models = df['Model'].unique()"
   ]
  },
  {
   "cell_type": "code",
   "execution_count": 31,
   "metadata": {},
   "outputs": [],
   "source": [
    "# Create a new dataframe containing only Chevrolet: 'Chevrolet', 'Pontiac', 'Cadillac', 'Buick', 'Oldsmobile', 'GMC', 'Saturn', 'Hummer'\n",
    "chevrolet_list = ['Chevrolet', 'Pontiac', 'Cadillac', 'Buick', 'Oldsmobile', 'GMC', 'Saturn', 'Hummer']"
   ]
  },
  {
   "cell_type": "code",
   "execution_count": 32,
   "metadata": {},
   "outputs": [],
   "source": [
    "# Create a dataframe containing only chevrolet brands \n",
    "df_chevrolet = df[df['Make'].isin(chevrolet_list)]"
   ]
  },
  {
   "cell_type": "code",
   "execution_count": 33,
   "metadata": {},
   "outputs": [],
   "source": [
    "# Drop the column 'ParameterReset' as it is not applicable to Chevrolet\n",
    "df_chevrolet_dropped_column = df_chevrolet.drop(columns=['ParameterReset'])"
   ]
  },
  {
   "cell_type": "code",
   "execution_count": 34,
   "metadata": {},
   "outputs": [
    {
     "data": {
      "text/html": [
       "<div>\n",
       "<style scoped>\n",
       "    .dataframe tbody tr th:only-of-type {\n",
       "        vertical-align: middle;\n",
       "    }\n",
       "\n",
       "    .dataframe tbody tr th {\n",
       "        vertical-align: top;\n",
       "    }\n",
       "\n",
       "    .dataframe thead th {\n",
       "        text-align: right;\n",
       "    }\n",
       "</style>\n",
       "<table border=\"1\" class=\"dataframe\">\n",
       "  <thead>\n",
       "    <tr style=\"text-align: right;\">\n",
       "      <th></th>\n",
       "      <th>Year</th>\n",
       "      <th>Make</th>\n",
       "      <th>Model</th>\n",
       "      <th>Security Type</th>\n",
       "    </tr>\n",
       "  </thead>\n",
       "  <tbody>\n",
       "    <tr>\n",
       "      <th>0</th>\n",
       "      <td>1986</td>\n",
       "      <td>Chevrolet</td>\n",
       "      <td>Corvette</td>\n",
       "      <td>VATS</td>\n",
       "    </tr>\n",
       "    <tr>\n",
       "      <th>1</th>\n",
       "      <td>1987</td>\n",
       "      <td>Chevrolet</td>\n",
       "      <td>Corvette</td>\n",
       "      <td>VATS</td>\n",
       "    </tr>\n",
       "    <tr>\n",
       "      <th>2</th>\n",
       "      <td>1988</td>\n",
       "      <td>Chevrolet</td>\n",
       "      <td>Corvette</td>\n",
       "      <td>VATS</td>\n",
       "    </tr>\n",
       "    <tr>\n",
       "      <th>3</th>\n",
       "      <td>1988</td>\n",
       "      <td>Pontiac</td>\n",
       "      <td>Firebird</td>\n",
       "      <td>GTA\\nonly</td>\n",
       "    </tr>\n",
       "    <tr>\n",
       "      <th>4</th>\n",
       "      <td>1989</td>\n",
       "      <td>Cadillac</td>\n",
       "      <td>Allante</td>\n",
       "      <td>PK1</td>\n",
       "    </tr>\n",
       "    <tr>\n",
       "      <th>...</th>\n",
       "      <td>...</td>\n",
       "      <td>...</td>\n",
       "      <td>...</td>\n",
       "      <td>...</td>\n",
       "    </tr>\n",
       "    <tr>\n",
       "      <th>3284</th>\n",
       "      <td>2013</td>\n",
       "      <td>GMC</td>\n",
       "      <td>Savana</td>\n",
       "      <td>PK3+</td>\n",
       "    </tr>\n",
       "    <tr>\n",
       "      <th>3285</th>\n",
       "      <td>2013</td>\n",
       "      <td>GMC</td>\n",
       "      <td>Sierra</td>\n",
       "      <td>PK3+</td>\n",
       "    </tr>\n",
       "    <tr>\n",
       "      <th>3286</th>\n",
       "      <td>2013</td>\n",
       "      <td>GMC</td>\n",
       "      <td>Yukon XL</td>\n",
       "      <td>PK3+</td>\n",
       "    </tr>\n",
       "    <tr>\n",
       "      <th>3287</th>\n",
       "      <td>2013</td>\n",
       "      <td>GMC</td>\n",
       "      <td>Yukon/Denali</td>\n",
       "      <td>PK3+</td>\n",
       "    </tr>\n",
       "    <tr>\n",
       "      <th>3288</th>\n",
       "      <td>2013</td>\n",
       "      <td>GMC</td>\n",
       "      <td>Terrain</td>\n",
       "      <td>PK3+\\nSmart Key</td>\n",
       "    </tr>\n",
       "  </tbody>\n",
       "</table>\n",
       "<p>663 rows × 4 columns</p>\n",
       "</div>"
      ],
      "text/plain": [
       "      Year       Make         Model    Security Type\n",
       "0     1986  Chevrolet      Corvette             VATS\n",
       "1     1987  Chevrolet      Corvette             VATS\n",
       "2     1988  Chevrolet      Corvette             VATS\n",
       "3     1988    Pontiac      Firebird        GTA\\nonly\n",
       "4     1989   Cadillac       Allante              PK1\n",
       "...    ...        ...           ...              ...\n",
       "3284  2013        GMC        Savana             PK3+\n",
       "3285  2013        GMC        Sierra             PK3+\n",
       "3286  2013        GMC      Yukon XL             PK3+\n",
       "3287  2013        GMC  Yukon/Denali             PK3+\n",
       "3288  2013        GMC       Terrain  PK3+\\nSmart Key\n",
       "\n",
       "[663 rows x 4 columns]"
      ]
     },
     "execution_count": 34,
     "metadata": {},
     "output_type": "execute_result"
    }
   ],
   "source": [
    "# Rename column 'Security'\n",
    "df_chevrolet_dropped_column.rename(columns={'Security': 'Security Type'})"
   ]
  },
  {
   "cell_type": "markdown",
   "metadata": {},
   "source": [
    "## Add hardware clonable info\n",
    "A new column named 'Is this hardware clonable?' will be included in the Chevrolet dataframe to show which hardwares are clonable based on the part number. As the hardware part numbers are not available and their values will need to be added manually to the main df, these are the next steps to add the hardware part numbers:\n",
    "1. Export the main df (df_chevrolet_dropped_column) to excel file.\n",
    "2. Add the hardware part numbers manually from the GM compatibility chart.\n",
    "3. Fill out the column 'Is this hardware clonable?' rows comparing the 'df_chevrolet_dropped_column' with the 'List of Cloneable Modules'. "
   ]
  },
  {
   "cell_type": "code",
   "execution_count": 13,
   "metadata": {},
   "outputs": [],
   "source": [
    "# Download the dateframe 'chevrolet_list_filtered' in xlsx format and name the file 'chevrolet_hardware_list\n",
    "# df_chevrolet_dropped_column.to_excel('chevrolet_hardware_list.xlsx', index=False)"
   ]
  },
  {
   "cell_type": "code",
   "execution_count": 35,
   "metadata": {},
   "outputs": [
    {
     "name": "stdout",
     "output_type": "stream",
     "text": [
      "../data\\chevrolet_hardware_list.xlsx\n"
     ]
    }
   ],
   "source": [
    "# Load the xlsx file containing the dataframe after adding the hardware part numbers\n",
    "df_chevrolet = pd.read_excel(create_file_path('chevrolet_hardware_list.xlsx'))"
   ]
  },
  {
   "cell_type": "code",
   "execution_count": 36,
   "metadata": {},
   "outputs": [
    {
     "name": "stdout",
     "output_type": "stream",
     "text": [
      "../data\\List of Clonable Modules.xlsx\n"
     ]
    }
   ],
   "source": [
    "# Load the xlsx file containing the clonable hardware part numbers   \n",
    "list_clonable_modules = pd.read_excel(create_file_path('List of Clonable Modules.xlsx'))"
   ]
  },
  {
   "cell_type": "code",
   "execution_count": 37,
   "metadata": {},
   "outputs": [
    {
     "data": {
      "text/plain": [
       "Index(['Cloning Tools', 'ECM Hardware', 'cloning_status', 'ECU Brand', 'Year',\n",
       "       'Year/Model/Engine Size/HP', 'Manufacturer', 'Vehicle Type', 'Notes'],\n",
       "      dtype='object')"
      ]
     },
     "execution_count": 37,
     "metadata": {},
     "output_type": "execute_result"
    }
   ],
   "source": [
    "# Show all columns of the dataframe\n",
    "list_clonable_modules.columns"
   ]
  },
  {
   "cell_type": "code",
   "execution_count": 17,
   "metadata": {},
   "outputs": [],
   "source": [
    "# Drop most columns and leave only 2 columns: 'ECM Hardware' and 'cloning_status'\n",
    "list_clonable_modules_updated = list_clonable_modules.drop(columns=['Cloning Tools', 'ECU Brand', 'Year', 'Year/Model/Engine Size/HP', 'Manufacturer', 'Vehicle Type', 'Notes'])"
   ]
  },
  {
   "cell_type": "code",
   "execution_count": 18,
   "metadata": {},
   "outputs": [
    {
     "data": {
      "text/html": [
       "<div>\n",
       "<style scoped>\n",
       "    .dataframe tbody tr th:only-of-type {\n",
       "        vertical-align: middle;\n",
       "    }\n",
       "\n",
       "    .dataframe tbody tr th {\n",
       "        vertical-align: top;\n",
       "    }\n",
       "\n",
       "    .dataframe thead th {\n",
       "        text-align: right;\n",
       "    }\n",
       "</style>\n",
       "<table border=\"1\" class=\"dataframe\">\n",
       "  <thead>\n",
       "    <tr style=\"text-align: right;\">\n",
       "      <th></th>\n",
       "      <th>ECM Hardware</th>\n",
       "      <th>cloning_status</th>\n",
       "    </tr>\n",
       "  </thead>\n",
       "  <tbody>\n",
       "    <tr>\n",
       "      <th>0</th>\n",
       "      <td>E83 (GM)</td>\n",
       "      <td>Currently possible</td>\n",
       "    </tr>\n",
       "    <tr>\n",
       "      <th>1</th>\n",
       "      <td>E78 (GM)</td>\n",
       "      <td>Currently possible</td>\n",
       "    </tr>\n",
       "    <tr>\n",
       "      <th>2</th>\n",
       "      <td>E87 (GM)</td>\n",
       "      <td>Currently possible</td>\n",
       "    </tr>\n",
       "    <tr>\n",
       "      <th>3</th>\n",
       "      <td>E39 (GM)</td>\n",
       "      <td>Currently possible</td>\n",
       "    </tr>\n",
       "    <tr>\n",
       "      <th>4</th>\n",
       "      <td>E39A (GM)</td>\n",
       "      <td>Currently possible</td>\n",
       "    </tr>\n",
       "  </tbody>\n",
       "</table>\n",
       "</div>"
      ],
      "text/plain": [
       "  ECM Hardware      cloning_status\n",
       "0     E83 (GM)  Currently possible\n",
       "1     E78 (GM)  Currently possible\n",
       "2     E87 (GM)  Currently possible\n",
       "3     E39 (GM)  Currently possible\n",
       "4    E39A (GM)  Currently possible"
      ]
     },
     "execution_count": 18,
     "metadata": {},
     "output_type": "execute_result"
    }
   ],
   "source": [
    "# Print the first rows on the dataframe updated\n",
    "list_clonable_modules_updated.head()"
   ]
  },
  {
   "cell_type": "code",
   "execution_count": 19,
   "metadata": {},
   "outputs": [],
   "source": [
    "# Filter the hardware pn# that can be clonable\n",
    "list_clonable_modules_filtered = list_clonable_modules_updated[list_clonable_modules_updated['cloning_status'] == 'Currently possible']"
   ]
  },
  {
   "cell_type": "code",
   "execution_count": 20,
   "metadata": {},
   "outputs": [],
   "source": [
    "# Create a list to store the hardwares prefixes got from the clonable list\n",
    "clonable_modules_list = []\n",
    "\n",
    "# Iterate in the column 'ECM Hardware' to get their prefixes\n",
    "for part_number in list_clonable_modules_filtered['ECM Hardware']:\n",
    "    ecm_hardware_prefix = part_number.split(' ')[0]\n",
    "    clonable_modules_list.append(ecm_hardware_prefix)"
   ]
  },
  {
   "cell_type": "code",
   "execution_count": 21,
   "metadata": {},
   "outputs": [
    {
     "data": {
      "text/html": [
       "<div>\n",
       "<style scoped>\n",
       "    .dataframe tbody tr th:only-of-type {\n",
       "        vertical-align: middle;\n",
       "    }\n",
       "\n",
       "    .dataframe tbody tr th {\n",
       "        vertical-align: top;\n",
       "    }\n",
       "\n",
       "    .dataframe thead th {\n",
       "        text-align: right;\n",
       "    }\n",
       "</style>\n",
       "<table border=\"1\" class=\"dataframe\">\n",
       "  <thead>\n",
       "    <tr style=\"text-align: right;\">\n",
       "      <th></th>\n",
       "      <th>Year</th>\n",
       "      <th>Make</th>\n",
       "      <th>Model</th>\n",
       "      <th>Security</th>\n",
       "      <th>hardware_part_number</th>\n",
       "    </tr>\n",
       "  </thead>\n",
       "  <tbody>\n",
       "    <tr>\n",
       "      <th>657</th>\n",
       "      <td>2013</td>\n",
       "      <td>GMC</td>\n",
       "      <td>Savana</td>\n",
       "      <td>PK3+</td>\n",
       "      <td>E38-AK8</td>\n",
       "    </tr>\n",
       "    <tr>\n",
       "      <th>658</th>\n",
       "      <td>2013</td>\n",
       "      <td>GMC</td>\n",
       "      <td>Sierra</td>\n",
       "      <td>PK3+</td>\n",
       "      <td>E86-A24</td>\n",
       "    </tr>\n",
       "    <tr>\n",
       "      <th>659</th>\n",
       "      <td>2013</td>\n",
       "      <td>GMC</td>\n",
       "      <td>Yukon XL</td>\n",
       "      <td>PK3+</td>\n",
       "      <td>Information not available</td>\n",
       "    </tr>\n",
       "    <tr>\n",
       "      <th>660</th>\n",
       "      <td>2013</td>\n",
       "      <td>GMC</td>\n",
       "      <td>Yukon Denali</td>\n",
       "      <td>PK3+</td>\n",
       "      <td>E38-AK8</td>\n",
       "    </tr>\n",
       "    <tr>\n",
       "      <th>661</th>\n",
       "      <td>2013</td>\n",
       "      <td>GMC</td>\n",
       "      <td>Terrain</td>\n",
       "      <td>PK3+\\nSmart Key</td>\n",
       "      <td>E39A-H98S</td>\n",
       "    </tr>\n",
       "  </tbody>\n",
       "</table>\n",
       "</div>"
      ],
      "text/plain": [
       "     Year Make         Model         Security       hardware_part_number\n",
       "657  2013  GMC        Savana             PK3+                    E38-AK8\n",
       "658  2013  GMC        Sierra             PK3+                    E86-A24\n",
       "659  2013  GMC      Yukon XL             PK3+  Information not available\n",
       "660  2013  GMC  Yukon Denali             PK3+                    E38-AK8\n",
       "661  2013  GMC       Terrain  PK3+\\nSmart Key                  E39A-H98S"
      ]
     },
     "execution_count": 21,
     "metadata": {},
     "output_type": "execute_result"
    }
   ],
   "source": [
    "# Print the last rows on the dataframe containing the hardware part number values\n",
    "df_chevrolet.tail()"
   ]
  },
  {
   "cell_type": "code",
   "execution_count": 22,
   "metadata": {},
   "outputs": [],
   "source": [
    "# Create a list to store hardware prefixes\n",
    "hardware_prefix_list = []\n",
    "\n",
    "# Iterate into the main dataframe to get the prefixes \n",
    "for hardware_pn in df_chevrolet['hardware_part_number']:\n",
    "    hardware_prefix = hardware_pn.split('-')[0] # [0] indicates the first part of the list where the string needed is located, eg: 'E39', 'E38', etc.\n",
    "    hardware_prefix_list.append(hardware_prefix)\n",
    "    \n",
    "# Add a new column contaning the prefixes\n",
    "df_chevrolet['hardware_prefix'] = hardware_prefix_list"
   ]
  },
  {
   "cell_type": "code",
   "execution_count": 23,
   "metadata": {},
   "outputs": [],
   "source": [
    "# Create a list to store the the string \"Yes\" or \"No\"\n",
    "hardware_clonable_list = []\n",
    "# Variable containing the string \"Yes\" to be used when a given part number is in the clonable_modules_list\n",
    "yes_clonable = 'Yes'\n",
    "# Variable containing the string \"No\" to be used when a given part number IS NOT in the clonable_modules_list\n",
    "not_clonable = 'No'\n",
    "# Loop in the 'hardware_prefix' column to check whether or not the part numbers are clonable \n",
    "for hardware_pn in df_chevrolet['hardware_prefix']:\n",
    "    if hardware_pn in clonable_modules_list:\n",
    "        hardware_clonable_list.append(yes_clonable)\n",
    "    else:\n",
    "        hardware_clonable_list.append(not_clonable)\n",
    "\n",
    "# Create a new column after confirming the part numbers are clonable or not \n",
    "df_chevrolet['Is this hardware clonable?'] = hardware_clonable_list"
   ]
  },
  {
   "cell_type": "code",
   "execution_count": 24,
   "metadata": {},
   "outputs": [],
   "source": [
    "# Drop column 'hardware_prefix' as it was used only to confirm the clonable hardwares\n",
    "df_chevrolet_dropped_hardwarepre = df_chevrolet.drop(columns='hardware_prefix')"
   ]
  },
  {
   "cell_type": "code",
   "execution_count": 25,
   "metadata": {},
   "outputs": [
    {
     "data": {
      "text/plain": [
       "{'Buick',\n",
       " 'Cadillac',\n",
       " 'Chevrolet',\n",
       " 'GMC',\n",
       " 'Hummer',\n",
       " 'Oldsmobile',\n",
       " 'Pontiac',\n",
       " 'Saturn'}"
      ]
     },
     "execution_count": 25,
     "metadata": {},
     "output_type": "execute_result"
    }
   ],
   "source": [
    "# Call the function to check the string from column Make\n",
    "data_from_column(df_chevrolet_dropped_hardwarepre, \"Make\")"
   ]
  },
  {
   "cell_type": "code",
   "execution_count": 26,
   "metadata": {},
   "outputs": [
    {
     "name": "stdout",
     "output_type": "stream",
     "text": [
      "{'Caprice/SS', 'C/K Truck', 'Impala', 'Aurora', 'Cobalt', 'Escalade ESV', 'Vue', 'Eldorado', 'Terrain', 'Volt', 'Bonneville', 'H3', 'Montana', 'Savana', 'Monte Carlo', 'Achieva', 'Bravada', 'Envoy', 'L Series', 'Aztek', 'Escalade', 'G5', 'G3', 'Sierra', 'Roadmaster', 'Sonic', 'H2', 'Encore', 'Spark', 'Cutlass Supreme', 'Terraza', 'Rendezvous', 'Brougham', 'G8', 'Torrent', 'SRX', 'Aura', 'ION', 'Intrigue', 'LaCrosse', 'Tahoe', 'Malibu', 'Sonoma', 'Equinox', 'Suburban', 'Classic', 'H2 SUT', 'Envoy XUV', 'Camaro', 'CTS', 'Venture', 'Colorado', 'Rainier', 'Sunfire', 'DTS', 'Reatta', 'ATS', 'Yukon/Denali', 'Verano', 'Corvette', 'Escalade EXT', 'Montana SV6', 'Express', 'Deville', 'Caprice (Police)', 'G6', 'Yukon Denali', 'Skylark', 'Park Avenue', 'Vibe', 'Solstice', 'Sky', 'Acadia', 'Uplander', 'Lumina', 'Allante', 'Firebird', 'Eighty-Eight', 'Astra', 'LeSabre', 'Ninety-Eight', 'Riviera', 'GTO', 'Trailblazer', 'Enclave', 'Relay', 'Regal', 'Yukon XL', 'Captiva', 'XLR', 'HHR', 'Safari', 'Cavalier', 'Lucerne', 'Canyon', 'Alero', 'Silhouette', 'Jimmy', 'Seville', 'Toronado', 'XTS', 'Grand Am', 'SSR', 'Outlook', 'Avalanche', 'S Series', 'STS', 'Cruze', 'Traverse'}\n"
     ]
    }
   ],
   "source": [
    "# Call the function to check the string from column Model\n",
    "print(data_from_column(df_chevrolet_dropped_hardwarepre, \"Model\"))"
   ]
  },
  {
   "cell_type": "code",
   "execution_count": 27,
   "metadata": {},
   "outputs": [
    {
     "data": {
      "text/plain": [
       "{'EZ',\n",
       " 'GTA\\nonly',\n",
       " 'Holden',\n",
       " 'KA',\n",
       " 'Opel',\n",
       " 'Opt',\n",
       " 'PK1',\n",
       " 'PK2',\n",
       " 'PK3',\n",
       " 'PK3+',\n",
       " 'PK3+\\nSmart Key',\n",
       " 'PK3+/KA',\n",
       " 'PK3/KA+',\n",
       " 'PL1',\n",
       " 'PL1 (GT\\nonly*)',\n",
       " 'PL1(Z24\\nonly*)',\n",
       " 'PL2',\n",
       " 'PL3',\n",
       " 'PL3/PK3+',\n",
       " 'Toyota\\nImmobilizer',\n",
       " 'VATS',\n",
       " nan}"
      ]
     },
     "execution_count": 27,
     "metadata": {},
     "output_type": "execute_result"
    }
   ],
   "source": [
    "# Call the function to check the string from column Security\n",
    "data_from_column(df_chevrolet_dropped_hardwarepre, \"Security\")"
   ]
  },
  {
   "cell_type": "markdown",
   "metadata": {},
   "source": [
    "## Changes needed:\n",
    "- Remove chars: \\n  +/  /  **+**\n",
    "- Remove all strings and leave only the GM security code such as PL1, PK3, PK2 when they are present.\n",
    "- Remove PL3 from the ones which has PK3 "
   ]
  },
  {
   "cell_type": "code",
   "execution_count": 28,
   "metadata": {},
   "outputs": [],
   "source": [
    "# Create a df containing only rows with PL, PK2 and PK3 strings\n",
    "# r'\\1' - using the replace method, it will replace by the 1st captured group\n",
    "# ^ - beginning of the string\n",
    "# [A-Z]{2} - 2 digits caps letters\n",
    "# [0-9] - number \n",
    "# .* - all chars 0 or more times\n",
    "# re.DOTALL - consider all chars including break lines\n",
    "df_chevrolet_dropped_hardwarepre['Security'] = df_chevrolet_dropped_hardwarepre['Security'].str.replace(r'(^[A-Z]{2}[0-9]).*', r'\\1', regex=True, flags=re.DOTALL) "
   ]
  },
  {
   "cell_type": "code",
   "execution_count": 29,
   "metadata": {},
   "outputs": [],
   "source": [
    "# Replace break line (\\n) for whitespace and empty rows\n",
    "df_chevrolet_dropped_hardwarepre['Security'] = df_chevrolet_dropped_hardwarepre['Security'].str.replace('\\n', ' ', regex=True).fillna('Information not available')"
   ]
  },
  {
   "cell_type": "code",
   "execution_count": 30,
   "metadata": {},
   "outputs": [
    {
     "data": {
      "text/plain": [
       "{'EZ',\n",
       " 'GTA only',\n",
       " 'Holden',\n",
       " 'Information not available',\n",
       " 'KA',\n",
       " 'Opel',\n",
       " 'Opt',\n",
       " 'PK1',\n",
       " 'PK2',\n",
       " 'PK3',\n",
       " 'PL1',\n",
       " 'PL2',\n",
       " 'PL3',\n",
       " 'Toyota Immobilizer',\n",
       " 'VATS'}"
      ]
     },
     "execution_count": 30,
     "metadata": {},
     "output_type": "execute_result"
    }
   ],
   "source": [
    "# Check if all changes were done\n",
    "data_from_column(df_chevrolet_dropped_hardwarepre, 'Security')"
   ]
  },
  {
   "cell_type": "markdown",
   "metadata": {},
   "source": [
    "## CREATING SEPARATE DATAFRAMES FOR EACH MAKE:\n",
    " \n",
    "As most makes have different security system and information-related, it is needed to create separate Dataframes for all/most of them. \n",
    "\n",
    "For instance, Ford vehicles requires parameter reset and there is a column showing whether or not this procedure is required. However, Chevrolet brands requires a different procedure and some hardwares can be cloned. That is, Ford and Chevrolet vehicles do not match the security information-related. The solution for this will be to create separate Dataframes for all makes.   "
   ]
  },
  {
   "cell_type": "code",
   "execution_count": 31,
   "metadata": {},
   "outputs": [
    {
     "data": {
      "text/plain": [
       "array(['Chevrolet', 'Pontiac', 'Cadillac', 'Buick', 'Oldsmobile', 'GMC',\n",
       "       'Saturn', 'Hummer'], dtype=object)"
      ]
     },
     "execution_count": 31,
     "metadata": {},
     "output_type": "execute_result"
    }
   ],
   "source": [
    "# Show all makes under Chevrolet and use this list to guide when creating separate Dataframes\n",
    "df_chevrolet_dropped_hardwarepre['Make'].unique()"
   ]
  },
  {
   "cell_type": "code",
   "execution_count": 32,
   "metadata": {},
   "outputs": [
    {
     "data": {
      "text/plain": [
       "Index(['Year', 'Make', 'Model', 'Security', 'hardware_part_number',\n",
       "       'Is this hardware clonable?'],\n",
       "      dtype='object')"
      ]
     },
     "execution_count": 32,
     "metadata": {},
     "output_type": "execute_result"
    }
   ],
   "source": [
    "# Print the columns\n",
    "df_chevrolet_dropped_hardwarepre.columns"
   ]
  },
  {
   "cell_type": "code",
   "execution_count": 33,
   "metadata": {},
   "outputs": [],
   "source": [
    "# Rename the column 'hardware_part_number' with 'Hardware Part Number'\n",
    "df_chevrolet_renamed_column = df_chevrolet_dropped_hardwarepre.rename(columns={'hardware_part_number':'Hardware Part Number'})"
   ]
  },
  {
   "cell_type": "code",
   "execution_count": 34,
   "metadata": {},
   "outputs": [],
   "source": [
    "# Create a dataframe only with Make: Chevrolet\n",
    "df_chevrolet_final_version = df_chevrolet_renamed_column[df_chevrolet_renamed_column['Make'] == 'Chevrolet']"
   ]
  },
  {
   "cell_type": "code",
   "execution_count": 35,
   "metadata": {},
   "outputs": [
    {
     "data": {
      "text/html": [
       "<div>\n",
       "<style scoped>\n",
       "    .dataframe tbody tr th:only-of-type {\n",
       "        vertical-align: middle;\n",
       "    }\n",
       "\n",
       "    .dataframe tbody tr th {\n",
       "        vertical-align: top;\n",
       "    }\n",
       "\n",
       "    .dataframe thead th {\n",
       "        text-align: right;\n",
       "    }\n",
       "</style>\n",
       "<table border=\"1\" class=\"dataframe\">\n",
       "  <thead>\n",
       "    <tr style=\"text-align: right;\">\n",
       "      <th></th>\n",
       "      <th>Year</th>\n",
       "      <th>Make</th>\n",
       "      <th>Model</th>\n",
       "      <th>Security</th>\n",
       "      <th>Hardware Part Number</th>\n",
       "      <th>Is this hardware clonable?</th>\n",
       "    </tr>\n",
       "  </thead>\n",
       "  <tbody>\n",
       "    <tr>\n",
       "      <th>651</th>\n",
       "      <td>2013</td>\n",
       "      <td>Chevrolet</td>\n",
       "      <td>Malibu</td>\n",
       "      <td>PK3</td>\n",
       "      <td>E39A-H98S</td>\n",
       "      <td>Yes</td>\n",
       "    </tr>\n",
       "    <tr>\n",
       "      <th>652</th>\n",
       "      <td>2013</td>\n",
       "      <td>Chevrolet</td>\n",
       "      <td>Sonic</td>\n",
       "      <td>PK3</td>\n",
       "      <td>E78-AB8</td>\n",
       "      <td>Yes</td>\n",
       "    </tr>\n",
       "    <tr>\n",
       "      <th>653</th>\n",
       "      <td>2013</td>\n",
       "      <td>Chevrolet</td>\n",
       "      <td>Spark</td>\n",
       "      <td>PK3</td>\n",
       "      <td>E83</td>\n",
       "      <td>Yes</td>\n",
       "    </tr>\n",
       "    <tr>\n",
       "      <th>654</th>\n",
       "      <td>2013</td>\n",
       "      <td>Chevrolet</td>\n",
       "      <td>Cruze</td>\n",
       "      <td>PK3</td>\n",
       "      <td>E78-AB8</td>\n",
       "      <td>Yes</td>\n",
       "    </tr>\n",
       "    <tr>\n",
       "      <th>655</th>\n",
       "      <td>2013</td>\n",
       "      <td>Chevrolet</td>\n",
       "      <td>Volt</td>\n",
       "      <td>PK3</td>\n",
       "      <td>E78-AB8</td>\n",
       "      <td>Yes</td>\n",
       "    </tr>\n",
       "  </tbody>\n",
       "</table>\n",
       "</div>"
      ],
      "text/plain": [
       "     Year       Make   Model Security Hardware Part Number  \\\n",
       "651  2013  Chevrolet  Malibu      PK3            E39A-H98S   \n",
       "652  2013  Chevrolet   Sonic      PK3              E78-AB8   \n",
       "653  2013  Chevrolet   Spark      PK3                  E83   \n",
       "654  2013  Chevrolet   Cruze      PK3              E78-AB8   \n",
       "655  2013  Chevrolet    Volt      PK3              E78-AB8   \n",
       "\n",
       "    Is this hardware clonable?  \n",
       "651                        Yes  \n",
       "652                        Yes  \n",
       "653                        Yes  \n",
       "654                        Yes  \n",
       "655                        Yes  "
      ]
     },
     "execution_count": 35,
     "metadata": {},
     "output_type": "execute_result"
    }
   ],
   "source": [
    "# Check is the df is ok\n",
    "df_chevrolet_final_version.tail()"
   ]
  },
  {
   "cell_type": "code",
   "execution_count": 36,
   "metadata": {},
   "outputs": [],
   "source": [
    "# Create a dataframe only with Make: Pontiac\n",
    "df_pontiac = df_chevrolet_renamed_column[df_chevrolet_renamed_column['Make'] == 'Pontiac']  "
   ]
  },
  {
   "cell_type": "code",
   "execution_count": 37,
   "metadata": {},
   "outputs": [
    {
     "data": {
      "text/html": [
       "<div>\n",
       "<style scoped>\n",
       "    .dataframe tbody tr th:only-of-type {\n",
       "        vertical-align: middle;\n",
       "    }\n",
       "\n",
       "    .dataframe tbody tr th {\n",
       "        vertical-align: top;\n",
       "    }\n",
       "\n",
       "    .dataframe thead th {\n",
       "        text-align: right;\n",
       "    }\n",
       "</style>\n",
       "<table border=\"1\" class=\"dataframe\">\n",
       "  <thead>\n",
       "    <tr style=\"text-align: right;\">\n",
       "      <th></th>\n",
       "      <th>Year</th>\n",
       "      <th>Make</th>\n",
       "      <th>Model</th>\n",
       "      <th>Security</th>\n",
       "      <th>Hardware Part Number</th>\n",
       "      <th>Is this hardware clonable?</th>\n",
       "    </tr>\n",
       "  </thead>\n",
       "  <tbody>\n",
       "    <tr>\n",
       "      <th>514</th>\n",
       "      <td>2009</td>\n",
       "      <td>Pontiac</td>\n",
       "      <td>Vibe</td>\n",
       "      <td>Toyota Immobilizer</td>\n",
       "      <td>Information not available</td>\n",
       "      <td>No</td>\n",
       "    </tr>\n",
       "    <tr>\n",
       "      <th>554</th>\n",
       "      <td>2010</td>\n",
       "      <td>Pontiac</td>\n",
       "      <td>G3</td>\n",
       "      <td>Opt</td>\n",
       "      <td>Information not available</td>\n",
       "      <td>No</td>\n",
       "    </tr>\n",
       "    <tr>\n",
       "      <th>555</th>\n",
       "      <td>2010</td>\n",
       "      <td>Pontiac</td>\n",
       "      <td>G6</td>\n",
       "      <td>PK3</td>\n",
       "      <td>Information not available</td>\n",
       "      <td>No</td>\n",
       "    </tr>\n",
       "    <tr>\n",
       "      <th>556</th>\n",
       "      <td>2010</td>\n",
       "      <td>Pontiac</td>\n",
       "      <td>G8</td>\n",
       "      <td>PK3</td>\n",
       "      <td>Information not available</td>\n",
       "      <td>No</td>\n",
       "    </tr>\n",
       "    <tr>\n",
       "      <th>557</th>\n",
       "      <td>2010</td>\n",
       "      <td>Pontiac</td>\n",
       "      <td>Solstice</td>\n",
       "      <td>PK3</td>\n",
       "      <td>Information not available</td>\n",
       "      <td>No</td>\n",
       "    </tr>\n",
       "  </tbody>\n",
       "</table>\n",
       "</div>"
      ],
      "text/plain": [
       "     Year     Make     Model            Security       Hardware Part Number  \\\n",
       "514  2009  Pontiac      Vibe  Toyota Immobilizer  Information not available   \n",
       "554  2010  Pontiac        G3                 Opt  Information not available   \n",
       "555  2010  Pontiac        G6                 PK3  Information not available   \n",
       "556  2010  Pontiac        G8                 PK3  Information not available   \n",
       "557  2010  Pontiac  Solstice                 PK3  Information not available   \n",
       "\n",
       "    Is this hardware clonable?  \n",
       "514                         No  \n",
       "554                         No  \n",
       "555                         No  \n",
       "556                         No  \n",
       "557                         No  "
      ]
     },
     "execution_count": 37,
     "metadata": {},
     "output_type": "execute_result"
    }
   ],
   "source": [
    "# Check is the df is ok\n",
    "df_pontiac.tail()"
   ]
  },
  {
   "cell_type": "code",
   "execution_count": 38,
   "metadata": {},
   "outputs": [],
   "source": [
    "# Function to create dfs based on a given make\n",
    "def create_df_make(df, make):\n",
    "    df_make = df[df['Make'] == make]\n",
    "    return df_make"
   ]
  },
  {
   "cell_type": "code",
   "execution_count": 39,
   "metadata": {},
   "outputs": [],
   "source": [
    "# Call the function to create the df based on the given make\n",
    "df_cadillac =  create_df_make(df_chevrolet_renamed_column, \"Cadillac\")"
   ]
  },
  {
   "cell_type": "markdown",
   "metadata": {},
   "source": [
    "### Double check the strings from all columns: Cadillac "
   ]
  },
  {
   "cell_type": "code",
   "execution_count": 40,
   "metadata": {},
   "outputs": [
    {
     "data": {
      "text/plain": [
       "Index(['Year', 'Make', 'Model', 'Security', 'Hardware Part Number',\n",
       "       'Is this hardware clonable?'],\n",
       "      dtype='object')"
      ]
     },
     "execution_count": 40,
     "metadata": {},
     "output_type": "execute_result"
    }
   ],
   "source": [
    "# Print the columns available\n",
    "df_cadillac.columns"
   ]
  },
  {
   "cell_type": "code",
   "execution_count": 41,
   "metadata": {},
   "outputs": [
    {
     "data": {
      "text/plain": [
       "{'ATS',\n",
       " 'Allante',\n",
       " 'Brougham',\n",
       " 'CTS',\n",
       " 'DTS',\n",
       " 'Deville',\n",
       " 'Eldorado',\n",
       " 'Escalade',\n",
       " 'Escalade ESV',\n",
       " 'Escalade EXT',\n",
       " 'SRX',\n",
       " 'STS',\n",
       " 'Seville',\n",
       " 'XLR',\n",
       " 'XTS'}"
      ]
     },
     "execution_count": 41,
     "metadata": {},
     "output_type": "execute_result"
    }
   ],
   "source": [
    "# Column model\n",
    "data_from_column(df_cadillac, \"Model\")"
   ]
  },
  {
   "cell_type": "code",
   "execution_count": 42,
   "metadata": {},
   "outputs": [
    {
     "data": {
      "text/plain": [
       "{'EZ', 'KA', 'PK1', 'PK2', 'PK3', 'PL2'}"
      ]
     },
     "execution_count": 42,
     "metadata": {},
     "output_type": "execute_result"
    }
   ],
   "source": [
    "# Column Security\n",
    "data_from_column(df_cadillac, \"Security\")"
   ]
  },
  {
   "cell_type": "code",
   "execution_count": 43,
   "metadata": {},
   "outputs": [
    {
     "data": {
      "text/plain": [
       "{'E38-AK8',\n",
       " 'E38-Y2Y',\n",
       " 'E39-F93S',\n",
       " 'E39-X94S',\n",
       " 'E39A-H98S',\n",
       " 'E55-507',\n",
       " 'E55-509',\n",
       " 'E56-752',\n",
       " 'E67-AH2',\n",
       " 'E67-TP1',\n",
       " 'E69-216',\n",
       " 'E77-420',\n",
       " 'Information not available',\n",
       " 'U36-E22',\n",
       " 'U42C-484',\n",
       " 'U44G-G03',\n",
       " 'U44G-G45'}"
      ]
     },
     "execution_count": 43,
     "metadata": {},
     "output_type": "execute_result"
    }
   ],
   "source": [
    "# Column Hardware Part Number\n",
    "data_from_column(df_cadillac, \"Hardware Part Number\")"
   ]
  },
  {
   "cell_type": "code",
   "execution_count": 44,
   "metadata": {},
   "outputs": [],
   "source": [
    "# Call the function to create the df based on the given make\n",
    "df_buick =  create_df_make(df_chevrolet_renamed_column, \"Buick\")"
   ]
  },
  {
   "cell_type": "markdown",
   "metadata": {},
   "source": [
    "### Double check the strings from all columns: Buick"
   ]
  },
  {
   "cell_type": "code",
   "execution_count": 48,
   "metadata": {},
   "outputs": [
    {
     "data": {
      "text/plain": [
       "{'Enclave',\n",
       " 'Encore',\n",
       " 'LaCrosse',\n",
       " 'LeSabre',\n",
       " 'Lucerne',\n",
       " 'Park Avenue',\n",
       " 'Rainier',\n",
       " 'Reatta',\n",
       " 'Regal',\n",
       " 'Rendezvous',\n",
       " 'Riviera',\n",
       " 'Roadmaster',\n",
       " 'Skylark',\n",
       " 'Terraza',\n",
       " 'Verano'}"
      ]
     },
     "execution_count": 48,
     "metadata": {},
     "output_type": "execute_result"
    }
   ],
   "source": [
    "# Column model\n",
    "data_from_column(df_buick, \"Model\")"
   ]
  },
  {
   "cell_type": "code",
   "execution_count": 49,
   "metadata": {},
   "outputs": [
    {
     "data": {
      "text/plain": [
       "{'PK1', 'PK2', 'PK3', 'PL1', 'PL2'}"
      ]
     },
     "execution_count": 49,
     "metadata": {},
     "output_type": "execute_result"
    }
   ],
   "source": [
    "# Column Security\n",
    "data_from_column(df_buick, \"Security\")"
   ]
  },
  {
   "cell_type": "code",
   "execution_count": 51,
   "metadata": {},
   "outputs": [
    {
     "data": {
      "text/plain": [
       "{'E37',\n",
       " 'E39-F93S',\n",
       " 'E39-X94S',\n",
       " 'E39A-H98S',\n",
       " 'E55-507',\n",
       " 'E67-TP1',\n",
       " 'E69-216',\n",
       " 'E78-AB8',\n",
       " 'Information not available',\n",
       " 'P10',\n",
       " 'U30C',\n",
       " 'U32-C55',\n",
       " 'U32-P05',\n",
       " 'U32-XC2',\n",
       " 'U40-051',\n",
       " 'U40-399',\n",
       " 'U42C-800',\n",
       " 'U44C-482',\n",
       " 'U44C-721',\n",
       " 'U44G-G45'}"
      ]
     },
     "execution_count": 51,
     "metadata": {},
     "output_type": "execute_result"
    }
   ],
   "source": [
    "# Column Hardware Part Number\n",
    "data_from_column(df_buick, \"Hardware Part Number\")"
   ]
  },
  {
   "cell_type": "code",
   "execution_count": 52,
   "metadata": {},
   "outputs": [],
   "source": [
    "# Call the function to create the df based on the given make\n",
    "df_oldsmobile =  create_df_make(df_chevrolet_renamed_column, \"Oldsmobile\")"
   ]
  },
  {
   "cell_type": "markdown",
   "metadata": {},
   "source": [
    "### Double check the strings from all columns: Oldsmobile"
   ]
  },
  {
   "cell_type": "code",
   "execution_count": 54,
   "metadata": {},
   "outputs": [
    {
     "data": {
      "text/plain": [
       "{'Achieva',\n",
       " 'Alero',\n",
       " 'Aurora',\n",
       " 'Bravada',\n",
       " 'Cutlass Supreme',\n",
       " 'Eighty-Eight',\n",
       " 'Intrigue',\n",
       " 'Ninety-Eight',\n",
       " 'Silhouette',\n",
       " 'Toronado'}"
      ]
     },
     "execution_count": 54,
     "metadata": {},
     "output_type": "execute_result"
    }
   ],
   "source": [
    "# Column model\n",
    "data_from_column(df_oldsmobile, \"Model\")"
   ]
  },
  {
   "cell_type": "code",
   "execution_count": 55,
   "metadata": {},
   "outputs": [
    {
     "data": {
      "text/plain": [
       "{'PK1', 'PK2', 'PK3', 'PL1', 'PL2'}"
      ]
     },
     "execution_count": 55,
     "metadata": {},
     "output_type": "execute_result"
    }
   ],
   "source": [
    "# Column Security\n",
    "data_from_column(df_oldsmobile, \"Security\")"
   ]
  },
  {
   "cell_type": "code",
   "execution_count": 56,
   "metadata": {},
   "outputs": [
    {
     "data": {
      "text/plain": [
       "{'Information not available',\n",
       " 'P10',\n",
       " 'U30C',\n",
       " 'U41',\n",
       " 'U42C-484',\n",
       " 'U42C-800',\n",
       " 'U44C-482',\n",
       " 'U44C-721',\n",
       " 'U44R'}"
      ]
     },
     "execution_count": 56,
     "metadata": {},
     "output_type": "execute_result"
    }
   ],
   "source": [
    "# Column Hardware Part Number\n",
    "data_from_column(df_oldsmobile, \"Hardware Part Number\")"
   ]
  },
  {
   "cell_type": "code",
   "execution_count": 58,
   "metadata": {},
   "outputs": [],
   "source": [
    "# Call the function to create the df based on the given make\n",
    "df_gmc =  create_df_make(df_chevrolet_renamed_column, \"GMC\")"
   ]
  },
  {
   "cell_type": "markdown",
   "metadata": {},
   "source": [
    "### Double check the strings from all columns: GMC"
   ]
  },
  {
   "cell_type": "code",
   "execution_count": 59,
   "metadata": {},
   "outputs": [
    {
     "data": {
      "text/plain": [
       "{'Acadia',\n",
       " 'Canyon',\n",
       " 'Envoy',\n",
       " 'Envoy XUV',\n",
       " 'Jimmy',\n",
       " 'Safari',\n",
       " 'Savana',\n",
       " 'Sierra',\n",
       " 'Sonoma',\n",
       " 'Suburban',\n",
       " 'Terrain',\n",
       " 'Yukon Denali',\n",
       " 'Yukon XL',\n",
       " 'Yukon/Denali'}"
      ]
     },
     "execution_count": 59,
     "metadata": {},
     "output_type": "execute_result"
    }
   ],
   "source": [
    "# Column model\n",
    "data_from_column(df_gmc, \"Model\")"
   ]
  },
  {
   "cell_type": "code",
   "execution_count": 60,
   "metadata": {},
   "outputs": [
    {
     "data": {
      "text/plain": [
       "{'PK3', 'PL2', 'PL3'}"
      ]
     },
     "execution_count": 60,
     "metadata": {},
     "output_type": "execute_result"
    }
   ],
   "source": [
    "# Column Security\n",
    "data_from_column(df_gmc, \"Security\")"
   ]
  },
  {
   "cell_type": "code",
   "execution_count": 61,
   "metadata": {},
   "outputs": [
    {
     "data": {
      "text/plain": [
       "{'E35-LMM',\n",
       " 'E37',\n",
       " 'E38-AK8',\n",
       " 'E38-Y2Y',\n",
       " 'E39-F93S',\n",
       " 'E39-X94S',\n",
       " 'E39A-H98S',\n",
       " 'E40-679',\n",
       " 'E40-883',\n",
       " 'E67-TP1',\n",
       " 'E69-216',\n",
       " 'E86-A24',\n",
       " 'Information not available',\n",
       " 'P10',\n",
       " 'P12-N64',\n",
       " 'P12-N77',\n",
       " 'U34-588',\n",
       " 'U41',\n",
       " 'U44B',\n",
       " 'U44G-G03',\n",
       " 'U44G-G45',\n",
       " 'U44R'}"
      ]
     },
     "execution_count": 61,
     "metadata": {},
     "output_type": "execute_result"
    }
   ],
   "source": [
    "# Column Hardware Part Number\n",
    "data_from_column(df_gmc, \"Hardware Part Number\")"
   ]
  },
  {
   "cell_type": "code",
   "execution_count": 62,
   "metadata": {},
   "outputs": [],
   "source": [
    "# Call the function to create the df based on the given make\n",
    "df_saturn =  create_df_make(df_chevrolet_renamed_column, \"Saturn\")"
   ]
  },
  {
   "cell_type": "markdown",
   "metadata": {},
   "source": [
    "### Double check the strings from all columns: Saturn"
   ]
  },
  {
   "cell_type": "code",
   "execution_count": 63,
   "metadata": {},
   "outputs": [
    {
     "data": {
      "text/plain": [
       "{'Astra',\n",
       " 'Aura',\n",
       " 'ION',\n",
       " 'L Series',\n",
       " 'Outlook',\n",
       " 'Relay',\n",
       " 'S Series',\n",
       " 'Sky',\n",
       " 'Vue'}"
      ]
     },
     "execution_count": 63,
     "metadata": {},
     "output_type": "execute_result"
    }
   ],
   "source": [
    "# Column model\n",
    "data_from_column(df_saturn, \"Model\")"
   ]
  },
  {
   "cell_type": "code",
   "execution_count": 64,
   "metadata": {},
   "outputs": [
    {
     "data": {
      "text/plain": [
       "{'Opel', 'PK3', 'PL2', 'PL3'}"
      ]
     },
     "execution_count": 64,
     "metadata": {},
     "output_type": "execute_result"
    }
   ],
   "source": [
    "# Column Security\n",
    "data_from_column(df_saturn, \"Security\")"
   ]
  },
  {
   "cell_type": "code",
   "execution_count": 65,
   "metadata": {},
   "outputs": [
    {
     "data": {
      "text/plain": [
       "{'E16A-26S',\n",
       " 'E38-Y2Y',\n",
       " 'E56-242',\n",
       " 'E67-TP1',\n",
       " 'E69-216',\n",
       " 'E69-326',\n",
       " 'E69-438',\n",
       " 'Information not available',\n",
       " 'P11',\n",
       " 'U22-143',\n",
       " 'U22-TN7',\n",
       " 'U26-698',\n",
       " 'U29A',\n",
       " 'U32-XC2',\n",
       " 'U62-C20'}"
      ]
     },
     "execution_count": 65,
     "metadata": {},
     "output_type": "execute_result"
    }
   ],
   "source": [
    "# Column Hardware Part Number\n",
    "data_from_column(df_saturn, \"Hardware Part Number\")"
   ]
  },
  {
   "cell_type": "code",
   "execution_count": 66,
   "metadata": {},
   "outputs": [],
   "source": [
    "# Call the function to create the df based on the given make\n",
    "df_hummer =  create_df_make(df_chevrolet_renamed_column, \"Hummer\")"
   ]
  },
  {
   "cell_type": "markdown",
   "metadata": {},
   "source": [
    "### Double check the strings from all columns: Hummer"
   ]
  },
  {
   "cell_type": "code",
   "execution_count": 67,
   "metadata": {},
   "outputs": [
    {
     "data": {
      "text/plain": [
       "{'H2', 'H2 SUT', 'H3'}"
      ]
     },
     "execution_count": 67,
     "metadata": {},
     "output_type": "execute_result"
    }
   ],
   "source": [
    "# Column model\n",
    "data_from_column(df_hummer, \"Model\")"
   ]
  },
  {
   "cell_type": "code",
   "execution_count": 68,
   "metadata": {},
   "outputs": [
    {
     "data": {
      "text/plain": [
       "{'PK3', 'PL2', 'PL3'}"
      ]
     },
     "execution_count": 68,
     "metadata": {},
     "output_type": "execute_result"
    }
   ],
   "source": [
    "# Column Security\n",
    "data_from_column(df_hummer, \"Security\")"
   ]
  },
  {
   "cell_type": "code",
   "execution_count": 69,
   "metadata": {},
   "outputs": [
    {
     "data": {
      "text/plain": [
       "{'E67-TP1',\n",
       " 'Information not available',\n",
       " 'P12-N64',\n",
       " 'P12-N77',\n",
       " 'U36-E22',\n",
       " 'U44G-G03',\n",
       " 'U44G-G45'}"
      ]
     },
     "execution_count": 69,
     "metadata": {},
     "output_type": "execute_result"
    }
   ],
   "source": [
    "# Column Hardware Part Number\n",
    "data_from_column(df_hummer, \"Hardware Part Number\")"
   ]
  },
  {
   "cell_type": "code",
   "execution_count": null,
   "metadata": {},
   "outputs": [
    {
     "data": {
      "text/plain": [
       "['Chevrolet',\n",
       " 'Pontiac',\n",
       " 'Cadillac',\n",
       " 'Buick',\n",
       " 'Oldsmobile',\n",
       " 'GMC',\n",
       " 'Saturn',\n",
       " 'Hummer']"
      ]
     },
     "execution_count": 70,
     "metadata": {},
     "output_type": "execute_result"
    }
   ],
   "source": [
    "# Print the list with all Chevrolet list to confirm if all dfs were created\n",
    "chevrolet_list"
   ]
  },
  {
   "cell_type": "code",
   "execution_count": null,
   "metadata": {},
   "outputs": [
    {
     "name": "stdout",
     "output_type": "stream",
     "text": [
      "Chevrolet\n",
      "Pontiac\n"
     ]
    }
   ],
   "source": [
    "# Loop to confirm the missing Chevrolet makes to create the df\n",
    "for make in chevrolet_list:\n",
    "    # Condition under the makes already created the df\n",
    "    if make not in ['Cadillac', 'Buick', 'Oldsmobile', 'GMC', 'Saturn', 'Hummer']:\n",
    "        # Print the make not created yet\n",
    "        print(make)"
   ]
  },
  {
   "cell_type": "code",
   "execution_count": 73,
   "metadata": {},
   "outputs": [],
   "source": [
    "# Call the function to create the df based on the given make\n",
    "df_chevrolet =  create_df_make(df_chevrolet_renamed_column, \"Chevrolet\")"
   ]
  },
  {
   "cell_type": "markdown",
   "metadata": {},
   "source": [
    "### Double check the strings from all columns: Chevrolet"
   ]
  },
  {
   "cell_type": "code",
   "execution_count": 74,
   "metadata": {},
   "outputs": [
    {
     "data": {
      "text/plain": [
       "{'Avalanche',\n",
       " 'C/K Truck',\n",
       " 'Camaro',\n",
       " 'Caprice (Police)',\n",
       " 'Caprice/SS',\n",
       " 'Captiva',\n",
       " 'Cavalier',\n",
       " 'Classic',\n",
       " 'Cobalt',\n",
       " 'Colorado',\n",
       " 'Corvette',\n",
       " 'Cruze',\n",
       " 'Equinox',\n",
       " 'Express',\n",
       " 'HHR',\n",
       " 'Impala',\n",
       " 'Lumina',\n",
       " 'Malibu',\n",
       " 'Monte Carlo',\n",
       " 'SSR',\n",
       " 'Sonic',\n",
       " 'Spark',\n",
       " 'Suburban',\n",
       " 'Tahoe',\n",
       " 'Trailblazer',\n",
       " 'Traverse',\n",
       " 'Uplander',\n",
       " 'Venture',\n",
       " 'Volt'}"
      ]
     },
     "execution_count": 74,
     "metadata": {},
     "output_type": "execute_result"
    }
   ],
   "source": [
    "# Column model\n",
    "data_from_column(df_chevrolet, \"Model\")"
   ]
  },
  {
   "cell_type": "code",
   "execution_count": 75,
   "metadata": {},
   "outputs": [
    {
     "data": {
      "text/plain": [
       "{'KA', 'PK1', 'PK2', 'PK3', 'PL1', 'PL2', 'PL3', 'VATS'}"
      ]
     },
     "execution_count": 75,
     "metadata": {},
     "output_type": "execute_result"
    }
   ],
   "source": [
    "# Column Security\n",
    "data_from_column(df_chevrolet, \"Security\")"
   ]
  },
  {
   "cell_type": "code",
   "execution_count": 76,
   "metadata": {},
   "outputs": [
    {
     "data": {
      "text/plain": [
       "{'E16A-14C',\n",
       " 'E35-LMM',\n",
       " 'E37',\n",
       " 'E38-AK8',\n",
       " 'E38-Y2Y',\n",
       " 'E39-F93S',\n",
       " 'E39-X94S',\n",
       " 'E39A-H98S',\n",
       " 'E40-883',\n",
       " 'E67-TP1',\n",
       " 'E69-216',\n",
       " 'E69-326',\n",
       " 'E77-420',\n",
       " 'E78-AB8',\n",
       " 'E83',\n",
       " 'E86-A24',\n",
       " 'Information not available',\n",
       " 'P10',\n",
       " 'P11',\n",
       " 'P12-N64',\n",
       " 'P12-N77',\n",
       " 'U30B',\n",
       " 'U30C',\n",
       " 'U32-XC2',\n",
       " 'U32-XJ5',\n",
       " 'U40-051',\n",
       " 'U40-399',\n",
       " 'U41',\n",
       " 'U42C-800',\n",
       " 'U44C-482',\n",
       " 'U44C-721',\n",
       " 'U44G-G03',\n",
       " 'U44G-G45',\n",
       " 'U44R'}"
      ]
     },
     "execution_count": 76,
     "metadata": {},
     "output_type": "execute_result"
    }
   ],
   "source": [
    "# Column Hardware Part Number\n",
    "data_from_column(df_chevrolet, \"Hardware Part Number\")"
   ]
  },
  {
   "cell_type": "code",
   "execution_count": 80,
   "metadata": {},
   "outputs": [],
   "source": [
    "# Call the function to create the df based on the given make\n",
    "df_pontiac =  create_df_make(df_chevrolet_renamed_column, \"Pontiac\")"
   ]
  },
  {
   "cell_type": "markdown",
   "metadata": {},
   "source": [
    "### Double check the strings from all columns: Pontiac"
   ]
  },
  {
   "cell_type": "code",
   "execution_count": 81,
   "metadata": {},
   "outputs": [
    {
     "data": {
      "text/plain": [
       "{'Aztek',\n",
       " 'Bonneville',\n",
       " 'Firebird',\n",
       " 'G3',\n",
       " 'G5',\n",
       " 'G6',\n",
       " 'G8',\n",
       " 'GTO',\n",
       " 'Grand Am',\n",
       " 'Montana',\n",
       " 'Montana SV6',\n",
       " 'Solstice',\n",
       " 'Sunfire',\n",
       " 'Torrent',\n",
       " 'Vibe'}"
      ]
     },
     "execution_count": 81,
     "metadata": {},
     "output_type": "execute_result"
    }
   ],
   "source": [
    "# Column model\n",
    "data_from_column(df_pontiac, \"Model\")"
   ]
  },
  {
   "cell_type": "code",
   "execution_count": 82,
   "metadata": {},
   "outputs": [
    {
     "data": {
      "text/plain": [
       "{'GTA only',\n",
       " 'Holden',\n",
       " 'Information not available',\n",
       " 'Opt',\n",
       " 'PK1',\n",
       " 'PK2',\n",
       " 'PK3',\n",
       " 'PL1',\n",
       " 'Toyota Immobilizer'}"
      ]
     },
     "execution_count": 82,
     "metadata": {},
     "output_type": "execute_result"
    }
   ],
   "source": [
    "# Column Security\n",
    "data_from_column(df_pontiac, \"Security\")"
   ]
  },
  {
   "cell_type": "code",
   "execution_count": 83,
   "metadata": {},
   "outputs": [
    {
     "data": {
      "text/plain": [
       "{'E38-Y2Y',\n",
       " 'E40-679',\n",
       " 'E40-883',\n",
       " 'E67-TP1',\n",
       " 'E69-326',\n",
       " 'E77-420',\n",
       " 'E83',\n",
       " 'Information not available',\n",
       " 'U30B',\n",
       " 'U30C',\n",
       " 'U32-XC2',\n",
       " 'U32-XJ5',\n",
       " 'U42C-800',\n",
       " 'U44C-482',\n",
       " 'U44C-721',\n",
       " 'U44G-G45'}"
      ]
     },
     "execution_count": 83,
     "metadata": {},
     "output_type": "execute_result"
    }
   ],
   "source": [
    "# Column Hardware Part Number\n",
    "data_from_column(df_pontiac, \"Hardware Part Number\")"
   ]
  },
  {
   "cell_type": "code",
   "execution_count": null,
   "metadata": {},
   "outputs": [
    {
     "name": "stderr",
     "output_type": "stream",
     "text": [
      "<>:2: SyntaxWarning: invalid escape sequence '\\L'\n",
      "<>:3: SyntaxWarning: invalid escape sequence '\\L'\n",
      "<>:4: SyntaxWarning: invalid escape sequence '\\L'\n",
      "<>:5: SyntaxWarning: invalid escape sequence '\\L'\n",
      "<>:6: SyntaxWarning: invalid escape sequence '\\L'\n",
      "<>:7: SyntaxWarning: invalid escape sequence '\\L'\n",
      "<>:8: SyntaxWarning: invalid escape sequence '\\L'\n",
      "<>:9: SyntaxWarning: invalid escape sequence '\\L'\n",
      "<>:2: SyntaxWarning: invalid escape sequence '\\L'\n",
      "<>:3: SyntaxWarning: invalid escape sequence '\\L'\n",
      "<>:4: SyntaxWarning: invalid escape sequence '\\L'\n",
      "<>:5: SyntaxWarning: invalid escape sequence '\\L'\n",
      "<>:6: SyntaxWarning: invalid escape sequence '\\L'\n",
      "<>:7: SyntaxWarning: invalid escape sequence '\\L'\n",
      "<>:8: SyntaxWarning: invalid escape sequence '\\L'\n",
      "<>:9: SyntaxWarning: invalid escape sequence '\\L'\n",
      "C:\\Users\\Weverson Barbieri\\AppData\\Local\\Temp\\ipykernel_16596\\1658462114.py:2: SyntaxWarning: invalid escape sequence '\\L'\n",
      "  df_chevrolet_renamed_column.to_csv('C:\\Language_Projects\\Language_Projects\\Python\\Flagship_1\\\\vehicle_security_system_data_cleaning\\data\\df_chevrolet.csv')\n",
      "C:\\Users\\Weverson Barbieri\\AppData\\Local\\Temp\\ipykernel_16596\\1658462114.py:3: SyntaxWarning: invalid escape sequence '\\L'\n",
      "  df_pontiac.to_csv('C:\\Language_Projects\\Language_Projects\\Python\\Flagship_1\\\\vehicle_security_system_data_cleaning\\data\\df_pontiac.csv')\n",
      "C:\\Users\\Weverson Barbieri\\AppData\\Local\\Temp\\ipykernel_16596\\1658462114.py:4: SyntaxWarning: invalid escape sequence '\\L'\n",
      "  df_cadillac.to_csv('C:\\Language_Projects\\Language_Projects\\Python\\Flagship_1\\\\vehicle_security_system_data_cleaning\\data\\df_cadillac.csv')\n",
      "C:\\Users\\Weverson Barbieri\\AppData\\Local\\Temp\\ipykernel_16596\\1658462114.py:5: SyntaxWarning: invalid escape sequence '\\L'\n",
      "  df_buick.to_csv('C:\\Language_Projects\\Language_Projects\\Python\\Flagship_1\\\\vehicle_security_system_data_cleaning\\data\\df_buick.csv')\n",
      "C:\\Users\\Weverson Barbieri\\AppData\\Local\\Temp\\ipykernel_16596\\1658462114.py:6: SyntaxWarning: invalid escape sequence '\\L'\n",
      "  df_oldsmobile.to_csv('C:\\Language_Projects\\Language_Projects\\Python\\Flagship_1\\\\vehicle_security_system_data_cleaning\\data\\df_oldsmobile.csv')\n",
      "C:\\Users\\Weverson Barbieri\\AppData\\Local\\Temp\\ipykernel_16596\\1658462114.py:7: SyntaxWarning: invalid escape sequence '\\L'\n",
      "  df_gmc.to_csv('C:\\Language_Projects\\Language_Projects\\Python\\Flagship_1\\\\vehicle_security_system_data_cleaning\\data\\df_gmc.csv')\n",
      "C:\\Users\\Weverson Barbieri\\AppData\\Local\\Temp\\ipykernel_16596\\1658462114.py:8: SyntaxWarning: invalid escape sequence '\\L'\n",
      "  df_saturn.to_csv('C:\\Language_Projects\\Language_Projects\\Python\\Flagship_1\\\\vehicle_security_system_data_cleaning\\data\\df_saturn.csv')\n",
      "C:\\Users\\Weverson Barbieri\\AppData\\Local\\Temp\\ipykernel_16596\\1658462114.py:9: SyntaxWarning: invalid escape sequence '\\L'\n",
      "  df_hummer.to_csv('C:\\Language_Projects\\Language_Projects\\Python\\Flagship_1\\\\vehicle_security_system_data_cleaning\\data\\df_hummer.csv')\n"
     ]
    }
   ],
   "source": [
    "# Export the all dfs to .csv file\n",
    "# df_chevrolet_renamed_column.to_csv('C:\\Language_Projects\\Language_Projects\\Python\\Flagship_1\\\\vehicle_security_system_data_cleaning\\data\\df_chevrolet.csv')\n",
    "# df_pontiac.to_csv('C:\\Language_Projects\\Language_Projects\\Python\\Flagship_1\\\\vehicle_security_system_data_cleaning\\data\\df_pontiac.csv')\n",
    "# df_cadillac.to_csv('C:\\Language_Projects\\Language_Projects\\Python\\Flagship_1\\\\vehicle_security_system_data_cleaning\\data\\df_cadillac.csv')\n",
    "# df_buick.to_csv('C:\\Language_Projects\\Language_Projects\\Python\\Flagship_1\\\\vehicle_security_system_data_cleaning\\data\\df_buick.csv')\n",
    "# df_oldsmobile.to_csv('C:\\Language_Projects\\Language_Projects\\Python\\Flagship_1\\\\vehicle_security_system_data_cleaning\\data\\df_oldsmobile.csv')\n",
    "# df_gmc.to_csv('C:\\Language_Projects\\Language_Projects\\Python\\Flagship_1\\\\vehicle_security_system_data_cleaning\\data\\df_gmc.csv')\n",
    "# df_saturn.to_csv('C:\\Language_Projects\\Language_Projects\\Python\\Flagship_1\\\\vehicle_security_system_data_cleaning\\data\\df_saturn.csv')\n",
    "# df_hummer.to_csv('C:\\Language_Projects\\Language_Projects\\Python\\Flagship_1\\\\vehicle_security_system_data_cleaning\\data\\df_hummer.csv')"
   ]
  }
 ],
 "metadata": {
  "kernelspec": {
   "display_name": "venv",
   "language": "python",
   "name": "python3"
  },
  "language_info": {
   "codemirror_mode": {
    "name": "ipython",
    "version": 3
   },
   "file_extension": ".py",
   "mimetype": "text/x-python",
   "name": "python",
   "nbconvert_exporter": "python",
   "pygments_lexer": "ipython3",
   "version": "3.12.2"
  }
 },
 "nbformat": 4,
 "nbformat_minor": 2
}
