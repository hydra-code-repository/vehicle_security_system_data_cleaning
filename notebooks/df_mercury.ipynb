{
 "cells": [
  {
   "cell_type": "code",
   "execution_count": 1,
   "id": "31622cc6",
   "metadata": {},
   "outputs": [],
   "source": [
    "import pandas as pd\n",
    "import os"
   ]
  },
  {
   "cell_type": "code",
   "execution_count": 2,
   "id": "07d667c6",
   "metadata": {},
   "outputs": [],
   "source": [
    "# This function creates the path to the main Excel file of this project\n",
    "# Uses os library methods to ensure the file path works in both local and GitHub CI/CD environments\n",
    "def create_file_path(file_relative_path):\n",
    "    # Store the xlsx file dir into a var\n",
    "    dir = '../data'\n",
    "    \n",
    "    # Iterate under dir data to have all files\n",
    "    for filename in os.listdir(dir):\n",
    "        # Condition to confirm which file is == year_make_model_df.xlsx\n",
    "        if filename.endswith(file_relative_path):\n",
    "            # Join the dir + filename to create the path to year_make_model_df.xlsx file  \n",
    "            xlsx_file_fullpath = os.path.join(dir, filename)\n",
    "            # Print the result\n",
    "            print(xlsx_file_fullpath)\n",
    "    return xlsx_file_fullpath"
   ]
  },
  {
   "cell_type": "code",
   "execution_count": 3,
   "id": "b741eef8",
   "metadata": {},
   "outputs": [
    {
     "name": "stdout",
     "output_type": "stream",
     "text": [
      "../data\\year_make_model_df.xlsx\n"
     ]
    }
   ],
   "source": [
    "# Read excel \n",
    "df = pd.read_excel(create_file_path('year_make_model_df.xlsx'))"
   ]
  },
  {
   "cell_type": "code",
   "execution_count": 4,
   "id": "0ec8baa6",
   "metadata": {},
   "outputs": [],
   "source": [
    "# Fuction to create df\n",
    "def create_df(df, make):\n",
    "    df_new = df[df['Make'] == make]\n",
    "    return df_new"
   ]
  },
  {
   "cell_type": "code",
   "execution_count": 5,
   "id": "e23158e4",
   "metadata": {},
   "outputs": [],
   "source": [
    "# Function to create list with unique items from given column\n",
    "def data_from_column(df, column):\n",
    "    # List to append the items\n",
    "    data_column_list =[]\n",
    "\n",
    "    # Iterate over given column\n",
    "    for data in df[column]:\n",
    "        # Append the items from the given column\n",
    "        data_column_list.append(data)\n",
    "\n",
    "    # Return a set with unique items from given column\n",
    "    return set(data_column_list)"
   ]
  },
  {
   "cell_type": "code",
   "execution_count": 6,
   "id": "73011352",
   "metadata": {},
   "outputs": [],
   "source": [
    "# Create a df to Lincoln make\n",
    "df_mercury = create_df(df, 'Mercury')"
   ]
  },
  {
   "cell_type": "code",
   "execution_count": 7,
   "id": "c161822c",
   "metadata": {},
   "outputs": [
    {
     "data": {
      "text/plain": [
       "{'Cougar',\n",
       " 'Grand Marquis',\n",
       " 'Marauder',\n",
       " 'Mariner',\n",
       " 'Mariner (Hybrid)',\n",
       " 'Milan',\n",
       " 'Milan (Hybrid)',\n",
       " 'Montego',\n",
       " 'Monterey',\n",
       " 'Mountaineer (4dr)',\n",
       " 'Mystique (V-6 only)',\n",
       " 'Sable',\n",
       " 'Sable (Duratec only)'}"
      ]
     },
     "execution_count": 7,
     "metadata": {},
     "output_type": "execute_result"
    }
   ],
   "source": [
    "# Check the string in the model column to confirm if changes are needed\n",
    "data_from_column(df_mercury, 'Model')"
   ]
  },
  {
   "cell_type": "code",
   "execution_count": 8,
   "id": "c3e69d35",
   "metadata": {},
   "outputs": [
    {
     "data": {
      "text/plain": [
       "{'Built February 1st 1998 or Earlier: PATS Type A (Stand Alone PATS Module)\\nBuilt February 2nd 1998 or Later: PATS Type E (Powertrain Control Module)',\n",
       " 'PATS Type A (Stand Alone PATS Module)',\n",
       " 'PATS Type B (Stand Alone PATS Module)',\n",
       " 'PATS Type C (Instrument Cluster)',\n",
       " 'PATS Type E (Powertrain Control Module)'}"
      ]
     },
     "execution_count": 8,
     "metadata": {},
     "output_type": "execute_result"
    }
   ],
   "source": [
    "# Check the string in the security column to confirm if changes are needed\n",
    "data_from_column(df_mercury, 'Security')"
   ]
  },
  {
   "cell_type": "markdown",
   "id": "d5e5fb92",
   "metadata": {},
   "source": [
    "### Changes needed:\n",
    "- There are 2 different models under 2 lines, they will be separated and the demiliter will be \\n:\n",
    "    * Built February 1st or earlier: PATS Type A (Stand Alone PATS Module)\\nBuilt February 2nd or later: PATS Type E (Powertrain Control Module),\n",
    "    * Built July 23rd 2000 or Earlier: PATS Type B (Stand Alone PATS Module)\\nBuilt July 24th 2000 or Later: PATS Type E (Powertrain Control Module),\n",
    "\n",
    "- The strings before (:) will moved from column security to column model as they are related to the models.\n",
    "- This is the result on how it should be after updatings:  \n",
    "Year: 2000  \n",
    "Make: Mercury  \n",
    "Model: M-XX (Built February 1st or earlier)   \n",
    "Security: PATS Type G (Instrument Cluster)"
   ]
  },
  {
   "cell_type": "code",
   "execution_count": 9,
   "id": "339a0dbc",
   "metadata": {},
   "outputs": [],
   "source": [
    "# Fuction to create df based on a given string\n",
    "def create_df_from_str(df, column, string):\n",
    "    df_new = df[df[column] == string]\n",
    "    return df_new"
   ]
  },
  {
   "cell_type": "code",
   "execution_count": 10,
   "id": "10745663",
   "metadata": {},
   "outputs": [],
   "source": [
    "# Function to explode in different lines based on a given pattern\n",
    "def explode_lines(df, column, pattern):\n",
    "    # Make a copy of the original df\n",
    "    df_exploded = df.copy()\n",
    "    # Split the string in 2 based on the delimiter given and \n",
    "    # The result was given inside a list \n",
    "    df_exploded[column] = df_exploded[column].str.split(pattern)\n",
    "    # Explode in 2 lines based on the list items quantity \n",
    "    # ['item1', 'item2'], exploded in 2 lines\n",
    "    df_exploded = df_exploded.explode(column)\n",
    "    # Return the df exploded\n",
    "    return df_exploded"
   ]
  },
  {
   "cell_type": "code",
   "execution_count": 11,
   "id": "a2f5732d",
   "metadata": {},
   "outputs": [],
   "source": [
    "# Function to move the strings before char (:) from column security to column model\n",
    "def move_string_to_column_model(df):\n",
    "    # Function to explode in separate lines strings from security column\n",
    "    df_exploded = explode_lines(df, 'Security', '\\n')\n",
    "    # Reset the index\n",
    "    df_resetted_index = df_exploded.reset_index(drop=True)\n",
    "    # Split the string in the security column using the (:) as the delimeter\n",
    "    df_resetted_index['Security'] = df_resetted_index['Security'].str.split(\":\")\n",
    "\n",
    "    # Loop to iterate under the df indexes\n",
    "    for idx in df_resetted_index.index:\n",
    "        # Method to move the manufactured date to the model column\n",
    "        df_resetted_index['Model'][idx] = f'{df_resetted_index['Model'][idx]} ({df_resetted_index['Security'][idx][0]})'\n",
    "        # Remove manufactured date from security column\n",
    "        df_resetted_index['Security'][idx].pop(0)\n",
    "\n",
    "    # Extracts the string from list under security column  \n",
    "    df_security_list = df_resetted_index['Security'].str.join(' ')\n",
    "\n",
    "    # Update the df\n",
    "    df_resetted_index['Security'] = df_security_list\n",
    "\n",
    "    # Return a df with the strings before (:) moved to column model\n",
    "    return df_resetted_index"
   ]
  },
  {
   "cell_type": "code",
   "execution_count": 12,
   "id": "9ab085ce",
   "metadata": {},
   "outputs": [],
   "source": [
    "# Call the function to create a df with the string should be changed under column security\n",
    "df_mercury_built_date = create_df_from_str(df_mercury, 'Security', 'Built February 1st 1998 or Earlier: PATS Type A (Stand Alone PATS Module)\\nBuilt February 2nd 1998 or Later: PATS Type E (Powertrain Control Module)')"
   ]
  },
  {
   "cell_type": "code",
   "execution_count": 13,
   "id": "d7e5b99a",
   "metadata": {},
   "outputs": [],
   "source": [
    "# Create a list with the indexes\n",
    "mercury_built_date_indexes_list = list(df_mercury_built_date.index)"
   ]
  },
  {
   "cell_type": "code",
   "execution_count": 14,
   "id": "d48f4ca1",
   "metadata": {},
   "outputs": [
    {
     "name": "stderr",
     "output_type": "stream",
     "text": [
      "C:\\Users\\Weverson Barbieri\\AppData\\Local\\Temp\\ipykernel_3664\\3062641589.py:13: FutureWarning: ChainedAssignmentError: behaviour will change in pandas 3.0!\n",
      "You are setting values through chained assignment. Currently this works in certain cases, but when using Copy-on-Write (which will become the default behaviour in pandas 3.0) this will never work to update the original DataFrame or Series, because the intermediate object on which we are setting values will behave as a copy.\n",
      "A typical example is when you are setting values in a column of a DataFrame, like:\n",
      "\n",
      "df[\"col\"][row_indexer] = value\n",
      "\n",
      "Use `df.loc[row_indexer, \"col\"] = values` instead, to perform the assignment in a single step and ensure this keeps updating the original `df`.\n",
      "\n",
      "See the caveats in the documentation: https://pandas.pydata.org/pandas-docs/stable/user_guide/indexing.html#returning-a-view-versus-a-copy\n",
      "\n",
      "  df_resetted_index['Model'][idx] = f'{df_resetted_index['Model'][idx]} ({df_resetted_index['Security'][idx][0]})'\n",
      "C:\\Users\\Weverson Barbieri\\AppData\\Local\\Temp\\ipykernel_3664\\3062641589.py:13: SettingWithCopyWarning: \n",
      "A value is trying to be set on a copy of a slice from a DataFrame\n",
      "\n",
      "See the caveats in the documentation: https://pandas.pydata.org/pandas-docs/stable/user_guide/indexing.html#returning-a-view-versus-a-copy\n",
      "  df_resetted_index['Model'][idx] = f'{df_resetted_index['Model'][idx]} ({df_resetted_index['Security'][idx][0]})'\n",
      "C:\\Users\\Weverson Barbieri\\AppData\\Local\\Temp\\ipykernel_3664\\3062641589.py:13: FutureWarning: ChainedAssignmentError: behaviour will change in pandas 3.0!\n",
      "You are setting values through chained assignment. Currently this works in certain cases, but when using Copy-on-Write (which will become the default behaviour in pandas 3.0) this will never work to update the original DataFrame or Series, because the intermediate object on which we are setting values will behave as a copy.\n",
      "A typical example is when you are setting values in a column of a DataFrame, like:\n",
      "\n",
      "df[\"col\"][row_indexer] = value\n",
      "\n",
      "Use `df.loc[row_indexer, \"col\"] = values` instead, to perform the assignment in a single step and ensure this keeps updating the original `df`.\n",
      "\n",
      "See the caveats in the documentation: https://pandas.pydata.org/pandas-docs/stable/user_guide/indexing.html#returning-a-view-versus-a-copy\n",
      "\n",
      "  df_resetted_index['Model'][idx] = f'{df_resetted_index['Model'][idx]} ({df_resetted_index['Security'][idx][0]})'\n",
      "C:\\Users\\Weverson Barbieri\\AppData\\Local\\Temp\\ipykernel_3664\\3062641589.py:13: SettingWithCopyWarning: \n",
      "A value is trying to be set on a copy of a slice from a DataFrame\n",
      "\n",
      "See the caveats in the documentation: https://pandas.pydata.org/pandas-docs/stable/user_guide/indexing.html#returning-a-view-versus-a-copy\n",
      "  df_resetted_index['Model'][idx] = f'{df_resetted_index['Model'][idx]} ({df_resetted_index['Security'][idx][0]})'\n"
     ]
    }
   ],
   "source": [
    "# Call the function to move the strings from column security to column model\n",
    "df_mercury_built_date_moved_strings = move_string_to_column_model(df_mercury_built_date)"
   ]
  },
  {
   "cell_type": "code",
   "execution_count": 15,
   "id": "8458c46b",
   "metadata": {},
   "outputs": [
    {
     "data": {
      "text/html": [
       "<div>\n",
       "<style scoped>\n",
       "    .dataframe tbody tr th:only-of-type {\n",
       "        vertical-align: middle;\n",
       "    }\n",
       "\n",
       "    .dataframe tbody tr th {\n",
       "        vertical-align: top;\n",
       "    }\n",
       "\n",
       "    .dataframe thead th {\n",
       "        text-align: right;\n",
       "    }\n",
       "</style>\n",
       "<table border=\"1\" class=\"dataframe\">\n",
       "  <thead>\n",
       "    <tr style=\"text-align: right;\">\n",
       "      <th></th>\n",
       "      <th>Year</th>\n",
       "      <th>Make</th>\n",
       "      <th>Model</th>\n",
       "      <th>Security</th>\n",
       "      <th>ParameterReset</th>\n",
       "    </tr>\n",
       "  </thead>\n",
       "  <tbody>\n",
       "    <tr>\n",
       "      <th>0</th>\n",
       "      <td>1998</td>\n",
       "      <td>Mercury</td>\n",
       "      <td>Mystique (V-6 only) (Built February 1st 1998 o...</td>\n",
       "      <td>PATS Type A (Stand Alone PATS Module)</td>\n",
       "      <td>Parameter Reset Not Required</td>\n",
       "    </tr>\n",
       "    <tr>\n",
       "      <th>1</th>\n",
       "      <td>1998</td>\n",
       "      <td>Mercury</td>\n",
       "      <td>Mystique (V-6 only) (Built February 2nd 1998 o...</td>\n",
       "      <td>PATS Type E (Powertrain Control Module)</td>\n",
       "      <td>Parameter Reset Not Required</td>\n",
       "    </tr>\n",
       "  </tbody>\n",
       "</table>\n",
       "</div>"
      ],
      "text/plain": [
       "   Year     Make                                              Model  \\\n",
       "0  1998  Mercury  Mystique (V-6 only) (Built February 1st 1998 o...   \n",
       "1  1998  Mercury  Mystique (V-6 only) (Built February 2nd 1998 o...   \n",
       "\n",
       "                                   Security                ParameterReset  \n",
       "0     PATS Type A (Stand Alone PATS Module)  Parameter Reset Not Required  \n",
       "1   PATS Type E (Powertrain Control Module)  Parameter Reset Not Required  "
      ]
     },
     "execution_count": 15,
     "metadata": {},
     "output_type": "execute_result"
    }
   ],
   "source": [
    "# Print the df after moving the strings\n",
    "df_mercury_built_date_moved_strings"
   ]
  },
  {
   "cell_type": "code",
   "execution_count": 16,
   "id": "1d01dea5",
   "metadata": {},
   "outputs": [],
   "source": [
    "# Concatenate the df with built date moved to the model column to the main df\n",
    "df_mercury_concatenated = pd.concat([df_mercury, df_mercury_built_date_moved_strings])"
   ]
  },
  {
   "cell_type": "code",
   "execution_count": 17,
   "id": "305d39ed",
   "metadata": {},
   "outputs": [],
   "source": [
    "# Drop the indexes with the built date at the security column\n",
    "df_mercury_concatenated_dropped_indexes = df_mercury_concatenated.drop(index=mercury_built_date_indexes_list)"
   ]
  },
  {
   "cell_type": "code",
   "execution_count": 18,
   "id": "457fa962",
   "metadata": {},
   "outputs": [],
   "source": [
    "# Reset the index\n",
    "df_mercury_reset_index = df_mercury_concatenated_dropped_indexes.reset_index(drop=True)"
   ]
  },
  {
   "cell_type": "markdown",
   "id": "567006fc",
   "metadata": {},
   "source": [
    "## Check the changes"
   ]
  },
  {
   "cell_type": "code",
   "execution_count": 19,
   "id": "b3442705",
   "metadata": {},
   "outputs": [
    {
     "data": {
      "text/plain": [
       "{'Cougar',\n",
       " 'Grand Marquis',\n",
       " 'Marauder',\n",
       " 'Mariner',\n",
       " 'Mariner (Hybrid)',\n",
       " 'Milan',\n",
       " 'Milan (Hybrid)',\n",
       " 'Montego',\n",
       " 'Monterey',\n",
       " 'Mountaineer (4dr)',\n",
       " 'Mystique (V-6 only)',\n",
       " 'Mystique (V-6 only) (Built February 1st 1998 or Earlier)',\n",
       " 'Mystique (V-6 only) (Built February 2nd 1998 or Later)',\n",
       " 'Sable',\n",
       " 'Sable (Duratec only)'}"
      ]
     },
     "execution_count": 19,
     "metadata": {},
     "output_type": "execute_result"
    }
   ],
   "source": [
    "# Column Model\n",
    "data_from_column(df_mercury_reset_index, 'Model')"
   ]
  },
  {
   "cell_type": "code",
   "execution_count": 20,
   "id": "650a902e",
   "metadata": {},
   "outputs": [
    {
     "data": {
      "text/plain": [
       "{' PATS Type A (Stand Alone PATS Module)',\n",
       " ' PATS Type E (Powertrain Control Module)',\n",
       " 'PATS Type A (Stand Alone PATS Module)',\n",
       " 'PATS Type B (Stand Alone PATS Module)',\n",
       " 'PATS Type C (Instrument Cluster)',\n",
       " 'PATS Type E (Powertrain Control Module)'}"
      ]
     },
     "execution_count": 20,
     "metadata": {},
     "output_type": "execute_result"
    }
   ],
   "source": [
    "# Column Security\n",
    "data_from_column(df_mercury_reset_index, 'Security')"
   ]
  },
  {
   "cell_type": "markdown",
   "id": "cd5c45dc",
   "metadata": {},
   "source": [
    "### PATS Type and Anti-Theft Module Location separation:\n",
    "PATS (Passive Anti-Theft System) Type and Anti-Theft Module Location are currently in the same column. However, the PATS Type defines which key learning procedure should be performed. To make it easier to indicate the correct procedure, it is necessary to separate this information. See below how it is currently and how it should look after the update.\n",
    "\n",
    "- Before changes:  \n",
    "Year: 2000  \n",
    "Make: Mercury  \n",
    "Model: M-XX (Built February 1st or earlier)   \n",
    "Security: PATS Type G (Instrument Cluster)  \n",
    "\n",
    "- After changes:  \n",
    "Year: 2000  \n",
    "Make: Mercury  \n",
    "Model: M-XX  \n",
    "PATS Type: PATS Type G  \n",
    "Anti-Theft Module Location: Instrument Cluster"
   ]
  },
  {
   "cell_type": "code",
   "execution_count": 21,
   "id": "a91ecf8d",
   "metadata": {},
   "outputs": [],
   "source": [
    "# This function will separate the columns as described above\n",
    "def split_pats_type_from_module_location(df):\n",
    "\n",
    "    # Split the security string considering the '(' as the delimiter\n",
    "    df['Security'] = df['Security'].str.split('(')\n",
    "\n",
    "    # Loop to iterate under the df indexes\n",
    "    for idx in df.index:\n",
    "        # Method to add a new column to the df, pulling the PATS Type from security column \n",
    "        df.at[idx, 'PATS Type'] = f'{df['Security'][idx][0]}'\n",
    "        # Remove the PATS Type from the security column\n",
    "        df['Security'][idx].pop(0)\n",
    "\n",
    "    # Extracts the string from list under security column  \n",
    "    df_anti_theft_module_location_list = df['Security'].str.join(' ')\n",
    "\n",
    "    # Update the df\n",
    "    df['Security'] = df_anti_theft_module_location_list\n",
    "\n",
    "    # Remove char ')' from column security\n",
    "    df['Security'] = df['Security'].str.replace(')', '', regex=False)\n",
    "\n",
    "    # Rename column security to 'Anti-Theft Module Location'\n",
    "    df = df.rename(columns={'Security': 'Anti-Theft Module Location'})\n",
    "\n",
    "    # Reorder columns \n",
    "    df_updated_reordered_columns = df[['Year', 'Make', 'Model', 'Anti-Theft Module Location', 'PATS Type', 'ParameterReset']]\n",
    "\n",
    "    # Return the df updated: columns for pats type and anti-theft module location separated\n",
    "    return df_updated_reordered_columns"
   ]
  },
  {
   "cell_type": "code",
   "execution_count": 22,
   "id": "eeb3c248",
   "metadata": {},
   "outputs": [],
   "source": [
    "# Call the function to separate columns pats type, security, rename columns security and reorder the columns\n",
    "df_mercury_reordering_column = split_pats_type_from_module_location(df_mercury_reset_index)"
   ]
  },
  {
   "cell_type": "code",
   "execution_count": 23,
   "id": "6da9a88a",
   "metadata": {},
   "outputs": [
    {
     "data": {
      "text/html": [
       "<div>\n",
       "<style scoped>\n",
       "    .dataframe tbody tr th:only-of-type {\n",
       "        vertical-align: middle;\n",
       "    }\n",
       "\n",
       "    .dataframe tbody tr th {\n",
       "        vertical-align: top;\n",
       "    }\n",
       "\n",
       "    .dataframe thead th {\n",
       "        text-align: right;\n",
       "    }\n",
       "</style>\n",
       "<table border=\"1\" class=\"dataframe\">\n",
       "  <thead>\n",
       "    <tr style=\"text-align: right;\">\n",
       "      <th></th>\n",
       "      <th>Year</th>\n",
       "      <th>Make</th>\n",
       "      <th>Model</th>\n",
       "      <th>Anti-Theft Module Location</th>\n",
       "      <th>PATS Type</th>\n",
       "      <th>ParameterReset</th>\n",
       "    </tr>\n",
       "  </thead>\n",
       "  <tbody>\n",
       "    <tr>\n",
       "      <th>0</th>\n",
       "      <td>1996</td>\n",
       "      <td>Mercury</td>\n",
       "      <td>Sable (Duratec only)</td>\n",
       "      <td>Stand Alone PATS Module</td>\n",
       "      <td>PATS Type A</td>\n",
       "      <td>Parameter Reset Not Required</td>\n",
       "    </tr>\n",
       "    <tr>\n",
       "      <th>1</th>\n",
       "      <td>1997</td>\n",
       "      <td>Mercury</td>\n",
       "      <td>Sable (Duratec only)</td>\n",
       "      <td>Stand Alone PATS Module</td>\n",
       "      <td>PATS Type A</td>\n",
       "      <td>Parameter Reset Not Required</td>\n",
       "    </tr>\n",
       "    <tr>\n",
       "      <th>2</th>\n",
       "      <td>1998</td>\n",
       "      <td>Mercury</td>\n",
       "      <td>Grand Marquis</td>\n",
       "      <td>Stand Alone PATS Module</td>\n",
       "      <td>PATS Type B</td>\n",
       "      <td>Parameter Reset Required</td>\n",
       "    </tr>\n",
       "    <tr>\n",
       "      <th>3</th>\n",
       "      <td>1998</td>\n",
       "      <td>Mercury</td>\n",
       "      <td>Mountaineer (4dr)</td>\n",
       "      <td>Stand Alone PATS Module</td>\n",
       "      <td>PATS Type B</td>\n",
       "      <td>Parameter Reset Required</td>\n",
       "    </tr>\n",
       "    <tr>\n",
       "      <th>4</th>\n",
       "      <td>1998</td>\n",
       "      <td>Mercury</td>\n",
       "      <td>Sable (Duratec only)</td>\n",
       "      <td>Stand Alone PATS Module</td>\n",
       "      <td>PATS Type B</td>\n",
       "      <td>Parameter Reset Required</td>\n",
       "    </tr>\n",
       "  </tbody>\n",
       "</table>\n",
       "</div>"
      ],
      "text/plain": [
       "   Year     Make                 Model Anti-Theft Module Location  \\\n",
       "0  1996  Mercury  Sable (Duratec only)    Stand Alone PATS Module   \n",
       "1  1997  Mercury  Sable (Duratec only)    Stand Alone PATS Module   \n",
       "2  1998  Mercury         Grand Marquis    Stand Alone PATS Module   \n",
       "3  1998  Mercury     Mountaineer (4dr)    Stand Alone PATS Module   \n",
       "4  1998  Mercury  Sable (Duratec only)    Stand Alone PATS Module   \n",
       "\n",
       "      PATS Type                ParameterReset  \n",
       "0  PATS Type A   Parameter Reset Not Required  \n",
       "1  PATS Type A   Parameter Reset Not Required  \n",
       "2  PATS Type B       Parameter Reset Required  \n",
       "3  PATS Type B       Parameter Reset Required  \n",
       "4  PATS Type B       Parameter Reset Required  "
      ]
     },
     "execution_count": 23,
     "metadata": {},
     "output_type": "execute_result"
    }
   ],
   "source": [
    "# Print the head to confirm the column reordering\n",
    "df_mercury_reordering_column.head()"
   ]
  },
  {
   "cell_type": "markdown",
   "id": "93619f14",
   "metadata": {},
   "source": [
    "### Check if the updates were done"
   ]
  },
  {
   "cell_type": "code",
   "execution_count": 24,
   "id": "dcd65442",
   "metadata": {},
   "outputs": [
    {
     "data": {
      "text/plain": [
       "{'Instrument Cluster', 'Powertrain Control Module', 'Stand Alone PATS Module'}"
      ]
     },
     "execution_count": 24,
     "metadata": {},
     "output_type": "execute_result"
    }
   ],
   "source": [
    "# Column Anti-Theft Module Location\n",
    "data_from_column(df_mercury_reordering_column, 'Anti-Theft Module Location')"
   ]
  },
  {
   "cell_type": "code",
   "execution_count": 25,
   "id": "bccc603f",
   "metadata": {},
   "outputs": [
    {
     "data": {
      "text/plain": [
       "{' PATS Type A ',\n",
       " ' PATS Type E ',\n",
       " 'PATS Type A ',\n",
       " 'PATS Type B ',\n",
       " 'PATS Type C ',\n",
       " 'PATS Type E '}"
      ]
     },
     "execution_count": 25,
     "metadata": {},
     "output_type": "execute_result"
    }
   ],
   "source": [
    "# Column PATS Type\n",
    "data_from_column(df_mercury_reordering_column, 'PATS Type')"
   ]
  },
  {
   "cell_type": "code",
   "execution_count": 26,
   "id": "a50b874f",
   "metadata": {},
   "outputs": [
    {
     "data": {
      "text/plain": [
       "{'Parameter Reset Not Required', 'Parameter Reset Required'}"
      ]
     },
     "execution_count": 26,
     "metadata": {},
     "output_type": "execute_result"
    }
   ],
   "source": [
    "# Check if column parameter reset needs to be change\n",
    "data_from_column(df_mercury_reordering_column, 'ParameterReset')"
   ]
  },
  {
   "cell_type": "markdown",
   "id": "70092c4c",
   "metadata": {},
   "source": [
    "### No changes needed in the ParameterReset column"
   ]
  },
  {
   "cell_type": "code",
   "execution_count": 27,
   "id": "fd0ba4a9",
   "metadata": {},
   "outputs": [],
   "source": [
    "# Export the to .csv file\n",
    "df_mercury_reordering_column.to_csv('C:\\\\Language_Projects\\\\Language_Projects\\\\Python\\\\Flagship_1\\\\vehicle_security_system_data_cleaning\\\\data\\\\df_mercury.csv', index=False)"
   ]
  }
 ],
 "metadata": {
  "kernelspec": {
   "display_name": "venv",
   "language": "python",
   "name": "python3"
  },
  "language_info": {
   "codemirror_mode": {
    "name": "ipython",
    "version": 3
   },
   "file_extension": ".py",
   "mimetype": "text/x-python",
   "name": "python",
   "nbconvert_exporter": "python",
   "pygments_lexer": "ipython3",
   "version": "3.12.2"
  }
 },
 "nbformat": 4,
 "nbformat_minor": 5
}
