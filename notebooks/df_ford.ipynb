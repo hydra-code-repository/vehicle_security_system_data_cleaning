{
 "cells": [
  {
   "cell_type": "code",
   "execution_count": 1,
   "id": "7ae90559",
   "metadata": {},
   "outputs": [],
   "source": [
    "import pandas as pd\n",
    "import re\n",
    "import os"
   ]
  },
  {
   "cell_type": "code",
   "execution_count": 2,
   "id": "0666560b",
   "metadata": {},
   "outputs": [],
   "source": [
    "# This function creates the path to the main Excel file of this project\n",
    "# Uses os library methods to ensure the file path works in both local and GitHub CI/CD environments\n",
    "def create_file_path(file_relative_path):\n",
    "    # Store the xlsx file dir into a var\n",
    "    dir = '../data'\n",
    "    \n",
    "    # Iterate under dir data to have all files\n",
    "    for filename in os.listdir(dir):\n",
    "        # Condition to confirm which file is == year_make_model_df.xlsx\n",
    "        if filename.endswith(file_relative_path):\n",
    "            # Join the dir + filename to create the path to year_make_model_df.xlsx file  \n",
    "            xlsx_file_fullpath = os.path.join(dir, filename)\n",
    "            # Print the result\n",
    "            print(xlsx_file_fullpath)\n",
    "    return xlsx_file_fullpath"
   ]
  },
  {
   "cell_type": "code",
   "execution_count": 3,
   "id": "ed78af62",
   "metadata": {},
   "outputs": [
    {
     "name": "stdout",
     "output_type": "stream",
     "text": [
      "../data\\year_make_model_df.xlsx\n"
     ]
    }
   ],
   "source": [
    "# Read excel \n",
    "df = pd.read_excel(create_file_path('year_make_model_df.xlsx'))"
   ]
  },
  {
   "cell_type": "code",
   "execution_count": 4,
   "id": "01b6e9f8",
   "metadata": {},
   "outputs": [],
   "source": [
    "# Converting all values in column Model to string, as some of models are numbers, for instance BMWs 318, 328, 525\n",
    "df = df.astype({'Model':'string'})"
   ]
  },
  {
   "cell_type": "code",
   "execution_count": 5,
   "id": "8ae2eb76",
   "metadata": {},
   "outputs": [
    {
     "name": "stdout",
     "output_type": "stream",
     "text": [
      "<class 'pandas.core.frame.DataFrame'>\n",
      "RangeIndex: 3463 entries, 0 to 3462\n",
      "Data columns (total 5 columns):\n",
      " #   Column          Non-Null Count  Dtype \n",
      "---  ------          --------------  ----- \n",
      " 0   Year            3463 non-null   int64 \n",
      " 1   Make            3463 non-null   object\n",
      " 2   Model           3463 non-null   string\n",
      " 3   Security        3156 non-null   object\n",
      " 4   ParameterReset  938 non-null    object\n",
      "dtypes: int64(1), object(3), string(1)\n",
      "memory usage: 135.4+ KB\n"
     ]
    }
   ],
   "source": [
    "# Confirm if the Dtype from the column Model changed to string.\n",
    "df.info()"
   ]
  },
  {
   "cell_type": "code",
   "execution_count": 7,
   "id": "f53fb057",
   "metadata": {},
   "outputs": [],
   "source": [
    "# Function to create list with unique items from given column\n",
    "def data_from_column(df, column):\n",
    "    # List to append the items\n",
    "    data_column_list =[]\n",
    "\n",
    "    # Iterate over given column\n",
    "    for data in df[column]:\n",
    "        # Append the items from the given column\n",
    "        data_column_list.append(data)\n",
    "\n",
    "    # Return a set with unique items from given column\n",
    "    return set(data_column_list)"
   ]
  },
  {
   "cell_type": "code",
   "execution_count": 8,
   "id": "80d9c654",
   "metadata": {},
   "outputs": [],
   "source": [
    "# Filter only Ford models and create a df.\n",
    "df_ford = df[df['Make'] == 'Ford']"
   ]
  },
  {
   "cell_type": "code",
   "execution_count": 9,
   "id": "5a84d026",
   "metadata": {},
   "outputs": [
    {
     "name": "stdout",
     "output_type": "stream",
     "text": [
      "{'Explorer (4dr)', 'Windstar', 'FUSION', 'F-150 Heritage', 'ESCAPE (Push to Start)', 'Expedition', 'Ranger (2.3L, 3.0L, & 4.0L)', 'Freestyle', 'FUSION (Hybrid)', 'FIESTA', 'Five Hundred', 'Explorer Sport Trac', 'GT', 'Flex', 'C-MAX (Hybrid)', 'TRANSIT CONNECT', 'Escape', 'Crown Victoria', 'C-MAX (Hybrid) (Push to Start)', 'FLEX (Push to Start)', 'Taurus X', 'F-150 Harley-Davidson', 'F-150', 'Explorer Sport (2dr)', 'Excursion', 'FOCUS EV', 'Escape (Hybrid)', 'Edge', 'Taurus', 'Freestar', 'Fusion (Hybrid)', 'F-SERIES Super Duty (F-350/450/650/750)', 'Focus', 'Taurus (Duratec & SHO only)', 'TRANSIT', 'FUSION EV', 'Fusion', 'Contour (V6-only)', 'Edge(Push to Start)', 'Ranger (3.0L & 4.0L only)', 'Mustang', 'Thunderbird', 'F-250 (under 8500# GVW)', 'E-Series', 'F-Series > 8500 (Stripped Chassis/Cab Chassis)'}\n"
     ]
    }
   ],
   "source": [
    "# Create a set with unique values from column Model\n",
    "print(data_from_column(df_ford, \"Model\"))"
   ]
  },
  {
   "cell_type": "markdown",
   "id": "b04a0bbc",
   "metadata": {},
   "source": [
    "F-SERIES Super Duty (F-350/450/650/750):\n",
    "These models are currently grouped in the same row, but they should be separated into different rows because each model has distinct configurations, even though they share similar security system"
   ]
  },
  {
   "cell_type": "code",
   "execution_count": 10,
   "id": "cf03a6a6",
   "metadata": {},
   "outputs": [
    {
     "name": "stderr",
     "output_type": "stream",
     "text": [
      "C:\\Users\\Weverson Barbieri\\AppData\\Local\\Temp\\ipykernel_19836\\1791658396.py:2: SettingWithCopyWarning: \n",
      "A value is trying to be set on a copy of a slice from a DataFrame.\n",
      "Try using .loc[row_indexer,col_indexer] = value instead\n",
      "\n",
      "See the caveats in the documentation: https://pandas.pydata.org/pandas-docs/stable/user_guide/indexing.html#returning-a-view-versus-a-copy\n",
      "  df_ford['F-Series SD'] = df_ford['Model'].str.contains(r'F-350/450/650/750', regex=True)\n"
     ]
    }
   ],
   "source": [
    "# Check mark with True the rows with the model F-SERIES Super Duty (F-350/450/650/750)\n",
    "df_ford['F-Series SD'] = df_ford['Model'].str.contains(r'F-350/450/650/750', regex=True)"
   ]
  },
  {
   "cell_type": "code",
   "execution_count": 11,
   "id": "83dd2e09",
   "metadata": {},
   "outputs": [],
   "source": [
    "# Store in a df only the models with the string F-SERIES Super Duty (F-350/450/650/750)\n",
    "df_ford_fseries_sd = df_ford[df_ford['F-Series SD'] == True]"
   ]
  },
  {
   "cell_type": "code",
   "execution_count": 12,
   "id": "36ab5529",
   "metadata": {},
   "outputs": [],
   "source": [
    "# Explode in separate lines F-Series from 350 - 750\n",
    "df_ford_model_exploded = df_ford_fseries_sd.assign(Model=df_ford_fseries_sd[\"Model\"].str.split('/')).explode(\"Model\")"
   ]
  },
  {
   "cell_type": "code",
   "execution_count": 13,
   "id": "4601cca7",
   "metadata": {},
   "outputs": [],
   "source": [
    "# List to append the models\n",
    "fseries_list = []\n",
    "\n",
    "# Loop to iterate under column model\n",
    "for model in df_ford_model_exploded['Model']:\n",
    "    # Condition to update specific models\n",
    "    if model in ['450', '650', '750)']:\n",
    "        fseries_updated = 'F-' + model + ' Super Duty'\n",
    "        fseries_list.append(fseries_updated)\n",
    "    else:\n",
    "        fseries_list.append(model)"
   ]
  },
  {
   "cell_type": "code",
   "execution_count": 14,
   "id": "883ae567",
   "metadata": {},
   "outputs": [],
   "source": [
    "# Update the df after updating f-series\n",
    "df_ford_model_exploded['Model'] = fseries_list"
   ]
  },
  {
   "cell_type": "code",
   "execution_count": 15,
   "id": "15684956",
   "metadata": {},
   "outputs": [
    {
     "name": "stdout",
     "output_type": "stream",
     "text": [
      "{'F-450 Super Duty', 'F-650 Super Duty', 'F-SERIES Super Duty (F-350', 'F-750) Super Duty'}\n"
     ]
    }
   ],
   "source": [
    "# Set with unique models after update\n",
    "print(data_from_column(df_ford_model_exploded, 'Model'))"
   ]
  },
  {
   "cell_type": "markdown",
   "id": "92e07cf7",
   "metadata": {},
   "source": [
    "### Changes needed:\n",
    "- F-SERIES Super Duty (F-350 -> F-350 Super Duty\n",
    "- F-750) Super Duty -> F-750 Super Duty\n",
    "- Drop the indexes containing the old model: 2805, 3037, 3270"
   ]
  },
  {
   "cell_type": "code",
   "execution_count": 16,
   "id": "a0147541",
   "metadata": {},
   "outputs": [],
   "source": [
    "# Update the models based on the above changes\n",
    "df_ford_model_exploded['Model'] = df_ford_model_exploded['Model'].replace({\n",
    "    'F-SERIES Super Duty (F-350': 'F-350 Super Duty',\n",
    "    'F-750) Super Duty': 'F-750 Super Duty'},\n",
    "    regex=False)"
   ]
  },
  {
   "cell_type": "code",
   "execution_count": 17,
   "id": "4c10e0a9",
   "metadata": {},
   "outputs": [],
   "source": [
    "# Drop column F-Series SD\n",
    "df_ford_dropped_fseries_column = df_ford_model_exploded.drop(columns=['F-Series SD'])"
   ]
  },
  {
   "cell_type": "code",
   "execution_count": 18,
   "id": "2befeb43",
   "metadata": {},
   "outputs": [],
   "source": [
    "# Concatenate with the main df\n",
    "df_ford_concatenate_after_models_exploded = pd.concat([df_ford, df_ford_dropped_fseries_column])"
   ]
  },
  {
   "cell_type": "code",
   "execution_count": 19,
   "id": "889fe173",
   "metadata": {},
   "outputs": [],
   "source": [
    "# Reset index\n",
    "df_ford_concatenate_reset_index = df_ford_concatenate_after_models_exploded.reset_index(drop=True)"
   ]
  },
  {
   "cell_type": "code",
   "execution_count": 20,
   "id": "9b3ec4fd",
   "metadata": {},
   "outputs": [],
   "source": [
    "# Check with rows still has the model F-SERIES Super Duty (F-350/450/650/750)\n",
    "fseries_indexes = df_ford_concatenate_reset_index['Model'].str.contains(r'F-350/450/650/750', regex=True)"
   ]
  },
  {
   "cell_type": "code",
   "execution_count": 21,
   "id": "ca5a024f",
   "metadata": {},
   "outputs": [
    {
     "data": {
      "text/plain": [
       "212    True\n",
       "231    True\n",
       "251    True\n",
       "Name: Model, dtype: bool"
      ]
     },
     "execution_count": 21,
     "metadata": {},
     "output_type": "execute_result"
    }
   ],
   "source": [
    "# Confirm the indexes\n",
    "fseries_indexes[fseries_indexes == True]"
   ]
  },
  {
   "cell_type": "code",
   "execution_count": 22,
   "id": "dc7ce167",
   "metadata": {},
   "outputs": [],
   "source": [
    "# Drop indexes were exploded\n",
    "df_ford_drop_fseries_indexes = df_ford_concatenate_reset_index.drop(index=[212, 231, 251])"
   ]
  },
  {
   "cell_type": "code",
   "execution_count": 23,
   "id": "c042f1fd",
   "metadata": {},
   "outputs": [
    {
     "name": "stdout",
     "output_type": "stream",
     "text": [
      "{'Explorer (4dr)', 'Windstar', 'FUSION', 'F-150 Heritage', 'F-650 Super Duty', 'ESCAPE (Push to Start)', 'Expedition', 'Ranger (2.3L, 3.0L, & 4.0L)', 'Freestyle', 'FUSION (Hybrid)', 'FIESTA', 'Five Hundred', 'Explorer Sport Trac', 'GT', 'Flex', 'C-MAX (Hybrid)', 'TRANSIT CONNECT', 'Escape', 'Crown Victoria', 'C-MAX (Hybrid) (Push to Start)', 'FLEX (Push to Start)', 'Taurus X', 'F-150 Harley-Davidson', 'F-150', 'Explorer Sport (2dr)', 'Excursion', 'FOCUS EV', 'Escape (Hybrid)', 'Edge', 'F-350 Super Duty', 'Taurus', 'Freestar', 'Fusion (Hybrid)', 'Focus', 'Taurus (Duratec & SHO only)', 'TRANSIT', 'FUSION EV', 'F-750 Super Duty', 'Fusion', 'Contour (V6-only)', 'Edge(Push to Start)', 'Ranger (3.0L & 4.0L only)', 'Mustang', 'Thunderbird', 'F-250 (under 8500# GVW)', 'F-450 Super Duty', 'E-Series', 'F-Series > 8500 (Stripped Chassis/Cab Chassis)'}\n"
     ]
    }
   ],
   "source": [
    "# Print the models to confirm what else should be chaged\n",
    "print(data_from_column(df_ford_drop_fseries_indexes, \"Model\"))"
   ]
  },
  {
   "cell_type": "markdown",
   "id": "dc3fcab7",
   "metadata": {},
   "source": [
    "### No changes needed in the rest of the models"
   ]
  },
  {
   "cell_type": "code",
   "execution_count": 24,
   "id": "223596d5",
   "metadata": {},
   "outputs": [
    {
     "data": {
      "text/plain": [
       "{'Built February 1st or earlier: PATS Type A (Stand Alone PATS Module)\\nBuilt February 2nd or later: PATS Type E (Powertrain Control Module)',\n",
       " 'Built July 23rd 2000 or Earlier: PATS Type B (Stand Alone PATS Module)\\nBuilt July 24th 2000 or Later: PATS Type E (Powertrain Control Module)',\n",
       " 'Fleet Vehicles: PATS Type G (Instrument Cluster)\\nNon-Fleet Vehicles: PATS Type C (Instrument Cluster)',\n",
       " 'Keyed Ignition: PATS Type A (Instrument Cluster)\\nPush To Start: PATS Type C (Remote Function Actuator / Keyless Vehicle Module)',\n",
       " 'Keyed Ignition: PATS Type C (Instrument Cluster)\\nPush To Start: PATS Type C (Remote Function Actuator / Keyless Vehicle Module)',\n",
       " 'PATS Type A (Instrument Cluster)',\n",
       " 'PATS Type A (Stand Alone PATS Module)',\n",
       " 'PATS Type B (Body Control Module)',\n",
       " 'PATS Type B (Stand Alone PATS Module)',\n",
       " 'PATS Type C (Instrument Cluster)',\n",
       " 'PATS Type C (Powertrain Control Module)',\n",
       " 'PATS Type C (Remote Function Actuator / Keyless Vehicle Module)',\n",
       " 'PATS Type E (Powertrain Control Module)',\n",
       " 'PATS Type F (Powertrain Control Module)',\n",
       " 'PATS Type G (Instrument Cluster)',\n",
       " 'PATS Type NA (No PATS)'}"
      ]
     },
     "execution_count": 24,
     "metadata": {},
     "output_type": "execute_result"
    }
   ],
   "source": [
    "# Print the items in the security column to check for changes needed\n",
    "data_from_column(df_ford_drop_fseries_indexes, 'Security')"
   ]
  },
  {
   "cell_type": "markdown",
   "id": "5e6bf5f7",
   "metadata": {},
   "source": [
    "### Changes needed:\n",
    "- There are 2 different models under 2 lines, they will be separated and the demiliter will be \\n:\n",
    "    * Built February 1st or earlier: PATS Type A (Stand Alone PATS Module)\\nBuilt February 2nd or later: PATS Type E (Powertrain Control Module),\n",
    "    * Built July 23rd 2000 or Earlier: PATS Type B (Stand Alone PATS Module)\\nBuilt July 24th 2000 or Later: PATS Type E (Powertrain Control Module),\n",
    "    * Fleet Vehicles: PATS Type G (Instrument Cluster)\\nNon-Fleet Vehicles: PATS Type C (Instrument Cluster),\n",
    "    * Keyed Ignition: PATS Type A (Instrument Cluster)\\nPush To Start: PATS Type C (Remote Function Actuator / Keyless Vehicle Module),\n",
    "    * Keyed Ignition: PATS Type C (Instrument Cluster)\\nPush To Start: PATS Type C (Remote Function Actuator / Keyless Vehicle Module),\n",
    "- The strings before (:) will moved from column security to column model as they are related to the models.\n",
    "- This is the result on how it should be after updatings:  \n",
    "Year: 2000  \n",
    "Make: Ford  \n",
    "Model: F-XX (Built February 1st or earlier)   \n",
    "Security: PATS Type G (Instrument Cluster)"
   ]
  },
  {
   "cell_type": "code",
   "execution_count": 25,
   "id": "2dc5b41d",
   "metadata": {},
   "outputs": [],
   "source": [
    "# Fuction to create df\n",
    "def create_df(df, column, string):\n",
    "    df_new = df[df[column] == string]\n",
    "    return df_new"
   ]
  },
  {
   "cell_type": "code",
   "execution_count": 26,
   "id": "5c5b1d73",
   "metadata": {},
   "outputs": [],
   "source": [
    "# Function to explode in different lines based on a given pattern\n",
    "def explode_lines(df, column, pattern):\n",
    "    # Make a copy of the original df\n",
    "    df_exploded = df.copy()\n",
    "    # Split the string in 2 based on the delimiter given and \n",
    "    # The result was given inside a list \n",
    "    df_exploded[column] = df_exploded[column].str.split(pattern)\n",
    "    # Explode in 2 lines based on the list items quantity \n",
    "    # ['item1', 'item2'], exploded in 2 lines\n",
    "    df_exploded = df_exploded.explode(column)\n",
    "    # Return the df exploded\n",
    "    return df_exploded"
   ]
  },
  {
   "cell_type": "code",
   "execution_count": 27,
   "id": "094b6195",
   "metadata": {},
   "outputs": [],
   "source": [
    "# Function to move the strings before char (:) from column security to column model\n",
    "def move_string_to_column_model(df):\n",
    "    # Function to explode in separate lines strings from security column\n",
    "    df_exploded = explode_lines(df, 'Security', '\\n')\n",
    "    # Reset the index\n",
    "    df_resetted_index = df_exploded.reset_index(drop=True)\n",
    "    # Split the string in the security column using the (:) as the delimeter\n",
    "    df_resetted_index['Security'] = df_resetted_index['Security'].str.split(\":\")\n",
    "\n",
    "    # Loop to iterate under the df indexes\n",
    "    for idx in df_resetted_index.index:\n",
    "        # Method to move the manufactured date to the model column\n",
    "        df_resetted_index['Model'][idx] = f'{df_resetted_index['Model'][idx]} ({df_resetted_index['Security'][idx][0]})'\n",
    "        # Remove manufactured date from security column\n",
    "        df_resetted_index['Security'][idx].pop(0)\n",
    "\n",
    "    # Extracts the string from list under security column  \n",
    "    df_security_list = df_resetted_index['Security'].str.join(' ')\n",
    "\n",
    "    # Update the df\n",
    "    df_resetted_index['Security'] = df_security_list\n",
    "\n",
    "    # Return a df with the strings before (:) moved to column model\n",
    "    return df_resetted_index"
   ]
  },
  {
   "cell_type": "code",
   "execution_count": 28,
   "id": "076ce1f4",
   "metadata": {},
   "outputs": [],
   "source": [
    "# Call the function to create a df with the string containing the strings \"Built February...\"\n",
    "df_ford_contour = create_df(df_ford_drop_fseries_indexes, 'Security', 'Built February 1st or earlier: PATS Type A (Stand Alone PATS Module)\\nBuilt February 2nd or later: PATS Type E (Powertrain Control Module)')"
   ]
  },
  {
   "cell_type": "code",
   "execution_count": 29,
   "id": "f386cba1",
   "metadata": {},
   "outputs": [
    {
     "name": "stderr",
     "output_type": "stream",
     "text": [
      "C:\\Users\\Weverson Barbieri\\AppData\\Local\\Temp\\ipykernel_19836\\3062641589.py:13: FutureWarning: ChainedAssignmentError: behaviour will change in pandas 3.0!\n",
      "You are setting values through chained assignment. Currently this works in certain cases, but when using Copy-on-Write (which will become the default behaviour in pandas 3.0) this will never work to update the original DataFrame or Series, because the intermediate object on which we are setting values will behave as a copy.\n",
      "A typical example is when you are setting values in a column of a DataFrame, like:\n",
      "\n",
      "df[\"col\"][row_indexer] = value\n",
      "\n",
      "Use `df.loc[row_indexer, \"col\"] = values` instead, to perform the assignment in a single step and ensure this keeps updating the original `df`.\n",
      "\n",
      "See the caveats in the documentation: https://pandas.pydata.org/pandas-docs/stable/user_guide/indexing.html#returning-a-view-versus-a-copy\n",
      "\n",
      "  df_resetted_index['Model'][idx] = f'{df_resetted_index['Model'][idx]} ({df_resetted_index['Security'][idx][0]})'\n",
      "C:\\Users\\Weverson Barbieri\\AppData\\Local\\Temp\\ipykernel_19836\\3062641589.py:13: SettingWithCopyWarning: \n",
      "A value is trying to be set on a copy of a slice from a DataFrame\n",
      "\n",
      "See the caveats in the documentation: https://pandas.pydata.org/pandas-docs/stable/user_guide/indexing.html#returning-a-view-versus-a-copy\n",
      "  df_resetted_index['Model'][idx] = f'{df_resetted_index['Model'][idx]} ({df_resetted_index['Security'][idx][0]})'\n"
     ]
    }
   ],
   "source": [
    "# Call the function to move the strings from column security to column model from MODEL: Contour\n",
    "df_ford_contour_moved_strings = move_string_to_column_model(df_ford_contour)"
   ]
  },
  {
   "cell_type": "code",
   "execution_count": 30,
   "id": "d82839f5",
   "metadata": {},
   "outputs": [
    {
     "data": {
      "text/html": [
       "<div>\n",
       "<style scoped>\n",
       "    .dataframe tbody tr th:only-of-type {\n",
       "        vertical-align: middle;\n",
       "    }\n",
       "\n",
       "    .dataframe tbody tr th {\n",
       "        vertical-align: top;\n",
       "    }\n",
       "\n",
       "    .dataframe thead th {\n",
       "        text-align: right;\n",
       "    }\n",
       "</style>\n",
       "<table border=\"1\" class=\"dataframe\">\n",
       "  <thead>\n",
       "    <tr style=\"text-align: right;\">\n",
       "      <th></th>\n",
       "      <th>Year</th>\n",
       "      <th>Make</th>\n",
       "      <th>Model</th>\n",
       "      <th>Security</th>\n",
       "      <th>ParameterReset</th>\n",
       "      <th>F-Series SD</th>\n",
       "    </tr>\n",
       "  </thead>\n",
       "  <tbody>\n",
       "    <tr>\n",
       "      <th>0</th>\n",
       "      <td>1998</td>\n",
       "      <td>Ford</td>\n",
       "      <td>Contour (V6-only) (Built February 1st or earlier)</td>\n",
       "      <td>PATS Type A (Stand Alone PATS Module)</td>\n",
       "      <td>Parameter Reset Not Required</td>\n",
       "      <td>False</td>\n",
       "    </tr>\n",
       "    <tr>\n",
       "      <th>1</th>\n",
       "      <td>1998</td>\n",
       "      <td>Ford</td>\n",
       "      <td>Contour (V6-only) (Built February 2nd or later)</td>\n",
       "      <td>PATS Type E (Powertrain Control Module)</td>\n",
       "      <td>Parameter Reset Not Required</td>\n",
       "      <td>False</td>\n",
       "    </tr>\n",
       "  </tbody>\n",
       "</table>\n",
       "</div>"
      ],
      "text/plain": [
       "   Year  Make                                              Model  \\\n",
       "0  1998  Ford  Contour (V6-only) (Built February 1st or earlier)   \n",
       "1  1998  Ford    Contour (V6-only) (Built February 2nd or later)   \n",
       "\n",
       "                                   Security                ParameterReset  \\\n",
       "0     PATS Type A (Stand Alone PATS Module)  Parameter Reset Not Required   \n",
       "1   PATS Type E (Powertrain Control Module)  Parameter Reset Not Required   \n",
       "\n",
       "   F-Series SD  \n",
       "0        False  \n",
       "1        False  "
      ]
     },
     "execution_count": 30,
     "metadata": {},
     "output_type": "execute_result"
    }
   ],
   "source": [
    "# Print the df after moving the strings\n",
    "df_ford_contour_moved_strings"
   ]
  },
  {
   "cell_type": "code",
   "execution_count": 31,
   "id": "64b7f281",
   "metadata": {},
   "outputs": [],
   "source": [
    "# Call the function to create the df with given string from column security\n",
    "df_ford_explorer = create_df(df_ford_drop_fseries_indexes, \"Security\", 'Built July 23rd 2000 or Earlier: PATS Type B (Stand Alone PATS Module)\\nBuilt July 24th 2000 or Later: PATS Type E (Powertrain Control Module)')"
   ]
  },
  {
   "cell_type": "code",
   "execution_count": 32,
   "id": "733b495e",
   "metadata": {},
   "outputs": [],
   "source": [
    "# Create a list with indexes\n",
    "ford_explorer_indexes_list = list(df_ford_explorer.index)"
   ]
  },
  {
   "cell_type": "markdown",
   "id": "1b49b574",
   "metadata": {},
   "source": [
    "### Append list function reason:\n",
    "The models that were modified as mentioned above will be removed from the main DataFrame. For this, it is necessary to save the indexes of the rows containing the models prior to the updates. A function will be created to append these indexes to a unique list."
   ]
  },
  {
   "cell_type": "code",
   "execution_count": 33,
   "id": "b5b6e8b9",
   "metadata": {},
   "outputs": [],
   "source": [
    "# Function to append/update the indexes to an existent list \n",
    "def append_indexes_to_list(df, existent_ford_model_indexes_list):\n",
    "    # Create a new list with indexes from the new df\n",
    "    ford_model_indexes_list = list(df.index)\n",
    "    # Loop to iterate over the existent list\n",
    "    for idx in existent_ford_model_indexes_list:\n",
    "        # Append the indexes to the new list\n",
    "        ford_model_indexes_list.append(idx)\n",
    "    # Return a list wit the items appended to the new list\n",
    "    return ford_model_indexes_list"
   ]
  },
  {
   "cell_type": "code",
   "execution_count": 34,
   "id": "27349659",
   "metadata": {},
   "outputs": [],
   "source": [
    "# Call the function to append the items from the EXISTENT list to an NEW list\n",
    "indexes_list_update_one = append_indexes_to_list(df_ford_contour, ford_explorer_indexes_list)"
   ]
  },
  {
   "cell_type": "code",
   "execution_count": 36,
   "id": "b6a45906",
   "metadata": {},
   "outputs": [
    {
     "name": "stderr",
     "output_type": "stream",
     "text": [
      "C:\\Users\\Weverson Barbieri\\AppData\\Local\\Temp\\ipykernel_19836\\3062641589.py:13: FutureWarning: ChainedAssignmentError: behaviour will change in pandas 3.0!\n",
      "You are setting values through chained assignment. Currently this works in certain cases, but when using Copy-on-Write (which will become the default behaviour in pandas 3.0) this will never work to update the original DataFrame or Series, because the intermediate object on which we are setting values will behave as a copy.\n",
      "A typical example is when you are setting values in a column of a DataFrame, like:\n",
      "\n",
      "df[\"col\"][row_indexer] = value\n",
      "\n",
      "Use `df.loc[row_indexer, \"col\"] = values` instead, to perform the assignment in a single step and ensure this keeps updating the original `df`.\n",
      "\n",
      "See the caveats in the documentation: https://pandas.pydata.org/pandas-docs/stable/user_guide/indexing.html#returning-a-view-versus-a-copy\n",
      "\n",
      "  df_resetted_index['Model'][idx] = f'{df_resetted_index['Model'][idx]} ({df_resetted_index['Security'][idx][0]})'\n",
      "C:\\Users\\Weverson Barbieri\\AppData\\Local\\Temp\\ipykernel_19836\\3062641589.py:13: SettingWithCopyWarning: \n",
      "A value is trying to be set on a copy of a slice from a DataFrame\n",
      "\n",
      "See the caveats in the documentation: https://pandas.pydata.org/pandas-docs/stable/user_guide/indexing.html#returning-a-view-versus-a-copy\n",
      "  df_resetted_index['Model'][idx] = f'{df_resetted_index['Model'][idx]} ({df_resetted_index['Security'][idx][0]})'\n"
     ]
    }
   ],
   "source": [
    "# Call the function to move the strings from column security to column model from MODEL: Explorer\n",
    "df_ford_explorer_moved_strings = move_string_to_column_model(df_ford_explorer)"
   ]
  },
  {
   "cell_type": "code",
   "execution_count": 37,
   "id": "7fd2712c",
   "metadata": {},
   "outputs": [
    {
     "data": {
      "text/html": [
       "<div>\n",
       "<style scoped>\n",
       "    .dataframe tbody tr th:only-of-type {\n",
       "        vertical-align: middle;\n",
       "    }\n",
       "\n",
       "    .dataframe tbody tr th {\n",
       "        vertical-align: top;\n",
       "    }\n",
       "\n",
       "    .dataframe thead th {\n",
       "        text-align: right;\n",
       "    }\n",
       "</style>\n",
       "<table border=\"1\" class=\"dataframe\">\n",
       "  <thead>\n",
       "    <tr style=\"text-align: right;\">\n",
       "      <th></th>\n",
       "      <th>Year</th>\n",
       "      <th>Make</th>\n",
       "      <th>Model</th>\n",
       "      <th>Security</th>\n",
       "      <th>ParameterReset</th>\n",
       "      <th>F-Series SD</th>\n",
       "    </tr>\n",
       "  </thead>\n",
       "  <tbody>\n",
       "    <tr>\n",
       "      <th>0</th>\n",
       "      <td>2001</td>\n",
       "      <td>Ford</td>\n",
       "      <td>Explorer Sport (2dr) (Built July 23rd 2000 or ...</td>\n",
       "      <td>PATS Type B (Stand Alone PATS Module)</td>\n",
       "      <td>Parameter Reset Required</td>\n",
       "      <td>False</td>\n",
       "    </tr>\n",
       "    <tr>\n",
       "      <th>1</th>\n",
       "      <td>2001</td>\n",
       "      <td>Ford</td>\n",
       "      <td>Explorer Sport (2dr) (Built July 24th 2000 or ...</td>\n",
       "      <td>PATS Type E (Powertrain Control Module)</td>\n",
       "      <td>Parameter Reset Required</td>\n",
       "      <td>False</td>\n",
       "    </tr>\n",
       "    <tr>\n",
       "      <th>2</th>\n",
       "      <td>2001</td>\n",
       "      <td>Ford</td>\n",
       "      <td>Explorer Sport Trac (Built July 23rd 2000 or E...</td>\n",
       "      <td>PATS Type B (Stand Alone PATS Module)</td>\n",
       "      <td>Parameter Reset Required</td>\n",
       "      <td>False</td>\n",
       "    </tr>\n",
       "    <tr>\n",
       "      <th>3</th>\n",
       "      <td>2001</td>\n",
       "      <td>Ford</td>\n",
       "      <td>Explorer Sport Trac (Built July 24th 2000 or L...</td>\n",
       "      <td>PATS Type E (Powertrain Control Module)</td>\n",
       "      <td>Parameter Reset Required</td>\n",
       "      <td>False</td>\n",
       "    </tr>\n",
       "  </tbody>\n",
       "</table>\n",
       "</div>"
      ],
      "text/plain": [
       "   Year  Make                                              Model  \\\n",
       "0  2001  Ford  Explorer Sport (2dr) (Built July 23rd 2000 or ...   \n",
       "1  2001  Ford  Explorer Sport (2dr) (Built July 24th 2000 or ...   \n",
       "2  2001  Ford  Explorer Sport Trac (Built July 23rd 2000 or E...   \n",
       "3  2001  Ford  Explorer Sport Trac (Built July 24th 2000 or L...   \n",
       "\n",
       "                                   Security            ParameterReset  \\\n",
       "0     PATS Type B (Stand Alone PATS Module)  Parameter Reset Required   \n",
       "1   PATS Type E (Powertrain Control Module)  Parameter Reset Required   \n",
       "2     PATS Type B (Stand Alone PATS Module)  Parameter Reset Required   \n",
       "3   PATS Type E (Powertrain Control Module)  Parameter Reset Required   \n",
       "\n",
       "   F-Series SD  \n",
       "0        False  \n",
       "1        False  \n",
       "2        False  \n",
       "3        False  "
      ]
     },
     "execution_count": 37,
     "metadata": {},
     "output_type": "execute_result"
    }
   ],
   "source": [
    "# Print the df after moving the strings\n",
    "df_ford_explorer_moved_strings"
   ]
  },
  {
   "cell_type": "code",
   "execution_count": 38,
   "id": "02d4de35",
   "metadata": {},
   "outputs": [],
   "source": [
    "# Call the function to create the df with given string from column security\n",
    "df_ford_eseries = create_df(df_ford_drop_fseries_indexes, \"Security\", \"Fleet Vehicles: PATS Type G (Instrument Cluster)\\nNon-Fleet Vehicles: PATS Type C (Instrument Cluster)\")"
   ]
  },
  {
   "cell_type": "code",
   "execution_count": 39,
   "id": "e493997b",
   "metadata": {},
   "outputs": [],
   "source": [
    "# Call the function to append the items from the EXISTENT list to an NEW list\n",
    "indexes_list_update_two = append_indexes_to_list(df_ford_eseries, indexes_list_update_one)"
   ]
  },
  {
   "cell_type": "code",
   "execution_count": 40,
   "id": "b3db5de2",
   "metadata": {},
   "outputs": [
    {
     "name": "stderr",
     "output_type": "stream",
     "text": [
      "C:\\Users\\Weverson Barbieri\\AppData\\Local\\Temp\\ipykernel_19836\\3062641589.py:13: FutureWarning: ChainedAssignmentError: behaviour will change in pandas 3.0!\n",
      "You are setting values through chained assignment. Currently this works in certain cases, but when using Copy-on-Write (which will become the default behaviour in pandas 3.0) this will never work to update the original DataFrame or Series, because the intermediate object on which we are setting values will behave as a copy.\n",
      "A typical example is when you are setting values in a column of a DataFrame, like:\n",
      "\n",
      "df[\"col\"][row_indexer] = value\n",
      "\n",
      "Use `df.loc[row_indexer, \"col\"] = values` instead, to perform the assignment in a single step and ensure this keeps updating the original `df`.\n",
      "\n",
      "See the caveats in the documentation: https://pandas.pydata.org/pandas-docs/stable/user_guide/indexing.html#returning-a-view-versus-a-copy\n",
      "\n",
      "  df_resetted_index['Model'][idx] = f'{df_resetted_index['Model'][idx]} ({df_resetted_index['Security'][idx][0]})'\n",
      "C:\\Users\\Weverson Barbieri\\AppData\\Local\\Temp\\ipykernel_19836\\3062641589.py:13: SettingWithCopyWarning: \n",
      "A value is trying to be set on a copy of a slice from a DataFrame\n",
      "\n",
      "See the caveats in the documentation: https://pandas.pydata.org/pandas-docs/stable/user_guide/indexing.html#returning-a-view-versus-a-copy\n",
      "  df_resetted_index['Model'][idx] = f'{df_resetted_index['Model'][idx]} ({df_resetted_index['Security'][idx][0]})'\n"
     ]
    }
   ],
   "source": [
    "# Call the function to move the strings from column security to column model from MODEL: E-Series\n",
    "df_ford_eseries_moved_strings = move_string_to_column_model(df_ford_eseries)"
   ]
  },
  {
   "cell_type": "code",
   "execution_count": 41,
   "id": "89cd986c",
   "metadata": {},
   "outputs": [
    {
     "data": {
      "text/html": [
       "<div>\n",
       "<style scoped>\n",
       "    .dataframe tbody tr th:only-of-type {\n",
       "        vertical-align: middle;\n",
       "    }\n",
       "\n",
       "    .dataframe tbody tr th {\n",
       "        vertical-align: top;\n",
       "    }\n",
       "\n",
       "    .dataframe thead th {\n",
       "        text-align: right;\n",
       "    }\n",
       "</style>\n",
       "<table border=\"1\" class=\"dataframe\">\n",
       "  <thead>\n",
       "    <tr style=\"text-align: right;\">\n",
       "      <th></th>\n",
       "      <th>Year</th>\n",
       "      <th>Make</th>\n",
       "      <th>Model</th>\n",
       "      <th>Security</th>\n",
       "      <th>ParameterReset</th>\n",
       "      <th>F-Series SD</th>\n",
       "    </tr>\n",
       "  </thead>\n",
       "  <tbody>\n",
       "    <tr>\n",
       "      <th>0</th>\n",
       "      <td>2008</td>\n",
       "      <td>Ford</td>\n",
       "      <td>E-Series (Fleet Vehicles)</td>\n",
       "      <td>PATS Type G (Instrument Cluster)</td>\n",
       "      <td>Parameter Reset Required</td>\n",
       "      <td>False</td>\n",
       "    </tr>\n",
       "    <tr>\n",
       "      <th>1</th>\n",
       "      <td>2008</td>\n",
       "      <td>Ford</td>\n",
       "      <td>E-Series (Non-Fleet Vehicles)</td>\n",
       "      <td>PATS Type C (Instrument Cluster)</td>\n",
       "      <td>Parameter Reset Required</td>\n",
       "      <td>False</td>\n",
       "    </tr>\n",
       "    <tr>\n",
       "      <th>2</th>\n",
       "      <td>2009</td>\n",
       "      <td>Ford</td>\n",
       "      <td>E-Series (Fleet Vehicles)</td>\n",
       "      <td>PATS Type G (Instrument Cluster)</td>\n",
       "      <td>Parameter Reset Required</td>\n",
       "      <td>False</td>\n",
       "    </tr>\n",
       "    <tr>\n",
       "      <th>3</th>\n",
       "      <td>2009</td>\n",
       "      <td>Ford</td>\n",
       "      <td>E-Series (Non-Fleet Vehicles)</td>\n",
       "      <td>PATS Type C (Instrument Cluster)</td>\n",
       "      <td>Parameter Reset Required</td>\n",
       "      <td>False</td>\n",
       "    </tr>\n",
       "    <tr>\n",
       "      <th>4</th>\n",
       "      <td>2010</td>\n",
       "      <td>Ford</td>\n",
       "      <td>E-Series (Fleet Vehicles)</td>\n",
       "      <td>PATS Type G (Instrument Cluster)</td>\n",
       "      <td>Parameter Reset Required</td>\n",
       "      <td>False</td>\n",
       "    </tr>\n",
       "    <tr>\n",
       "      <th>5</th>\n",
       "      <td>2010</td>\n",
       "      <td>Ford</td>\n",
       "      <td>E-Series (Non-Fleet Vehicles)</td>\n",
       "      <td>PATS Type C (Instrument Cluster)</td>\n",
       "      <td>Parameter Reset Required</td>\n",
       "      <td>False</td>\n",
       "    </tr>\n",
       "  </tbody>\n",
       "</table>\n",
       "</div>"
      ],
      "text/plain": [
       "   Year  Make                          Model  \\\n",
       "0  2008  Ford      E-Series (Fleet Vehicles)   \n",
       "1  2008  Ford  E-Series (Non-Fleet Vehicles)   \n",
       "2  2009  Ford      E-Series (Fleet Vehicles)   \n",
       "3  2009  Ford  E-Series (Non-Fleet Vehicles)   \n",
       "4  2010  Ford      E-Series (Fleet Vehicles)   \n",
       "5  2010  Ford  E-Series (Non-Fleet Vehicles)   \n",
       "\n",
       "                            Security            ParameterReset  F-Series SD  \n",
       "0   PATS Type G (Instrument Cluster)  Parameter Reset Required        False  \n",
       "1   PATS Type C (Instrument Cluster)  Parameter Reset Required        False  \n",
       "2   PATS Type G (Instrument Cluster)  Parameter Reset Required        False  \n",
       "3   PATS Type C (Instrument Cluster)  Parameter Reset Required        False  \n",
       "4   PATS Type G (Instrument Cluster)  Parameter Reset Required        False  \n",
       "5   PATS Type C (Instrument Cluster)  Parameter Reset Required        False  "
      ]
     },
     "execution_count": 41,
     "metadata": {},
     "output_type": "execute_result"
    }
   ],
   "source": [
    "# Print the df after moving the strings\n",
    "df_ford_eseries_moved_strings"
   ]
  },
  {
   "cell_type": "code",
   "execution_count": 42,
   "id": "494ec666",
   "metadata": {},
   "outputs": [],
   "source": [
    "# Call the function to create the df with given string from column security\n",
    "df_ford_fiesta = create_df(df_ford_drop_fseries_indexes, 'Security', 'Keyed Ignition: PATS Type A (Instrument Cluster)\\nPush To Start: PATS Type C (Remote Function Actuator / Keyless Vehicle Module)')"
   ]
  },
  {
   "cell_type": "code",
   "execution_count": 43,
   "id": "f47970fe",
   "metadata": {},
   "outputs": [],
   "source": [
    "# Call the function to append the items from the EXISTENT list to an NEW list\n",
    "indexes_list_update_three = append_indexes_to_list(df_ford_fiesta, indexes_list_update_two)"
   ]
  },
  {
   "cell_type": "code",
   "execution_count": 44,
   "id": "9c230003",
   "metadata": {},
   "outputs": [
    {
     "name": "stderr",
     "output_type": "stream",
     "text": [
      "C:\\Users\\Weverson Barbieri\\AppData\\Local\\Temp\\ipykernel_19836\\3062641589.py:13: FutureWarning: ChainedAssignmentError: behaviour will change in pandas 3.0!\n",
      "You are setting values through chained assignment. Currently this works in certain cases, but when using Copy-on-Write (which will become the default behaviour in pandas 3.0) this will never work to update the original DataFrame or Series, because the intermediate object on which we are setting values will behave as a copy.\n",
      "A typical example is when you are setting values in a column of a DataFrame, like:\n",
      "\n",
      "df[\"col\"][row_indexer] = value\n",
      "\n",
      "Use `df.loc[row_indexer, \"col\"] = values` instead, to perform the assignment in a single step and ensure this keeps updating the original `df`.\n",
      "\n",
      "See the caveats in the documentation: https://pandas.pydata.org/pandas-docs/stable/user_guide/indexing.html#returning-a-view-versus-a-copy\n",
      "\n",
      "  df_resetted_index['Model'][idx] = f'{df_resetted_index['Model'][idx]} ({df_resetted_index['Security'][idx][0]})'\n",
      "C:\\Users\\Weverson Barbieri\\AppData\\Local\\Temp\\ipykernel_19836\\3062641589.py:13: SettingWithCopyWarning: \n",
      "A value is trying to be set on a copy of a slice from a DataFrame\n",
      "\n",
      "See the caveats in the documentation: https://pandas.pydata.org/pandas-docs/stable/user_guide/indexing.html#returning-a-view-versus-a-copy\n",
      "  df_resetted_index['Model'][idx] = f'{df_resetted_index['Model'][idx]} ({df_resetted_index['Security'][idx][0]})'\n"
     ]
    }
   ],
   "source": [
    "# Call the function to move the strings from column security to column model from MODEL: Fiesta\n",
    "df_ford_fiesta_moved_strings = move_string_to_column_model(df_ford_fiesta)"
   ]
  },
  {
   "cell_type": "code",
   "execution_count": 45,
   "id": "bacc4991",
   "metadata": {},
   "outputs": [
    {
     "data": {
      "text/html": [
       "<div>\n",
       "<style scoped>\n",
       "    .dataframe tbody tr th:only-of-type {\n",
       "        vertical-align: middle;\n",
       "    }\n",
       "\n",
       "    .dataframe tbody tr th {\n",
       "        vertical-align: top;\n",
       "    }\n",
       "\n",
       "    .dataframe thead th {\n",
       "        text-align: right;\n",
       "    }\n",
       "</style>\n",
       "<table border=\"1\" class=\"dataframe\">\n",
       "  <thead>\n",
       "    <tr style=\"text-align: right;\">\n",
       "      <th></th>\n",
       "      <th>Year</th>\n",
       "      <th>Make</th>\n",
       "      <th>Model</th>\n",
       "      <th>Security</th>\n",
       "      <th>ParameterReset</th>\n",
       "      <th>F-Series SD</th>\n",
       "    </tr>\n",
       "  </thead>\n",
       "  <tbody>\n",
       "    <tr>\n",
       "      <th>0</th>\n",
       "      <td>2011</td>\n",
       "      <td>Ford</td>\n",
       "      <td>FIESTA (Keyed Ignition)</td>\n",
       "      <td>PATS Type A (Instrument Cluster)</td>\n",
       "      <td>Parameter Reset Required</td>\n",
       "      <td>False</td>\n",
       "    </tr>\n",
       "    <tr>\n",
       "      <th>1</th>\n",
       "      <td>2011</td>\n",
       "      <td>Ford</td>\n",
       "      <td>FIESTA (Push To Start)</td>\n",
       "      <td>PATS Type C (Remote Function Actuator / Keyle...</td>\n",
       "      <td>Parameter Reset Required</td>\n",
       "      <td>False</td>\n",
       "    </tr>\n",
       "    <tr>\n",
       "      <th>2</th>\n",
       "      <td>2012</td>\n",
       "      <td>Ford</td>\n",
       "      <td>FIESTA (Keyed Ignition)</td>\n",
       "      <td>PATS Type A (Instrument Cluster)</td>\n",
       "      <td>Parameter Reset Required</td>\n",
       "      <td>False</td>\n",
       "    </tr>\n",
       "    <tr>\n",
       "      <th>3</th>\n",
       "      <td>2012</td>\n",
       "      <td>Ford</td>\n",
       "      <td>FIESTA (Push To Start)</td>\n",
       "      <td>PATS Type C (Remote Function Actuator / Keyle...</td>\n",
       "      <td>Parameter Reset Required</td>\n",
       "      <td>False</td>\n",
       "    </tr>\n",
       "    <tr>\n",
       "      <th>4</th>\n",
       "      <td>2013</td>\n",
       "      <td>Ford</td>\n",
       "      <td>FIESTA (Keyed Ignition)</td>\n",
       "      <td>PATS Type A (Instrument Cluster)</td>\n",
       "      <td>Parameter Reset Required</td>\n",
       "      <td>False</td>\n",
       "    </tr>\n",
       "    <tr>\n",
       "      <th>5</th>\n",
       "      <td>2013</td>\n",
       "      <td>Ford</td>\n",
       "      <td>FIESTA (Push To Start)</td>\n",
       "      <td>PATS Type C (Remote Function Actuator / Keyle...</td>\n",
       "      <td>Parameter Reset Required</td>\n",
       "      <td>False</td>\n",
       "    </tr>\n",
       "  </tbody>\n",
       "</table>\n",
       "</div>"
      ],
      "text/plain": [
       "   Year  Make                    Model  \\\n",
       "0  2011  Ford  FIESTA (Keyed Ignition)   \n",
       "1  2011  Ford   FIESTA (Push To Start)   \n",
       "2  2012  Ford  FIESTA (Keyed Ignition)   \n",
       "3  2012  Ford   FIESTA (Push To Start)   \n",
       "4  2013  Ford  FIESTA (Keyed Ignition)   \n",
       "5  2013  Ford   FIESTA (Push To Start)   \n",
       "\n",
       "                                            Security  \\\n",
       "0                   PATS Type A (Instrument Cluster)   \n",
       "1   PATS Type C (Remote Function Actuator / Keyle...   \n",
       "2                   PATS Type A (Instrument Cluster)   \n",
       "3   PATS Type C (Remote Function Actuator / Keyle...   \n",
       "4                   PATS Type A (Instrument Cluster)   \n",
       "5   PATS Type C (Remote Function Actuator / Keyle...   \n",
       "\n",
       "             ParameterReset  F-Series SD  \n",
       "0  Parameter Reset Required        False  \n",
       "1  Parameter Reset Required        False  \n",
       "2  Parameter Reset Required        False  \n",
       "3  Parameter Reset Required        False  \n",
       "4  Parameter Reset Required        False  \n",
       "5  Parameter Reset Required        False  "
      ]
     },
     "execution_count": 45,
     "metadata": {},
     "output_type": "execute_result"
    }
   ],
   "source": [
    "# Print the df after moving the strings\n",
    "df_ford_fiesta_moved_strings"
   ]
  },
  {
   "cell_type": "code",
   "execution_count": 46,
   "id": "b2774e4b",
   "metadata": {},
   "outputs": [],
   "source": [
    "# Call the function to create the df with given string from column security\n",
    "df_ford_keyed_ignition = create_df(df_ford_drop_fseries_indexes, 'Security', 'Keyed Ignition: PATS Type C (Instrument Cluster)\\nPush To Start: PATS Type C (Remote Function Actuator / Keyless Vehicle Module)')"
   ]
  },
  {
   "cell_type": "code",
   "execution_count": 47,
   "id": "01b76906",
   "metadata": {},
   "outputs": [],
   "source": [
    "# Call the function to append the items from the EXISTENT list to an NEW list\n",
    "indexes_list_update_four = append_indexes_to_list(df_ford_keyed_ignition, indexes_list_update_three)"
   ]
  },
  {
   "cell_type": "code",
   "execution_count": 48,
   "id": "0f3c0e31",
   "metadata": {},
   "outputs": [
    {
     "name": "stderr",
     "output_type": "stream",
     "text": [
      "C:\\Users\\Weverson Barbieri\\AppData\\Local\\Temp\\ipykernel_19836\\3062641589.py:13: FutureWarning: ChainedAssignmentError: behaviour will change in pandas 3.0!\n",
      "You are setting values through chained assignment. Currently this works in certain cases, but when using Copy-on-Write (which will become the default behaviour in pandas 3.0) this will never work to update the original DataFrame or Series, because the intermediate object on which we are setting values will behave as a copy.\n",
      "A typical example is when you are setting values in a column of a DataFrame, like:\n",
      "\n",
      "df[\"col\"][row_indexer] = value\n",
      "\n",
      "Use `df.loc[row_indexer, \"col\"] = values` instead, to perform the assignment in a single step and ensure this keeps updating the original `df`.\n",
      "\n",
      "See the caveats in the documentation: https://pandas.pydata.org/pandas-docs/stable/user_guide/indexing.html#returning-a-view-versus-a-copy\n",
      "\n",
      "  df_resetted_index['Model'][idx] = f'{df_resetted_index['Model'][idx]} ({df_resetted_index['Security'][idx][0]})'\n",
      "C:\\Users\\Weverson Barbieri\\AppData\\Local\\Temp\\ipykernel_19836\\3062641589.py:13: SettingWithCopyWarning: \n",
      "A value is trying to be set on a copy of a slice from a DataFrame\n",
      "\n",
      "See the caveats in the documentation: https://pandas.pydata.org/pandas-docs/stable/user_guide/indexing.html#returning-a-view-versus-a-copy\n",
      "  df_resetted_index['Model'][idx] = f'{df_resetted_index['Model'][idx]} ({df_resetted_index['Security'][idx][0]})'\n"
     ]
    }
   ],
   "source": [
    "# Call the function to move the strings from column security to column model from MODEL: Taurus\n",
    "df_ford_keyed_ignition_moved_string = move_string_to_column_model(df_ford_keyed_ignition)"
   ]
  },
  {
   "cell_type": "code",
   "execution_count": 49,
   "id": "b17a7d6a",
   "metadata": {},
   "outputs": [
    {
     "data": {
      "text/html": [
       "<div>\n",
       "<style scoped>\n",
       "    .dataframe tbody tr th:only-of-type {\n",
       "        vertical-align: middle;\n",
       "    }\n",
       "\n",
       "    .dataframe tbody tr th {\n",
       "        vertical-align: top;\n",
       "    }\n",
       "\n",
       "    .dataframe thead th {\n",
       "        text-align: right;\n",
       "    }\n",
       "</style>\n",
       "<table border=\"1\" class=\"dataframe\">\n",
       "  <thead>\n",
       "    <tr style=\"text-align: right;\">\n",
       "      <th></th>\n",
       "      <th>Year</th>\n",
       "      <th>Make</th>\n",
       "      <th>Model</th>\n",
       "      <th>Security</th>\n",
       "      <th>ParameterReset</th>\n",
       "      <th>F-Series SD</th>\n",
       "    </tr>\n",
       "  </thead>\n",
       "  <tbody>\n",
       "    <tr>\n",
       "      <th>0</th>\n",
       "      <td>2010</td>\n",
       "      <td>Ford</td>\n",
       "      <td>Taurus (Keyed Ignition)</td>\n",
       "      <td>PATS Type C (Instrument Cluster)</td>\n",
       "      <td>Parameter Reset Required</td>\n",
       "      <td>False</td>\n",
       "    </tr>\n",
       "    <tr>\n",
       "      <th>1</th>\n",
       "      <td>2010</td>\n",
       "      <td>Ford</td>\n",
       "      <td>Taurus (Push To Start)</td>\n",
       "      <td>PATS Type C (Remote Function Actuator / Keyle...</td>\n",
       "      <td>Parameter Reset Required</td>\n",
       "      <td>False</td>\n",
       "    </tr>\n",
       "    <tr>\n",
       "      <th>2</th>\n",
       "      <td>2011</td>\n",
       "      <td>Ford</td>\n",
       "      <td>Taurus (Keyed Ignition)</td>\n",
       "      <td>PATS Type C (Instrument Cluster)</td>\n",
       "      <td>Parameter Reset Required</td>\n",
       "      <td>False</td>\n",
       "    </tr>\n",
       "    <tr>\n",
       "      <th>3</th>\n",
       "      <td>2011</td>\n",
       "      <td>Ford</td>\n",
       "      <td>Taurus (Push To Start)</td>\n",
       "      <td>PATS Type C (Remote Function Actuator / Keyle...</td>\n",
       "      <td>Parameter Reset Required</td>\n",
       "      <td>False</td>\n",
       "    </tr>\n",
       "    <tr>\n",
       "      <th>4</th>\n",
       "      <td>2012</td>\n",
       "      <td>Ford</td>\n",
       "      <td>Focus (Keyed Ignition)</td>\n",
       "      <td>PATS Type C (Instrument Cluster)</td>\n",
       "      <td>Parameter Reset Required</td>\n",
       "      <td>False</td>\n",
       "    </tr>\n",
       "    <tr>\n",
       "      <th>5</th>\n",
       "      <td>2012</td>\n",
       "      <td>Ford</td>\n",
       "      <td>Focus (Push To Start)</td>\n",
       "      <td>PATS Type C (Remote Function Actuator / Keyle...</td>\n",
       "      <td>Parameter Reset Required</td>\n",
       "      <td>False</td>\n",
       "    </tr>\n",
       "    <tr>\n",
       "      <th>6</th>\n",
       "      <td>2012</td>\n",
       "      <td>Ford</td>\n",
       "      <td>Taurus (Keyed Ignition)</td>\n",
       "      <td>PATS Type C (Instrument Cluster)</td>\n",
       "      <td>Parameter Reset Required</td>\n",
       "      <td>False</td>\n",
       "    </tr>\n",
       "    <tr>\n",
       "      <th>7</th>\n",
       "      <td>2012</td>\n",
       "      <td>Ford</td>\n",
       "      <td>Taurus (Push To Start)</td>\n",
       "      <td>PATS Type C (Remote Function Actuator / Keyle...</td>\n",
       "      <td>Parameter Reset Required</td>\n",
       "      <td>False</td>\n",
       "    </tr>\n",
       "    <tr>\n",
       "      <th>8</th>\n",
       "      <td>2013</td>\n",
       "      <td>Ford</td>\n",
       "      <td>Focus (Keyed Ignition)</td>\n",
       "      <td>PATS Type C (Instrument Cluster)</td>\n",
       "      <td>Parameter Reset Required</td>\n",
       "      <td>False</td>\n",
       "    </tr>\n",
       "    <tr>\n",
       "      <th>9</th>\n",
       "      <td>2013</td>\n",
       "      <td>Ford</td>\n",
       "      <td>Focus (Push To Start)</td>\n",
       "      <td>PATS Type C (Remote Function Actuator / Keyle...</td>\n",
       "      <td>Parameter Reset Required</td>\n",
       "      <td>False</td>\n",
       "    </tr>\n",
       "    <tr>\n",
       "      <th>10</th>\n",
       "      <td>2013</td>\n",
       "      <td>Ford</td>\n",
       "      <td>Taurus (Keyed Ignition)</td>\n",
       "      <td>PATS Type C (Instrument Cluster)</td>\n",
       "      <td>Parameter Reset Required</td>\n",
       "      <td>False</td>\n",
       "    </tr>\n",
       "    <tr>\n",
       "      <th>11</th>\n",
       "      <td>2013</td>\n",
       "      <td>Ford</td>\n",
       "      <td>Taurus (Push To Start)</td>\n",
       "      <td>PATS Type C (Remote Function Actuator / Keyle...</td>\n",
       "      <td>Parameter Reset Required</td>\n",
       "      <td>False</td>\n",
       "    </tr>\n",
       "  </tbody>\n",
       "</table>\n",
       "</div>"
      ],
      "text/plain": [
       "    Year  Make                    Model  \\\n",
       "0   2010  Ford  Taurus (Keyed Ignition)   \n",
       "1   2010  Ford   Taurus (Push To Start)   \n",
       "2   2011  Ford  Taurus (Keyed Ignition)   \n",
       "3   2011  Ford   Taurus (Push To Start)   \n",
       "4   2012  Ford   Focus (Keyed Ignition)   \n",
       "5   2012  Ford    Focus (Push To Start)   \n",
       "6   2012  Ford  Taurus (Keyed Ignition)   \n",
       "7   2012  Ford   Taurus (Push To Start)   \n",
       "8   2013  Ford   Focus (Keyed Ignition)   \n",
       "9   2013  Ford    Focus (Push To Start)   \n",
       "10  2013  Ford  Taurus (Keyed Ignition)   \n",
       "11  2013  Ford   Taurus (Push To Start)   \n",
       "\n",
       "                                             Security  \\\n",
       "0                    PATS Type C (Instrument Cluster)   \n",
       "1    PATS Type C (Remote Function Actuator / Keyle...   \n",
       "2                    PATS Type C (Instrument Cluster)   \n",
       "3    PATS Type C (Remote Function Actuator / Keyle...   \n",
       "4                    PATS Type C (Instrument Cluster)   \n",
       "5    PATS Type C (Remote Function Actuator / Keyle...   \n",
       "6                    PATS Type C (Instrument Cluster)   \n",
       "7    PATS Type C (Remote Function Actuator / Keyle...   \n",
       "8                    PATS Type C (Instrument Cluster)   \n",
       "9    PATS Type C (Remote Function Actuator / Keyle...   \n",
       "10                   PATS Type C (Instrument Cluster)   \n",
       "11   PATS Type C (Remote Function Actuator / Keyle...   \n",
       "\n",
       "              ParameterReset  F-Series SD  \n",
       "0   Parameter Reset Required        False  \n",
       "1   Parameter Reset Required        False  \n",
       "2   Parameter Reset Required        False  \n",
       "3   Parameter Reset Required        False  \n",
       "4   Parameter Reset Required        False  \n",
       "5   Parameter Reset Required        False  \n",
       "6   Parameter Reset Required        False  \n",
       "7   Parameter Reset Required        False  \n",
       "8   Parameter Reset Required        False  \n",
       "9   Parameter Reset Required        False  \n",
       "10  Parameter Reset Required        False  \n",
       "11  Parameter Reset Required        False  "
      ]
     },
     "execution_count": 49,
     "metadata": {},
     "output_type": "execute_result"
    }
   ],
   "source": [
    "# Print the df after moving the strings\n",
    "df_ford_keyed_ignition_moved_string"
   ]
  },
  {
   "cell_type": "code",
   "execution_count": 63,
   "id": "7259b1b8",
   "metadata": {},
   "outputs": [],
   "source": [
    "# Concatenate all dfs to the main df\n",
    "df_ford_models_str_moved_to_model = pd.concat([df_ford_drop_fseries_indexes, df_ford_fiesta_moved_strings, df_ford_contour_moved_strings, \n",
    "                                               df_ford_eseries_moved_strings, df_ford_explorer_moved_strings, df_ford_keyed_ignition_moved_string])"
   ]
  },
  {
   "cell_type": "code",
   "execution_count": 64,
   "id": "be5e8502",
   "metadata": {},
   "outputs": [],
   "source": [
    "# Drop the indexes with the old models and drop column with bool values (F-Series SD)\n",
    "df_ford_removed_old_models = df_ford_models_str_moved_to_model.drop(index=indexes_list_update_four, columns=['F-Series SD'])"
   ]
  },
  {
   "cell_type": "code",
   "execution_count": 65,
   "id": "b3fa45f7",
   "metadata": {},
   "outputs": [],
   "source": [
    "# Reset index\n",
    "df_ford_models_updated_reset_index = df_ford_removed_old_models.reset_index(drop=True)"
   ]
  },
  {
   "cell_type": "code",
   "execution_count": 66,
   "id": "dd87f074",
   "metadata": {},
   "outputs": [
    {
     "name": "stdout",
     "output_type": "stream",
     "text": [
      "{'Explorer (4dr)', 'E-Series (Non-Fleet Vehicles)', 'Windstar', 'FUSION', 'F-150 Heritage', 'F-650 Super Duty', 'Contour (V6-only) (Built February 2nd or later)', 'ESCAPE (Push to Start)', 'Expedition', 'Focus (Push To Start)', 'Contour (V6-only) (Built February 1st or earlier)', 'Explorer Sport (2dr) (Built July 23rd 2000 or Earlier)', 'Ranger (2.3L, 3.0L, & 4.0L)', 'Freestyle', 'FUSION (Hybrid)', 'FIESTA (Keyed Ignition)', 'Focus (Keyed Ignition)', 'Five Hundred', 'Explorer Sport Trac', 'E-Series (Fleet Vehicles)', 'Explorer Sport Trac (Built July 23rd 2000 or Earlier)', 'GT', 'Flex', 'C-MAX (Hybrid)', 'TRANSIT CONNECT', 'Escape', 'Crown Victoria', 'C-MAX (Hybrid) (Push to Start)', 'FLEX (Push to Start)', 'Taurus X', 'F-150 Harley-Davidson', 'F-150', 'Explorer Sport (2dr)', 'Excursion', 'FOCUS EV', 'Escape (Hybrid)', 'Edge', 'Taurus (Push To Start)', 'F-350 Super Duty', 'Taurus', 'Freestar', 'Fusion (Hybrid)', 'Focus', 'Taurus (Duratec & SHO only)', 'TRANSIT', 'FUSION EV', 'Explorer Sport Trac (Built July 24th 2000 or Later)', 'F-750 Super Duty', 'Fusion', 'Contour (V6-only)', 'FIESTA (Push To Start)', 'Edge(Push to Start)', 'Ranger (3.0L & 4.0L only)', 'Mustang', 'Taurus (Keyed Ignition)', 'Thunderbird', 'F-250 (under 8500# GVW)', 'F-450 Super Duty', 'E-Series', 'F-Series > 8500 (Stripped Chassis/Cab Chassis)', 'Explorer Sport (2dr) (Built July 24th 2000 or Later)'}\n"
     ]
    }
   ],
   "source": [
    "# Call the funtion to confirm all models are correct\n",
    "print(data_from_column(df_ford_models_updated_reset_index, 'Model'))"
   ]
  },
  {
   "cell_type": "code",
   "execution_count": 67,
   "id": "f1d72789",
   "metadata": {},
   "outputs": [
    {
     "data": {
      "text/plain": [
       "{' PATS Type A (Instrument Cluster)',\n",
       " ' PATS Type A (Stand Alone PATS Module)',\n",
       " ' PATS Type B (Stand Alone PATS Module)',\n",
       " ' PATS Type C (Instrument Cluster)',\n",
       " ' PATS Type C (Remote Function Actuator / Keyless Vehicle Module)',\n",
       " ' PATS Type E (Powertrain Control Module)',\n",
       " ' PATS Type G (Instrument Cluster)',\n",
       " 'PATS Type A (Instrument Cluster)',\n",
       " 'PATS Type A (Stand Alone PATS Module)',\n",
       " 'PATS Type B (Body Control Module)',\n",
       " 'PATS Type B (Stand Alone PATS Module)',\n",
       " 'PATS Type C (Instrument Cluster)',\n",
       " 'PATS Type C (Powertrain Control Module)',\n",
       " 'PATS Type C (Remote Function Actuator / Keyless Vehicle Module)',\n",
       " 'PATS Type E (Powertrain Control Module)',\n",
       " 'PATS Type F (Powertrain Control Module)',\n",
       " 'PATS Type G (Instrument Cluster)',\n",
       " 'PATS Type NA (No PATS)'}"
      ]
     },
     "execution_count": 67,
     "metadata": {},
     "output_type": "execute_result"
    }
   ],
   "source": [
    "# Call the funtion to confirm all models are correct\n",
    "data_from_column(df_ford_models_updated_reset_index, 'Security')"
   ]
  },
  {
   "cell_type": "markdown",
   "id": "38c87587",
   "metadata": {},
   "source": [
    "### PATS Type and Anti-Theft Module Location separation:\n",
    "PATS (Passive Anti-Theft System) Type and Anti-Theft Module Location are currently in the same column. However, the PATS Type defines which key learning procedure should be performed. To make it easier to indicate the correct procedure, it is necessary to separate this information. See below how it is currently and how it should look after the update.\n",
    "\n",
    "- Before changes:  \n",
    "Year: 2000  \n",
    "Make: Ford  \n",
    "Model: F-XX (Built February 1st or earlier)   \n",
    "Security: PATS Type G (Instrument Cluster)  \n",
    "\n",
    "- After changes:  \n",
    "Year: 2000  \n",
    "Make: Ford  \n",
    "Model: F-XX  \n",
    "PATS Type: PATS Type G  \n",
    "Anti-Theft Module Location: Instrument Cluster"
   ]
  },
  {
   "cell_type": "code",
   "execution_count": null,
   "id": "636f7250",
   "metadata": {},
   "outputs": [],
   "source": [
    "# This function will separate the columns as described above\n",
    "def split_pats_type_from_module_location(df):\n",
    "\n",
    "    # Split the security string considering the '(' as the delimiter\n",
    "    df['Security'] = df['Security'].str.split('(')\n",
    "\n",
    "    # Loop to iterate under the df indexes\n",
    "    for idx in df.index:\n",
    "        # Method to add a new column to the df, pulling the PATS Type from security column \n",
    "        df.at[idx, 'PATS Type'] = f'{df['Security'][idx][0]}'\n",
    "        # Remove the PATS Type from the security column\n",
    "        df['Security'][idx].pop(0)\n",
    "\n",
    "    # Extracts the string from list under security column  \n",
    "    df_anti_theft_module_location_list = df['Security'].str.join(' ')\n",
    "\n",
    "    # Update the df\n",
    "    df['Security'] = df_anti_theft_module_location_list\n",
    "\n",
    "    # Remove char ')' from column security\n",
    "    df['Security'] = df['Security'].str.replace(')', '', regex=False)\n",
    "\n",
    "    # Rename column security to 'Anti-Theft Module Location'\n",
    "    df = df.rename(columns={'Security': 'Anti-Theft Module Location'})\n",
    "\n",
    "    # Reorder columns \n",
    "    df_updated_reordered_columns = df[['Year', 'Make', 'Model', 'Anti-Theft Module Location', 'PATS Type', 'ParameterReset']]\n",
    "\n",
    "    # Return the df updated: columns for pats type and anti-theft module location separated\n",
    "    return df_updated_reordered_columns"
   ]
  },
  {
   "cell_type": "code",
   "execution_count": 69,
   "id": "d147f463",
   "metadata": {},
   "outputs": [],
   "source": [
    "# Call the function to separate columns pats type, security, rename columns security and reorder the columns\n",
    "df_ford_models_updated_reordering_columns = split_pats_type_from_module_location(df_ford_models_updated_reset_index)"
   ]
  },
  {
   "cell_type": "markdown",
   "id": "ddb98e84",
   "metadata": {},
   "source": [
    "### Check if the new column is correct has the correct string"
   ]
  },
  {
   "cell_type": "code",
   "execution_count": 70,
   "id": "701633f1",
   "metadata": {},
   "outputs": [
    {
     "data": {
      "text/plain": [
       "{'Body Control Module',\n",
       " 'Instrument Cluster',\n",
       " 'No PATS',\n",
       " 'Powertrain Control Module',\n",
       " 'Remote Function Actuator / Keyless Vehicle Module',\n",
       " 'Stand Alone PATS Module'}"
      ]
     },
     "execution_count": 70,
     "metadata": {},
     "output_type": "execute_result"
    }
   ],
   "source": [
    "data_from_column(df_ford_models_updated_reordering_columns, 'Anti-Theft Module Location')"
   ]
  },
  {
   "cell_type": "code",
   "execution_count": 71,
   "id": "44dd17fd",
   "metadata": {},
   "outputs": [
    {
     "data": {
      "text/plain": [
       "{' PATS Type A ',\n",
       " ' PATS Type B ',\n",
       " ' PATS Type C ',\n",
       " ' PATS Type E ',\n",
       " ' PATS Type G ',\n",
       " 'PATS Type A ',\n",
       " 'PATS Type B ',\n",
       " 'PATS Type C ',\n",
       " 'PATS Type E ',\n",
       " 'PATS Type F ',\n",
       " 'PATS Type G ',\n",
       " 'PATS Type NA '}"
      ]
     },
     "execution_count": 71,
     "metadata": {},
     "output_type": "execute_result"
    }
   ],
   "source": [
    "data_from_column(df_ford_models_updated_reordering_columns, 'PATS Type')"
   ]
  },
  {
   "cell_type": "code",
   "execution_count": 72,
   "id": "84298de8",
   "metadata": {},
   "outputs": [
    {
     "data": {
      "text/plain": [
       "{'Parameter Reset Not Required', 'Parameter Reset Required'}"
      ]
     },
     "execution_count": 72,
     "metadata": {},
     "output_type": "execute_result"
    }
   ],
   "source": [
    "# Check if column parameter reset needs to be change\n",
    "data_from_column(df_ford_models_updated_reordering_columns, 'ParameterReset')"
   ]
  },
  {
   "cell_type": "markdown",
   "id": "c8bd154c",
   "metadata": {},
   "source": [
    "### No changes needed in the ParameterReset column"
   ]
  },
  {
   "cell_type": "code",
   "execution_count": null,
   "id": "b00b29cb",
   "metadata": {},
   "outputs": [],
   "source": [
    "# Export the to .csv file\n",
    "# df_ford_models_updated_reordering_columns.to_csv('C:\\\\Language_Projects\\\\Language_Projects\\\\Python\\\\Flagship_1\\\\vehicle_security_system_data_cleaning\\\\data\\\\df_ford.csv', index=False)"
   ]
  }
 ],
 "metadata": {
  "kernelspec": {
   "display_name": "venv",
   "language": "python",
   "name": "python3"
  },
  "language_info": {
   "codemirror_mode": {
    "name": "ipython",
    "version": 3
   },
   "file_extension": ".py",
   "mimetype": "text/x-python",
   "name": "python",
   "nbconvert_exporter": "python",
   "pygments_lexer": "ipython3",
   "version": "3.12.2"
  }
 },
 "nbformat": 4,
 "nbformat_minor": 5
}
