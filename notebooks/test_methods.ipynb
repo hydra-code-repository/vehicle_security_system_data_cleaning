{
 "cells": [
  {
   "cell_type": "code",
   "execution_count": 1,
   "id": "511ace3d",
   "metadata": {},
   "outputs": [],
   "source": [
    "import pandas as pd"
   ]
  },
  {
   "cell_type": "code",
   "execution_count": 2,
   "id": "a0dc2a37",
   "metadata": {},
   "outputs": [],
   "source": [
    "# Read excel \n",
    "df = pd.read_excel('C:\\\\Language_Projects\\\\Language_Projects\\\\Python\\\\Flagship_1\\\\vehicle_security_system_data_cleaning\\\\data\\\\year_make_model_df.xlsx')"
   ]
  },
  {
   "cell_type": "code",
   "execution_count": 3,
   "id": "8a9e90eb",
   "metadata": {},
   "outputs": [],
   "source": [
    "# Converting all values in column Model to string, as some of models are numbers, for instance BMWs 318, 328, 525\n",
    "df = df.astype({'Model':'string'})"
   ]
  },
  {
   "cell_type": "code",
   "execution_count": 4,
   "id": "e429064d",
   "metadata": {},
   "outputs": [],
   "source": [
    "# Filter only Ford models and create a df.\n",
    "df_ford = df[df['Make'] == 'Ford']"
   ]
  },
  {
   "cell_type": "code",
   "execution_count": 5,
   "id": "3f3f03af",
   "metadata": {},
   "outputs": [],
   "source": [
    "# Create a df with the security column rows that has the 'Built...' info\n",
    "df_text_built_info = df_ford[df_ford['Security'] == 'Built February 1st or earlier: PATS Type A (Stand Alone PATS Module)\\nBuilt February 2nd or later: PATS Type E (Powertrain Control Module)']"
   ]
  },
  {
   "cell_type": "markdown",
   "id": "17b2a9ca",
   "metadata": {},
   "source": [
    "### Test methods:\n",
    "- copy()\n",
    "- str.split()\n",
    "- explode()"
   ]
  },
  {
   "cell_type": "code",
   "execution_count": null,
   "id": "4d630367",
   "metadata": {},
   "outputs": [],
   "source": [
    "# Check copy() method\n",
    "df_text_built_info_copied = df_text_built_info.copy()"
   ]
  },
  {
   "cell_type": "code",
   "execution_count": 7,
   "id": "b04c3f40",
   "metadata": {},
   "outputs": [],
   "source": [
    "# Check what this method does\n",
    "df_text_built_info_copied['Security'] = df_text_built_info_copied['Security'].str.split('\\n')"
   ]
  },
  {
   "cell_type": "code",
   "execution_count": 8,
   "id": "cbac4fe2",
   "metadata": {},
   "outputs": [
    {
     "data": {
      "text/plain": [
       "list"
      ]
     },
     "execution_count": 8,
     "metadata": {},
     "output_type": "execute_result"
    }
   ],
   "source": [
    "# Print the data type\n",
    "type(df_text_built_info_copied['Security'][325])"
   ]
  },
  {
   "cell_type": "code",
   "execution_count": 9,
   "id": "334a3bff",
   "metadata": {},
   "outputs": [
    {
     "data": {
      "text/plain": [
       "['Built February 1st or earlier: PATS Type A (Stand Alone PATS Module)',\n",
       " 'Built February 2nd or later: PATS Type E (Powertrain Control Module)']"
      ]
     },
     "execution_count": 9,
     "metadata": {},
     "output_type": "execute_result"
    }
   ],
   "source": [
    "# Print the security row\n",
    "df_text_built_info_copied['Security'][325]\n",
    "# Method str.split('pattern):\n",
    "# - Split the string in 2 based on the delimiter given (\\n)\n",
    "# - The result was given inside a list "
   ]
  },
  {
   "cell_type": "code",
   "execution_count": 10,
   "id": "98250dd3",
   "metadata": {},
   "outputs": [],
   "source": [
    "# Method explode()\n",
    "df_text_built_info_exploded = df_text_built_info_copied.explode('Security').reset_index(drop=True)"
   ]
  },
  {
   "cell_type": "code",
   "execution_count": null,
   "id": "656593ab",
   "metadata": {},
   "outputs": [
    {
     "data": {
      "text/plain": [
       "'Built February 1st or earlier: PATS Type A (Stand Alone PATS Module)'"
      ]
     },
     "execution_count": 26,
     "metadata": {},
     "output_type": "execute_result"
    }
   ],
   "source": [
    "# Print the exploded line (security) to see the results\n",
    "df_text_built_info_exploded['Security'][0]\n",
    "# Explode in 2 lines based on the list items quantity"
   ]
  },
  {
   "cell_type": "code",
   "execution_count": 27,
   "id": "2445d76f",
   "metadata": {},
   "outputs": [
    {
     "data": {
      "text/plain": [
       "'Built February 2nd or later: PATS Type E (Powertrain Control Module)'"
      ]
     },
     "execution_count": 27,
     "metadata": {},
     "output_type": "execute_result"
    }
   ],
   "source": [
    "# Print the exploded line (security) to see the results\n",
    "df_text_built_info_exploded['Security'][1]"
   ]
  }
 ],
 "metadata": {
  "kernelspec": {
   "display_name": "venv",
   "language": "python",
   "name": "python3"
  },
  "language_info": {
   "codemirror_mode": {
    "name": "ipython",
    "version": 3
   },
   "file_extension": ".py",
   "mimetype": "text/x-python",
   "name": "python",
   "nbconvert_exporter": "python",
   "pygments_lexer": "ipython3",
   "version": "3.12.2"
  }
 },
 "nbformat": 4,
 "nbformat_minor": 5
}
