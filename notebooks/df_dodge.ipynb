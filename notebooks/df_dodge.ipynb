{
 "cells": [
  {
   "cell_type": "code",
   "execution_count": 1,
   "metadata": {},
   "outputs": [],
   "source": [
    "import pandas as pd"
   ]
  },
  {
   "cell_type": "code",
   "execution_count": 2,
   "metadata": {},
   "outputs": [],
   "source": [
    "# Read excel\n",
    "df = pd.read_excel(\"C:\\\\Language_Projects\\\\Language_Projects\\\\Python\\\\Flagship_1\\\\vehicle_security_system_data_cleaning\\\\data\\\\year_make_model_df.xlsx\")"
   ]
  },
  {
   "cell_type": "code",
   "execution_count": null,
   "metadata": {},
   "outputs": [],
   "source": [
    "# Create df\n",
    "df_dodge = df[df[\"Make\"] == \"Dodge\"]"
   ]
  },
  {
   "cell_type": "code",
   "execution_count": 4,
   "metadata": {},
   "outputs": [],
   "source": [
    "# Function to create list with unique items from given column\n",
    "def data_from_column(df, column):\n",
    "    # List to append the items\n",
    "    data_column_list =[]\n",
    "\n",
    "    # Iterate over given column\n",
    "    for data in df[column]:\n",
    "        # Append the items from the given column\n",
    "        data_column_list.append(data)\n",
    "\n",
    "    # Return a set with unique items from given column\n",
    "    return set(data_column_list)"
   ]
  },
  {
   "cell_type": "code",
   "execution_count": 5,
   "metadata": {},
   "outputs": [
    {
     "name": "stdout",
     "output_type": "stream",
     "text": [
      "<class 'pandas.core.frame.DataFrame'>\n",
      "Index: 194 entries, 241 to 3258\n",
      "Data columns (total 5 columns):\n",
      " #   Column          Non-Null Count  Dtype \n",
      "---  ------          --------------  ----- \n",
      " 0   Year            194 non-null    int64 \n",
      " 1   Make            194 non-null    object\n",
      " 2   Model           194 non-null    object\n",
      " 3   Security        149 non-null    object\n",
      " 4   ParameterReset  12 non-null     object\n",
      "dtypes: int64(1), object(4)\n",
      "memory usage: 9.1+ KB\n"
     ]
    }
   ],
   "source": [
    "# Check how the df is\n",
    "df_dodge.info()"
   ]
  },
  {
   "cell_type": "code",
   "execution_count": 7,
   "metadata": {},
   "outputs": [
    {
     "data": {
      "text/plain": [
       "{'Avenger',\n",
       " 'Avenger Sedan',\n",
       " 'Caliber',\n",
       " 'Caravan',\n",
       " 'Challenger',\n",
       " 'Charger',\n",
       " 'Dakota',\n",
       " 'Dart',\n",
       " 'Durango',\n",
       " 'Intrepid',\n",
       " 'Journey',\n",
       " 'Magnum',\n",
       " 'Neon',\n",
       " 'Nitro',\n",
       " 'Ram',\n",
       " 'Ram 1500',\n",
       " 'Ram 2500',\n",
       " 'Ram 3500',\n",
       " 'Ram 4500',\n",
       " 'Ram 5500',\n",
       " 'Ram C/V',\n",
       " 'Ram Van',\n",
       " 'Sprinter',\n",
       " 'Stratus coupe',\n",
       " 'Stratus sedan',\n",
       " 'Viper'}"
      ]
     },
     "execution_count": 7,
     "metadata": {},
     "output_type": "execute_result"
    }
   ],
   "source": [
    "# Call the function to create a set with unique items from column model\n",
    "data_from_column(df_dodge, \"Model\")"
   ]
  },
  {
   "cell_type": "markdown",
   "metadata": {},
   "source": [
    "No changes are needed in column 'Model'"
   ]
  },
  {
   "cell_type": "code",
   "execution_count": 8,
   "metadata": {},
   "outputs": [
    {
     "data": {
      "text/plain": [
       "{'Opt',\n",
       " 'Opt (Std in Canada)',\n",
       " 'Std',\n",
       " 'Std\\nw/o  power windows\\n& power locks',\n",
       " 'Std\\nw/o  power windows & power locks',\n",
       " 'Std\\nw/o power windows\\n& power locks',\n",
       " 'Std\\nwith power windows & power locks',\n",
       " 'Std (Except Base)',\n",
       " 'Std with power\\nwindows & power locks',\n",
       " nan}"
      ]
     },
     "execution_count": 8,
     "metadata": {},
     "output_type": "execute_result"
    }
   ],
   "source": [
    "# Call the function to create a set with unique items from column security\n",
    "data_from_column(df_dodge, \"Security\")"
   ]
  },
  {
   "cell_type": "markdown",
   "metadata": {},
   "source": [
    "CHANGES NEEDED:\n",
    "- Fill out rows with null values\n",
    "- Replace the caractere '\\n'"
   ]
  },
  {
   "cell_type": "code",
   "execution_count": 9,
   "metadata": {},
   "outputs": [
    {
     "name": "stderr",
     "output_type": "stream",
     "text": [
      "C:\\Users\\Weverson Barbieri\\AppData\\Local\\Temp\\ipykernel_7216\\684934966.py:2: FutureWarning: A value is trying to be set on a copy of a DataFrame or Series through chained assignment using an inplace method.\n",
      "The behavior will change in pandas 3.0. This inplace method will never work because the intermediate object on which we are setting values always behaves as a copy.\n",
      "\n",
      "For example, when doing 'df[col].method(value, inplace=True)', try using 'df.method({col: value}, inplace=True)' or df[col] = df[col].method(value) instead, to perform the operation inplace on the original object.\n",
      "\n",
      "\n",
      "  df_dodge['Security'].fillna('Information not available', inplace=True)\n",
      "C:\\Users\\Weverson Barbieri\\AppData\\Local\\Temp\\ipykernel_7216\\684934966.py:2: SettingWithCopyWarning: \n",
      "A value is trying to be set on a copy of a slice from a DataFrame\n",
      "\n",
      "See the caveats in the documentation: https://pandas.pydata.org/pandas-docs/stable/user_guide/indexing.html#returning-a-view-versus-a-copy\n",
      "  df_dodge['Security'].fillna('Information not available', inplace=True)\n"
     ]
    }
   ],
   "source": [
    "# Fill out the rows with null values\n",
    "df_dodge['Security'].fillna('Information not available', inplace=True)"
   ]
  },
  {
   "cell_type": "code",
   "execution_count": 10,
   "metadata": {},
   "outputs": [
    {
     "name": "stderr",
     "output_type": "stream",
     "text": [
      "C:\\Users\\Weverson Barbieri\\AppData\\Local\\Temp\\ipykernel_7216\\1023540618.py:2: SettingWithCopyWarning: \n",
      "A value is trying to be set on a copy of a slice from a DataFrame.\n",
      "Try using .loc[row_indexer,col_indexer] = value instead\n",
      "\n",
      "See the caveats in the documentation: https://pandas.pydata.org/pandas-docs/stable/user_guide/indexing.html#returning-a-view-versus-a-copy\n",
      "  df_dodge['Security'] = df_dodge['Security'].str.replace('\\n', ' ', regex=False)\n"
     ]
    }
   ],
   "source": [
    "# Replace the caractere '\\n' by space ' '\n",
    "df_dodge['Security'] = df_dodge['Security'].str.replace('\\n', ' ', regex=False)"
   ]
  },
  {
   "cell_type": "markdown",
   "metadata": {},
   "source": [
    "Dodge PCMs do not require a parameter reset, but there are 12 rows w/ strings and before dropping this column, checking the strings to see what they are."
   ]
  },
  {
   "cell_type": "code",
   "execution_count": 14,
   "metadata": {},
   "outputs": [
    {
     "data": {
      "text/plain": [
       "{'Sentry Key Immobilizer System = Standard equipment',\n",
       " nan,\n",
       " '“SKREES” Sentry Key Remote Entry System (same as SKIS, the key remote entry module was combined with the Sentry Key Immobilizer Module, it’s still Sentry Key)'}"
      ]
     },
     "execution_count": 14,
     "metadata": {},
     "output_type": "execute_result"
    }
   ],
   "source": [
    "# Call the function to create a set with unique items from column 'ParameterReset'\n",
    "data_from_column(df_dodge, \"ParameterReset\")"
   ]
  },
  {
   "cell_type": "markdown",
   "metadata": {},
   "source": [
    "CHANGES NEEDED at column 'ParameterReset':\n",
    "- Rename the column's name to 'Security System Addiotional info'\n",
    "- Fill out all null values"
   ]
  },
  {
   "cell_type": "code",
   "execution_count": 15,
   "metadata": {},
   "outputs": [
    {
     "name": "stderr",
     "output_type": "stream",
     "text": [
      "C:\\Users\\Weverson Barbieri\\AppData\\Local\\Temp\\ipykernel_7216\\2262564047.py:2: FutureWarning: A value is trying to be set on a copy of a DataFrame or Series through chained assignment using an inplace method.\n",
      "The behavior will change in pandas 3.0. This inplace method will never work because the intermediate object on which we are setting values always behaves as a copy.\n",
      "\n",
      "For example, when doing 'df[col].method(value, inplace=True)', try using 'df.method({col: value}, inplace=True)' or df[col] = df[col].method(value) instead, to perform the operation inplace on the original object.\n",
      "\n",
      "\n",
      "  df_dodge['ParameterReset'].fillna('Information not available', inplace=True)\n",
      "C:\\Users\\Weverson Barbieri\\AppData\\Local\\Temp\\ipykernel_7216\\2262564047.py:2: SettingWithCopyWarning: \n",
      "A value is trying to be set on a copy of a slice from a DataFrame\n",
      "\n",
      "See the caveats in the documentation: https://pandas.pydata.org/pandas-docs/stable/user_guide/indexing.html#returning-a-view-versus-a-copy\n",
      "  df_dodge['ParameterReset'].fillna('Information not available', inplace=True)\n"
     ]
    }
   ],
   "source": [
    "# Fill out all null values\n",
    "df_dodge['ParameterReset'].fillna('Information not available', inplace=True)"
   ]
  },
  {
   "cell_type": "code",
   "execution_count": 16,
   "metadata": {},
   "outputs": [],
   "source": [
    "# Rename the column's name to 'Security System Addiotional info'\n",
    "df_dodge_updated = df_dodge.rename(columns={'ParameterReset': 'Dodge Security System Addiotional Info'})"
   ]
  },
  {
   "cell_type": "code",
   "execution_count": 17,
   "metadata": {},
   "outputs": [
    {
     "data": {
      "text/html": [
       "<div>\n",
       "<style scoped>\n",
       "    .dataframe tbody tr th:only-of-type {\n",
       "        vertical-align: middle;\n",
       "    }\n",
       "\n",
       "    .dataframe tbody tr th {\n",
       "        vertical-align: top;\n",
       "    }\n",
       "\n",
       "    .dataframe thead th {\n",
       "        text-align: right;\n",
       "    }\n",
       "</style>\n",
       "<table border=\"1\" class=\"dataframe\">\n",
       "  <thead>\n",
       "    <tr style=\"text-align: right;\">\n",
       "      <th></th>\n",
       "      <th>Year</th>\n",
       "      <th>Make</th>\n",
       "      <th>Model</th>\n",
       "      <th>Security</th>\n",
       "      <th>Dodge Security System Addiotional Info</th>\n",
       "    </tr>\n",
       "  </thead>\n",
       "  <tbody>\n",
       "    <tr>\n",
       "      <th>0</th>\n",
       "      <td>1997</td>\n",
       "      <td>Dodge</td>\n",
       "      <td>Caravan</td>\n",
       "      <td>Information not available</td>\n",
       "      <td>Information not available</td>\n",
       "    </tr>\n",
       "    <tr>\n",
       "      <th>1</th>\n",
       "      <td>1997</td>\n",
       "      <td>Dodge</td>\n",
       "      <td>Dakota</td>\n",
       "      <td>Information not available</td>\n",
       "      <td>Information not available</td>\n",
       "    </tr>\n",
       "    <tr>\n",
       "      <th>2</th>\n",
       "      <td>1997</td>\n",
       "      <td>Dodge</td>\n",
       "      <td>Neon</td>\n",
       "      <td>Information not available</td>\n",
       "      <td>Information not available</td>\n",
       "    </tr>\n",
       "    <tr>\n",
       "      <th>3</th>\n",
       "      <td>1997</td>\n",
       "      <td>Dodge</td>\n",
       "      <td>Ram Van</td>\n",
       "      <td>Information not available</td>\n",
       "      <td>Information not available</td>\n",
       "    </tr>\n",
       "    <tr>\n",
       "      <th>4</th>\n",
       "      <td>1997</td>\n",
       "      <td>Dodge</td>\n",
       "      <td>Stratus sedan</td>\n",
       "      <td>Information not available</td>\n",
       "      <td>Information not available</td>\n",
       "    </tr>\n",
       "    <tr>\n",
       "      <th>...</th>\n",
       "      <td>...</td>\n",
       "      <td>...</td>\n",
       "      <td>...</td>\n",
       "      <td>...</td>\n",
       "      <td>...</td>\n",
       "    </tr>\n",
       "    <tr>\n",
       "      <th>189</th>\n",
       "      <td>2013</td>\n",
       "      <td>Dodge</td>\n",
       "      <td>Ram 3500</td>\n",
       "      <td>Std</td>\n",
       "      <td>Information not available</td>\n",
       "    </tr>\n",
       "    <tr>\n",
       "      <th>190</th>\n",
       "      <td>2013</td>\n",
       "      <td>Dodge</td>\n",
       "      <td>Ram 4500</td>\n",
       "      <td>Std</td>\n",
       "      <td>Information not available</td>\n",
       "    </tr>\n",
       "    <tr>\n",
       "      <th>191</th>\n",
       "      <td>2013</td>\n",
       "      <td>Dodge</td>\n",
       "      <td>Ram 5500</td>\n",
       "      <td>Std</td>\n",
       "      <td>Information not available</td>\n",
       "    </tr>\n",
       "    <tr>\n",
       "      <th>192</th>\n",
       "      <td>2013</td>\n",
       "      <td>Dodge</td>\n",
       "      <td>Ram C/V</td>\n",
       "      <td>Std</td>\n",
       "      <td>Information not available</td>\n",
       "    </tr>\n",
       "    <tr>\n",
       "      <th>193</th>\n",
       "      <td>2013</td>\n",
       "      <td>Dodge</td>\n",
       "      <td>Viper</td>\n",
       "      <td>Std</td>\n",
       "      <td>Information not available</td>\n",
       "    </tr>\n",
       "  </tbody>\n",
       "</table>\n",
       "<p>194 rows × 5 columns</p>\n",
       "</div>"
      ],
      "text/plain": [
       "     Year   Make          Model                   Security  \\\n",
       "0    1997  Dodge        Caravan  Information not available   \n",
       "1    1997  Dodge         Dakota  Information not available   \n",
       "2    1997  Dodge           Neon  Information not available   \n",
       "3    1997  Dodge        Ram Van  Information not available   \n",
       "4    1997  Dodge  Stratus sedan  Information not available   \n",
       "..    ...    ...            ...                        ...   \n",
       "189  2013  Dodge       Ram 3500                        Std   \n",
       "190  2013  Dodge       Ram 4500                        Std   \n",
       "191  2013  Dodge       Ram 5500                        Std   \n",
       "192  2013  Dodge        Ram C/V                        Std   \n",
       "193  2013  Dodge          Viper                        Std   \n",
       "\n",
       "    Dodge Security System Addiotional Info  \n",
       "0                Information not available  \n",
       "1                Information not available  \n",
       "2                Information not available  \n",
       "3                Information not available  \n",
       "4                Information not available  \n",
       "..                                     ...  \n",
       "189              Information not available  \n",
       "190              Information not available  \n",
       "191              Information not available  \n",
       "192              Information not available  \n",
       "193              Information not available  \n",
       "\n",
       "[194 rows x 5 columns]"
      ]
     },
     "execution_count": 17,
     "metadata": {},
     "output_type": "execute_result"
    }
   ],
   "source": [
    "# Reset index\n",
    "df_dodge_updated.reset_index(drop=True)"
   ]
  },
  {
   "cell_type": "code",
   "execution_count": null,
   "metadata": {},
   "outputs": [],
   "source": [
    "# Export the to .csv file\n",
    "# df_dodge_updated.to_csv('C:\\\\Language_Projects\\\\Language_Projects\\\\Python\\\\Flagship_1\\\\vehicle_security_system_data_cleaning\\\\data\\\\df_dodge.csv', index=False)"
   ]
  }
 ],
 "metadata": {
  "kernelspec": {
   "display_name": "venv",
   "language": "python",
   "name": "python3"
  },
  "language_info": {
   "codemirror_mode": {
    "name": "ipython",
    "version": 3
   },
   "file_extension": ".py",
   "mimetype": "text/x-python",
   "name": "python",
   "nbconvert_exporter": "python",
   "pygments_lexer": "ipython3",
   "version": "3.12.2"
  }
 },
 "nbformat": 4,
 "nbformat_minor": 2
}
